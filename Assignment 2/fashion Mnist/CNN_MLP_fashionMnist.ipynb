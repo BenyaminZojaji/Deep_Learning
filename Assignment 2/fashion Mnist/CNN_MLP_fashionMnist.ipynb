{
  "nbformat": 4,
  "nbformat_minor": 0,
  "metadata": {
    "colab": {
      "name": "CNN-MLP-fashionMnist.ipynb",
      "provenance": [],
      "authorship_tag": "ABX9TyMe8hDusZGZqC3lpgT66cHb",
      "include_colab_link": true
    },
    "kernelspec": {
      "name": "python3",
      "display_name": "Python 3"
    },
    "language_info": {
      "name": "python"
    },
    "widgets": {
      "application/vnd.jupyter.widget-state+json": {
        "2fefc1cb07d04a329c17067300a3fc69": {
          "model_module": "@jupyter-widgets/controls",
          "model_name": "VBoxModel",
          "model_module_version": "1.5.0",
          "state": {
            "_view_name": "VBoxView",
            "_dom_classes": [],
            "_model_name": "VBoxModel",
            "_view_module": "@jupyter-widgets/controls",
            "_model_module_version": "1.5.0",
            "_view_count": null,
            "_view_module_version": "1.5.0",
            "box_style": "",
            "layout": "IPY_MODEL_11b5b614ee26450089b95fd50809fa80",
            "_model_module": "@jupyter-widgets/controls",
            "children": [
              "IPY_MODEL_8eb40726e0df4382af88ea52876350f7",
              "IPY_MODEL_0fb8a0e764f049b5b82ad538fdcf2f40"
            ]
          }
        },
        "11b5b614ee26450089b95fd50809fa80": {
          "model_module": "@jupyter-widgets/base",
          "model_name": "LayoutModel",
          "model_module_version": "1.2.0",
          "state": {
            "_view_name": "LayoutView",
            "grid_template_rows": null,
            "right": null,
            "justify_content": null,
            "_view_module": "@jupyter-widgets/base",
            "overflow": null,
            "_model_module_version": "1.2.0",
            "_view_count": null,
            "flex_flow": null,
            "width": null,
            "min_width": null,
            "border": null,
            "align_items": null,
            "bottom": null,
            "_model_module": "@jupyter-widgets/base",
            "top": null,
            "grid_column": null,
            "overflow_y": null,
            "overflow_x": null,
            "grid_auto_flow": null,
            "grid_area": null,
            "grid_template_columns": null,
            "flex": null,
            "_model_name": "LayoutModel",
            "justify_items": null,
            "grid_row": null,
            "max_height": null,
            "align_content": null,
            "visibility": null,
            "align_self": null,
            "height": null,
            "min_height": null,
            "padding": null,
            "grid_auto_rows": null,
            "grid_gap": null,
            "max_width": null,
            "order": null,
            "_view_module_version": "1.2.0",
            "grid_template_areas": null,
            "object_position": null,
            "object_fit": null,
            "grid_auto_columns": null,
            "margin": null,
            "display": null,
            "left": null
          }
        },
        "8eb40726e0df4382af88ea52876350f7": {
          "model_module": "@jupyter-widgets/controls",
          "model_name": "LabelModel",
          "model_module_version": "1.5.0",
          "state": {
            "_view_name": "LabelView",
            "style": "IPY_MODEL_b1fa5224fe33489394d8fac82b53d2b9",
            "_dom_classes": [],
            "description": "",
            "_model_name": "LabelModel",
            "placeholder": "​",
            "_view_module": "@jupyter-widgets/controls",
            "_model_module_version": "1.5.0",
            "value": "0.517 MB of 0.517 MB uploaded (0.000 MB deduped)\r",
            "_view_count": null,
            "_view_module_version": "1.5.0",
            "description_tooltip": null,
            "_model_module": "@jupyter-widgets/controls",
            "layout": "IPY_MODEL_b61ea4f3db654873af5e29224b600018"
          }
        },
        "0fb8a0e764f049b5b82ad538fdcf2f40": {
          "model_module": "@jupyter-widgets/controls",
          "model_name": "FloatProgressModel",
          "model_module_version": "1.5.0",
          "state": {
            "_view_name": "ProgressView",
            "style": "IPY_MODEL_9ec6008c618c4fc6a008d98d1dcbf89c",
            "_dom_classes": [],
            "description": "",
            "_model_name": "FloatProgressModel",
            "bar_style": "",
            "max": 1,
            "_view_module": "@jupyter-widgets/controls",
            "_model_module_version": "1.5.0",
            "value": 1,
            "_view_count": null,
            "_view_module_version": "1.5.0",
            "orientation": "horizontal",
            "min": 0,
            "description_tooltip": null,
            "_model_module": "@jupyter-widgets/controls",
            "layout": "IPY_MODEL_aa8bcf8fcd7b46bea2c91e3b8a283537"
          }
        },
        "b1fa5224fe33489394d8fac82b53d2b9": {
          "model_module": "@jupyter-widgets/controls",
          "model_name": "DescriptionStyleModel",
          "model_module_version": "1.5.0",
          "state": {
            "_view_name": "StyleView",
            "_model_name": "DescriptionStyleModel",
            "description_width": "",
            "_view_module": "@jupyter-widgets/base",
            "_model_module_version": "1.5.0",
            "_view_count": null,
            "_view_module_version": "1.2.0",
            "_model_module": "@jupyter-widgets/controls"
          }
        },
        "b61ea4f3db654873af5e29224b600018": {
          "model_module": "@jupyter-widgets/base",
          "model_name": "LayoutModel",
          "model_module_version": "1.2.0",
          "state": {
            "_view_name": "LayoutView",
            "grid_template_rows": null,
            "right": null,
            "justify_content": null,
            "_view_module": "@jupyter-widgets/base",
            "overflow": null,
            "_model_module_version": "1.2.0",
            "_view_count": null,
            "flex_flow": null,
            "width": null,
            "min_width": null,
            "border": null,
            "align_items": null,
            "bottom": null,
            "_model_module": "@jupyter-widgets/base",
            "top": null,
            "grid_column": null,
            "overflow_y": null,
            "overflow_x": null,
            "grid_auto_flow": null,
            "grid_area": null,
            "grid_template_columns": null,
            "flex": null,
            "_model_name": "LayoutModel",
            "justify_items": null,
            "grid_row": null,
            "max_height": null,
            "align_content": null,
            "visibility": null,
            "align_self": null,
            "height": null,
            "min_height": null,
            "padding": null,
            "grid_auto_rows": null,
            "grid_gap": null,
            "max_width": null,
            "order": null,
            "_view_module_version": "1.2.0",
            "grid_template_areas": null,
            "object_position": null,
            "object_fit": null,
            "grid_auto_columns": null,
            "margin": null,
            "display": null,
            "left": null
          }
        },
        "9ec6008c618c4fc6a008d98d1dcbf89c": {
          "model_module": "@jupyter-widgets/controls",
          "model_name": "ProgressStyleModel",
          "model_module_version": "1.5.0",
          "state": {
            "_view_name": "StyleView",
            "_model_name": "ProgressStyleModel",
            "description_width": "",
            "_view_module": "@jupyter-widgets/base",
            "_model_module_version": "1.5.0",
            "_view_count": null,
            "_view_module_version": "1.2.0",
            "bar_color": null,
            "_model_module": "@jupyter-widgets/controls"
          }
        },
        "aa8bcf8fcd7b46bea2c91e3b8a283537": {
          "model_module": "@jupyter-widgets/base",
          "model_name": "LayoutModel",
          "model_module_version": "1.2.0",
          "state": {
            "_view_name": "LayoutView",
            "grid_template_rows": null,
            "right": null,
            "justify_content": null,
            "_view_module": "@jupyter-widgets/base",
            "overflow": null,
            "_model_module_version": "1.2.0",
            "_view_count": null,
            "flex_flow": null,
            "width": null,
            "min_width": null,
            "border": null,
            "align_items": null,
            "bottom": null,
            "_model_module": "@jupyter-widgets/base",
            "top": null,
            "grid_column": null,
            "overflow_y": null,
            "overflow_x": null,
            "grid_auto_flow": null,
            "grid_area": null,
            "grid_template_columns": null,
            "flex": null,
            "_model_name": "LayoutModel",
            "justify_items": null,
            "grid_row": null,
            "max_height": null,
            "align_content": null,
            "visibility": null,
            "align_self": null,
            "height": null,
            "min_height": null,
            "padding": null,
            "grid_auto_rows": null,
            "grid_gap": null,
            "max_width": null,
            "order": null,
            "_view_module_version": "1.2.0",
            "grid_template_areas": null,
            "object_position": null,
            "object_fit": null,
            "grid_auto_columns": null,
            "margin": null,
            "display": null,
            "left": null
          }
        }
      }
    }
  },
  "cells": [
    {
      "cell_type": "markdown",
      "metadata": {
        "id": "view-in-github",
        "colab_type": "text"
      },
      "source": [
        "<a href=\"https://colab.research.google.com/github/BenyaminZojaji/Deep_Learning/blob/main/Assignment%202/fashion%20Mnist/CNN_MLP_fashionMnist.ipynb\" target=\"_parent\"><img src=\"https://colab.research.google.com/assets/colab-badge.svg\" alt=\"Open In Colab\"/></a>"
      ]
    },
    {
      "cell_type": "code",
      "execution_count": null,
      "metadata": {
        "id": "XsYFDMEfFr-v"
      },
      "outputs": [],
      "source": [
        "!pip install wandb"
      ]
    },
    {
      "cell_type": "markdown",
      "source": [
        "### Import libraries"
      ],
      "metadata": {
        "id": "_1MWfNv7HVss"
      }
    },
    {
      "cell_type": "code",
      "source": [
        "import tensorflow as tf\n",
        "from tensorflow.keras import layers\n",
        "import numpy as np\n",
        "from sklearn.model_selection import train_test_split\n",
        "import wandb\n",
        "from wandb.keras import WandbCallback"
      ],
      "metadata": {
        "id": "C6F2F7lPHTlw"
      },
      "execution_count": 2,
      "outputs": []
    },
    {
      "cell_type": "markdown",
      "source": [
        "### wandb configuration"
      ],
      "metadata": {
        "id": "ctu9nq6RHY1e"
      }
    },
    {
      "cell_type": "code",
      "source": [
        "wandb.init(project=\"CNN-MLP-fashionMnist\", entity=\"benyaminzojaji\")"
      ],
      "metadata": {
        "colab": {
          "base_uri": "https://localhost:8080/",
          "height": 427,
          "referenced_widgets": [
            "2fefc1cb07d04a329c17067300a3fc69",
            "11b5b614ee26450089b95fd50809fa80",
            "8eb40726e0df4382af88ea52876350f7",
            "0fb8a0e764f049b5b82ad538fdcf2f40",
            "b1fa5224fe33489394d8fac82b53d2b9",
            "b61ea4f3db654873af5e29224b600018",
            "9ec6008c618c4fc6a008d98d1dcbf89c",
            "aa8bcf8fcd7b46bea2c91e3b8a283537"
          ]
        },
        "id": "MIacplgOHdr9",
        "outputId": "8552597f-a89c-4099-b988-829243516661"
      },
      "execution_count": 32,
      "outputs": [
        {
          "output_type": "display_data",
          "data": {
            "text/html": [
              "Finishing last run (ID:3bh37342) before initializing another..."
            ],
            "text/plain": [
              "<IPython.core.display.HTML object>"
            ]
          },
          "metadata": {}
        },
        {
          "output_type": "stream",
          "name": "stdout",
          "text": [
            "\n"
          ]
        },
        {
          "output_type": "display_data",
          "data": {
            "text/html": [
              "Waiting for W&B process to finish... <strong style=\"color:green\">(success).</strong>"
            ],
            "text/plain": [
              "<IPython.core.display.HTML object>"
            ]
          },
          "metadata": {}
        },
        {
          "output_type": "display_data",
          "data": {
            "application/vnd.jupyter.widget-view+json": {
              "model_id": "2fefc1cb07d04a329c17067300a3fc69",
              "version_minor": 0,
              "version_major": 2
            },
            "text/plain": [
              "VBox(children=(Label(value='0.498 MB of 0.498 MB uploaded (0.000 MB deduped)\\r'), FloatProgress(value=1.0, max…"
            ]
          },
          "metadata": {}
        },
        {
          "output_type": "display_data",
          "data": {
            "text/html": [
              "<style>\n",
              "    table.wandb td:nth-child(1) { padding: 0 10px; text-align: right }\n",
              "    .wandb-row { display: flex; flex-direction: row; flex-wrap: wrap; width: 100% }\n",
              "    .wandb-col { display: flex; flex-direction: column; flex-basis: 100%; flex: 1; padding: 10px; }\n",
              "    </style>\n",
              "<div class=\"wandb-row\"><div class=\"wandb-col\"><h3>Run history:</h3><br/><table class=\"wandb\"><tr><td>accuracy</td><td>▁▅▇██</td></tr><tr><td>epoch</td><td>▁▃▅▆█</td></tr><tr><td>loss</td><td>█▅▂▁▁</td></tr><tr><td>val_accuracy</td><td>▁▇▇██</td></tr><tr><td>val_loss</td><td>█▂▂▁▁</td></tr></table><br/></div><div class=\"wandb-col\"><h3>Run summary:</h3><br/><table class=\"wandb\"><tr><td>accuracy</td><td>0.72727</td></tr><tr><td>best_epoch</td><td>4</td></tr><tr><td>best_val_loss</td><td>0.71716</td></tr><tr><td>epoch</td><td>4</td></tr><tr><td>loss</td><td>0.73904</td></tr><tr><td>val_accuracy</td><td>0.7315</td></tr><tr><td>val_loss</td><td>0.71716</td></tr></table><br/></div></div>"
            ],
            "text/plain": [
              "<IPython.core.display.HTML object>"
            ]
          },
          "metadata": {}
        },
        {
          "output_type": "display_data",
          "data": {
            "text/html": [
              "Synced <strong style=\"color:#cdcd00\">distinctive-glade-3</strong>: <a href=\"https://wandb.ai/benyaminzojaji/CNN-MLP-fashionMnist/runs/3bh37342\" target=\"_blank\">https://wandb.ai/benyaminzojaji/CNN-MLP-fashionMnist/runs/3bh37342</a><br/>Synced 5 W&B file(s), 1 media file(s), 0 artifact file(s) and 1 other file(s)"
            ],
            "text/plain": [
              "<IPython.core.display.HTML object>"
            ]
          },
          "metadata": {}
        },
        {
          "output_type": "display_data",
          "data": {
            "text/html": [
              "Find logs at: <code>./wandb/run-20220305_081935-3bh37342/logs</code>"
            ],
            "text/plain": [
              "<IPython.core.display.HTML object>"
            ]
          },
          "metadata": {}
        },
        {
          "output_type": "display_data",
          "data": {
            "text/html": [
              "Successfully finished last run (ID:3bh37342). Initializing new run:<br/>"
            ],
            "text/plain": [
              "<IPython.core.display.HTML object>"
            ]
          },
          "metadata": {}
        },
        {
          "output_type": "display_data",
          "data": {
            "text/html": [
              "Tracking run with wandb version 0.12.11"
            ],
            "text/plain": [
              "<IPython.core.display.HTML object>"
            ]
          },
          "metadata": {}
        },
        {
          "output_type": "display_data",
          "data": {
            "text/html": [
              "Run data is saved locally in <code>/content/wandb/run-20220305_082632-3mscfazu</code>"
            ],
            "text/plain": [
              "<IPython.core.display.HTML object>"
            ]
          },
          "metadata": {}
        },
        {
          "output_type": "display_data",
          "data": {
            "text/html": [
              "Syncing run <strong><a href=\"https://wandb.ai/benyaminzojaji/CNN-MLP-fashionMnist/runs/3mscfazu\" target=\"_blank\">resilient-donkey-4</a></strong> to <a href=\"https://wandb.ai/benyaminzojaji/CNN-MLP-fashionMnist\" target=\"_blank\">Weights & Biases</a> (<a href=\"https://wandb.me/run\" target=\"_blank\">docs</a>)<br/>"
            ],
            "text/plain": [
              "<IPython.core.display.HTML object>"
            ]
          },
          "metadata": {}
        },
        {
          "output_type": "execute_result",
          "data": {
            "text/plain": [
              "<wandb.sdk.wandb_run.Run at 0x7f0fd7f9b610>"
            ],
            "text/html": [
              "<button onClick=\"this.nextSibling.style.display='block';this.style.display='none';\">Display W&B run</button><iframe src=\"https://wandb.ai/benyaminzojaji/CNN-MLP-fashionMnist/runs/3mscfazu?jupyter=true\" style=\"border:none;width:100%;height:420px;display:none;\"></iframe>"
            ]
          },
          "metadata": {},
          "execution_count": 32
        }
      ]
    },
    {
      "cell_type": "code",
      "source": [
        "config = wandb.config\n",
        "config.learning_rate = 0.001"
      ],
      "metadata": {
        "id": "d57e-7AwHteM"
      },
      "execution_count": 33,
      "outputs": []
    },
    {
      "cell_type": "markdown",
      "source": [
        "### Dataset"
      ],
      "metadata": {
        "id": "1KH7BOqIHy87"
      }
    },
    {
      "cell_type": "code",
      "source": [
        "fashionMnist = tf.keras.datasets.fashion_mnist\n",
        "(X_train, Y_train), (X_test, Y_test) = fashionMnist.load_data()\n",
        "\n",
        "# normalization\n",
        "X_train = X_train / 255.0\n",
        "X_test = X_test / 255.0"
      ],
      "metadata": {
        "id": "bA2xyyXVH289"
      },
      "execution_count": 34,
      "outputs": []
    },
    {
      "cell_type": "code",
      "source": [
        "X_train, X_val, Y_train, Y_val = train_test_split(X_train, Y_train, test_size=0.2, random_state=24)"
      ],
      "metadata": {
        "id": "deEMah3RIEKZ"
      },
      "execution_count": 35,
      "outputs": []
    },
    {
      "cell_type": "markdown",
      "source": [
        "### MLP Model"
      ],
      "metadata": {
        "id": "f_Hs3TK0IKb7"
      }
    },
    {
      "cell_type": "code",
      "source": [
        "model = tf.keras.models.Sequential([\n",
        "                                    tf.keras.layers.Flatten(input_shape=(28, 28)),\n",
        "                                    layers.Dense(48, activation='relu'),\n",
        "                                    layers.Dense(10, activation='softmax')\n",
        "])"
      ],
      "metadata": {
        "id": "1El4MzKaIMuc"
      },
      "execution_count": 7,
      "outputs": []
    },
    {
      "cell_type": "code",
      "source": [
        "model.compile(optimizer=tf.keras.optimizers.SGD(learning_rate=config.learning_rate),\n",
        "              loss=tf.keras.losses.sparse_categorical_crossentropy,\n",
        "              metrics=['accuracy'])"
      ],
      "metadata": {
        "id": "tx6rjDf6IfpG"
      },
      "execution_count": 8,
      "outputs": []
    },
    {
      "cell_type": "code",
      "source": [
        "model.fit(X_train, Y_train, epochs=5, validation_data=(X_val, Y_val), callbacks=[WandbCallback()])"
      ],
      "metadata": {
        "colab": {
          "base_uri": "https://localhost:8080/"
        },
        "id": "b52RoGtFIiri",
        "outputId": "27eaf0f1-beb9-413a-8384-1f3692cfc898"
      },
      "execution_count": 9,
      "outputs": [
        {
          "output_type": "stream",
          "name": "stdout",
          "text": [
            "Epoch 1/5\n",
            "1500/1500 [==============================] - 3s 2ms/step - loss: 1.6032 - accuracy: 0.4987 - val_loss: 1.1963 - val_accuracy: 0.6601 - _timestamp: 1646467908.0000 - _runtime: 271.0000\n",
            "Epoch 2/5\n",
            "1500/1500 [==============================] - 3s 2ms/step - loss: 1.0434 - accuracy: 0.6856 - val_loss: 0.9224 - val_accuracy: 0.7163 - _timestamp: 1646467911.0000 - _runtime: 274.0000\n",
            "Epoch 3/5\n",
            "1500/1500 [==============================] - 3s 2ms/step - loss: 0.8669 - accuracy: 0.7254 - val_loss: 0.8081 - val_accuracy: 0.7416 - _timestamp: 1646467914.0000 - _runtime: 277.0000\n",
            "Epoch 4/5\n",
            "1500/1500 [==============================] - 3s 2ms/step - loss: 0.7810 - accuracy: 0.7480 - val_loss: 0.7428 - val_accuracy: 0.7568 - _timestamp: 1646467917.0000 - _runtime: 280.0000\n",
            "Epoch 5/5\n",
            "1500/1500 [==============================] - 3s 2ms/step - loss: 0.7274 - accuracy: 0.7631 - val_loss: 0.6985 - val_accuracy: 0.7705 - _timestamp: 1646467920.0000 - _runtime: 283.0000\n"
          ]
        },
        {
          "output_type": "execute_result",
          "data": {
            "text/plain": [
              "<keras.callbacks.History at 0x7f0fda058890>"
            ]
          },
          "metadata": {},
          "execution_count": 9
        }
      ]
    },
    {
      "cell_type": "code",
      "source": [
        "model.evaluate(X_test, Y_test)"
      ],
      "metadata": {
        "colab": {
          "base_uri": "https://localhost:8080/"
        },
        "id": "OokII3CtIsA0",
        "outputId": "e7235209-d23e-4103-d555-be8aa62eb556"
      },
      "execution_count": 10,
      "outputs": [
        {
          "output_type": "stream",
          "name": "stdout",
          "text": [
            "313/313 [==============================] - 1s 2ms/step - loss: 0.7228 - accuracy: 0.7598\n"
          ]
        },
        {
          "output_type": "execute_result",
          "data": {
            "text/plain": [
              "[0.7227922081947327, 0.7598000168800354]"
            ]
          },
          "metadata": {},
          "execution_count": 10
        }
      ]
    },
    {
      "cell_type": "code",
      "source": [
        "model.save('mlp-fashionMnist.h5')"
      ],
      "metadata": {
        "id": "vMDBtiruIwiP"
      },
      "execution_count": 11,
      "outputs": []
    },
    {
      "cell_type": "markdown",
      "source": [
        "### MLP TF tutorial"
      ],
      "metadata": {
        "id": "tHf5AdH-JFWd"
      }
    },
    {
      "cell_type": "code",
      "source": [
        "model = tf.keras.models.Sequential([\n",
        "  tf.keras.layers.Flatten(input_shape=(28, 28)),\n",
        "  tf.keras.layers.Dense(128, activation='relu'),\n",
        "  tf.keras.layers.Dropout(0.2),\n",
        "  tf.keras.layers.Dense(10, activation='softmax')\n",
        "])"
      ],
      "metadata": {
        "id": "VYTRifrcJJbb"
      },
      "execution_count": 12,
      "outputs": []
    },
    {
      "cell_type": "code",
      "source": [
        "model.compile(optimizer=tf.keras.optimizers.Adam(learning_rate=config.learning_rate),\n",
        "              loss='sparse_categorical_crossentropy',\n",
        "              metrics=['accuracy'])"
      ],
      "metadata": {
        "id": "Fl9lNDUHJVz5"
      },
      "execution_count": 17,
      "outputs": []
    },
    {
      "cell_type": "code",
      "source": [
        "model.fit(X_train, Y_train, epochs=5, validation_data=(X_val, Y_val), callbacks=[WandbCallback()])"
      ],
      "metadata": {
        "colab": {
          "base_uri": "https://localhost:8080/"
        },
        "id": "k67Zi2IsJarj",
        "outputId": "e130b7f2-7cb0-4364-b226-1a40f6d0ef32"
      },
      "execution_count": 18,
      "outputs": [
        {
          "output_type": "stream",
          "name": "stdout",
          "text": [
            "Epoch 1/5\n",
            "1500/1500 [==============================] - 4s 3ms/step - loss: 0.5562 - accuracy: 0.8039 - val_loss: 0.4168 - val_accuracy: 0.8504 - _timestamp: 1646468128.0000 - _runtime: 51.0000\n",
            "Epoch 2/5\n",
            "1500/1500 [==============================] - 4s 2ms/step - loss: 0.4142 - accuracy: 0.8493 - val_loss: 0.3809 - val_accuracy: 0.8645 - _timestamp: 1646468132.0000 - _runtime: 55.0000\n",
            "Epoch 3/5\n",
            "1500/1500 [==============================] - 4s 2ms/step - loss: 0.3775 - accuracy: 0.8616 - val_loss: 0.3715 - val_accuracy: 0.8631 - _timestamp: 1646468136.0000 - _runtime: 59.0000\n",
            "Epoch 4/5\n",
            "1500/1500 [==============================] - 4s 3ms/step - loss: 0.3557 - accuracy: 0.8694 - val_loss: 0.3431 - val_accuracy: 0.8752 - _timestamp: 1646468139.0000 - _runtime: 62.0000\n",
            "Epoch 5/5\n",
            "1500/1500 [==============================] - 4s 3ms/step - loss: 0.3347 - accuracy: 0.8761 - val_loss: 0.3293 - val_accuracy: 0.8839 - _timestamp: 1646468143.0000 - _runtime: 66.0000\n"
          ]
        },
        {
          "output_type": "execute_result",
          "data": {
            "text/plain": [
              "<keras.callbacks.History at 0x7f0fd82166d0>"
            ]
          },
          "metadata": {},
          "execution_count": 18
        }
      ]
    },
    {
      "cell_type": "code",
      "source": [
        "model.evaluate(X_test, Y_test)"
      ],
      "metadata": {
        "colab": {
          "base_uri": "https://localhost:8080/"
        },
        "id": "tFO9hyYUJjYH",
        "outputId": "469e4227-272b-471f-e7b0-9e919f8704ad"
      },
      "execution_count": 19,
      "outputs": [
        {
          "output_type": "stream",
          "name": "stdout",
          "text": [
            "313/313 [==============================] - 1s 2ms/step - loss: 0.3645 - accuracy: 0.8687\n"
          ]
        },
        {
          "output_type": "execute_result",
          "data": {
            "text/plain": [
              "[0.364484965801239, 0.8687000274658203]"
            ]
          },
          "metadata": {},
          "execution_count": 19
        }
      ]
    },
    {
      "cell_type": "code",
      "source": [
        "model.save('mlp-fashionMnist-2.h5')"
      ],
      "metadata": {
        "id": "vksZeR6eJnpc"
      },
      "execution_count": 20,
      "outputs": []
    },
    {
      "cell_type": "markdown",
      "source": [
        "### CNN+MLP Model"
      ],
      "metadata": {
        "id": "84U5_Ft6Jyjc"
      }
    },
    {
      "cell_type": "code",
      "source": [
        "model = tf.keras.models.Sequential([\n",
        "                                    layers.Conv2D(32, (3, 3), activation='relu', input_shape=(28, 28, 1)),\n",
        "                                    layers.MaxPooling2D(),\n",
        "                                    layers.Conv2D(64, (3, 3), activation='relu'),\n",
        "                                    layers.MaxPooling2D(),\n",
        "                                    layers.Conv2D(64, (5, 5), activation='relu'),\n",
        "\n",
        "                                    layers.Flatten(),\n",
        "\n",
        "                                    layers.Dense(48, activation='relu'),\n",
        "                                    layers.Dense(10, activation='softmax')\n",
        "])"
      ],
      "metadata": {
        "id": "hlSfVqtBJ1To"
      },
      "execution_count": 26,
      "outputs": []
    },
    {
      "cell_type": "code",
      "source": [
        "model.compile(optimizer=tf.keras.optimizers.SGD(learning_rate=config.learning_rate),\n",
        "              loss=tf.keras.losses.sparse_categorical_crossentropy,\n",
        "              metrics=['accuracy'])"
      ],
      "metadata": {
        "id": "rQwoaJJPKguw"
      },
      "execution_count": 27,
      "outputs": []
    },
    {
      "cell_type": "code",
      "source": [
        "model.fit(X_train, Y_train, epochs=5, validation_data=(X_val, Y_val), callbacks=[WandbCallback()])"
      ],
      "metadata": {
        "colab": {
          "base_uri": "https://localhost:8080/"
        },
        "id": "v8fNdJsfKk86",
        "outputId": "8398b6d0-3bb3-4719-c131-877b8c2dec8c"
      },
      "execution_count": 28,
      "outputs": [
        {
          "output_type": "stream",
          "name": "stdout",
          "text": [
            "Epoch 1/5\n",
            "1500/1500 [==============================] - 45s 30ms/step - loss: 2.1994 - accuracy: 0.2631 - val_loss: 2.0160 - val_accuracy: 0.3685 - _timestamp: 1646468480.0000 - _runtime: 101.0000\n",
            "Epoch 2/5\n",
            "1500/1500 [==============================] - 44s 29ms/step - loss: 1.4754 - accuracy: 0.5380 - val_loss: 0.9861 - val_accuracy: 0.6645 - _timestamp: 1646468524.0000 - _runtime: 145.0000\n",
            "Epoch 3/5\n",
            "1500/1500 [==============================] - 43s 29ms/step - loss: 0.8923 - accuracy: 0.6769 - val_loss: 0.8203 - val_accuracy: 0.6964 - _timestamp: 1646468567.0000 - _runtime: 188.0000\n",
            "Epoch 4/5\n",
            "1500/1500 [==============================] - 44s 29ms/step - loss: 0.7916 - accuracy: 0.7084 - val_loss: 0.7479 - val_accuracy: 0.7227 - _timestamp: 1646468611.0000 - _runtime: 232.0000\n",
            "Epoch 5/5\n",
            "1500/1500 [==============================] - 44s 29ms/step - loss: 0.7390 - accuracy: 0.7273 - val_loss: 0.7172 - val_accuracy: 0.7315 - _timestamp: 1646468654.0000 - _runtime: 275.0000\n"
          ]
        },
        {
          "output_type": "execute_result",
          "data": {
            "text/plain": [
              "<keras.callbacks.History at 0x7f0fd81b29d0>"
            ]
          },
          "metadata": {},
          "execution_count": 28
        }
      ]
    },
    {
      "cell_type": "code",
      "source": [
        "model.evaluate(X_test, Y_test)"
      ],
      "metadata": {
        "colab": {
          "base_uri": "https://localhost:8080/"
        },
        "id": "a8Qrk9cWLiCB",
        "outputId": "214894fe-3aaf-4640-ce5e-6aeabdecf467"
      },
      "execution_count": 29,
      "outputs": [
        {
          "output_type": "stream",
          "name": "stdout",
          "text": [
            "313/313 [==============================] - 3s 9ms/step - loss: 0.7494 - accuracy: 0.7166\n"
          ]
        },
        {
          "output_type": "execute_result",
          "data": {
            "text/plain": [
              "[0.7493876218795776, 0.7166000008583069]"
            ]
          },
          "metadata": {},
          "execution_count": 29
        }
      ]
    },
    {
      "cell_type": "code",
      "source": [
        "model.save('CNN-MLP-fashionMnist.h5')"
      ],
      "metadata": {
        "id": "ClmLa73nLi8c"
      },
      "execution_count": 30,
      "outputs": []
    },
    {
      "cell_type": "markdown",
      "source": [
        "### CNN+MLP opt=Adam"
      ],
      "metadata": {
        "id": "LLQB6IHbL1Gb"
      }
    },
    {
      "cell_type": "code",
      "source": [
        "model = tf.keras.models.Sequential([\n",
        "                                    layers.Conv2D(32, (3, 3), activation='relu', input_shape=(28, 28, 1)),\n",
        "                                    layers.MaxPooling2D(),\n",
        "                                    layers.Conv2D(64, (3, 3), activation='relu'),\n",
        "                                    layers.MaxPooling2D(),\n",
        "                                    layers.Conv2D(64, (5, 5), activation='relu'),\n",
        "\n",
        "                                    layers.Flatten(),\n",
        "\n",
        "                                    layers.Dense(48, activation='relu'),\n",
        "                                    layers.Dense(10, activation='softmax')\n",
        "])"
      ],
      "metadata": {
        "id": "dAQErvQrL9WT"
      },
      "execution_count": 31,
      "outputs": []
    },
    {
      "cell_type": "code",
      "source": [
        "model.compile(optimizer=tf.keras.optimizers.Adam(learning_rate=config.learning_rate),\n",
        "              loss=tf.keras.losses.sparse_categorical_crossentropy,\n",
        "              metrics=['accuracy'])"
      ],
      "metadata": {
        "id": "0HTyjp-OMFg6"
      },
      "execution_count": 36,
      "outputs": []
    },
    {
      "cell_type": "code",
      "source": [
        "model.fit(X_train, Y_train, epochs=5, validation_data=(X_val, Y_val), callbacks=[WandbCallback()])"
      ],
      "metadata": {
        "colab": {
          "base_uri": "https://localhost:8080/"
        },
        "id": "6EbV_vMYMK-T",
        "outputId": "4c6583c2-8c8c-4608-b4be-072a4cca89df"
      },
      "execution_count": 37,
      "outputs": [
        {
          "output_type": "stream",
          "name": "stdout",
          "text": [
            "Epoch 1/5\n",
            "1500/1500 [==============================] - 45s 29ms/step - loss: 0.5245 - accuracy: 0.8064 - val_loss: 0.3640 - val_accuracy: 0.8717 - _timestamp: 1646468900.0000 - _runtime: 104.0000\n",
            "Epoch 2/5\n",
            "1500/1500 [==============================] - 47s 31ms/step - loss: 0.3405 - accuracy: 0.8752 - val_loss: 0.3131 - val_accuracy: 0.8873 - _timestamp: 1646468946.0000 - _runtime: 150.0000\n",
            "Epoch 3/5\n",
            "1500/1500 [==============================] - 44s 30ms/step - loss: 0.2899 - accuracy: 0.8938 - val_loss: 0.2981 - val_accuracy: 0.8933 - _timestamp: 1646468991.0000 - _runtime: 195.0000\n",
            "Epoch 4/5\n",
            "1500/1500 [==============================] - 44s 29ms/step - loss: 0.2573 - accuracy: 0.9042 - val_loss: 0.2880 - val_accuracy: 0.8957 - _timestamp: 1646469035.0000 - _runtime: 239.0000\n",
            "Epoch 5/5\n",
            "1500/1500 [==============================] - 43s 29ms/step - loss: 0.2287 - accuracy: 0.9152 - val_loss: 0.2695 - val_accuracy: 0.9018 - _timestamp: 1646469078.0000 - _runtime: 282.0000\n"
          ]
        },
        {
          "output_type": "execute_result",
          "data": {
            "text/plain": [
              "<keras.callbacks.History at 0x7f0fd7f60750>"
            ]
          },
          "metadata": {},
          "execution_count": 37
        }
      ]
    },
    {
      "cell_type": "code",
      "source": [
        "model.evaluate(X_test, Y_test)"
      ],
      "metadata": {
        "colab": {
          "base_uri": "https://localhost:8080/"
        },
        "id": "k5pV6B8TMd7O",
        "outputId": "cfbfe105-f557-41cf-958b-b96d71462ad4"
      },
      "execution_count": 38,
      "outputs": [
        {
          "output_type": "stream",
          "name": "stdout",
          "text": [
            "313/313 [==============================] - 3s 9ms/step - loss: 0.2861 - accuracy: 0.8949\n"
          ]
        },
        {
          "output_type": "execute_result",
          "data": {
            "text/plain": [
              "[0.28614717721939087, 0.8949000239372253]"
            ]
          },
          "metadata": {},
          "execution_count": 38
        }
      ]
    },
    {
      "cell_type": "code",
      "source": [
        "model.save('CNN-MLP-fashionMnist-optAdam.h5')"
      ],
      "metadata": {
        "id": "tupcuFzPMgh4"
      },
      "execution_count": 39,
      "outputs": []
    }
  ]
}