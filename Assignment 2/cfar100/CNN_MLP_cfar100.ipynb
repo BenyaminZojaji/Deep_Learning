{
  "nbformat": 4,
  "nbformat_minor": 0,
  "metadata": {
    "colab": {
      "name": "CNN-MLP-cfar100.ipynb",
      "provenance": [],
      "collapsed_sections": [],
      "authorship_tag": "ABX9TyPq+HHel9QtZBepSE4ZCu4a",
      "include_colab_link": true
    },
    "kernelspec": {
      "name": "python3",
      "display_name": "Python 3"
    },
    "language_info": {
      "name": "python"
    },
    "accelerator": "GPU",
    "widgets": {
      "application/vnd.jupyter.widget-state+json": {
        "92c6c60df0c848a595bf6f57a2a05983": {
          "model_module": "@jupyter-widgets/controls",
          "model_name": "VBoxModel",
          "model_module_version": "1.5.0",
          "state": {
            "_view_name": "VBoxView",
            "_dom_classes": [],
            "_model_name": "VBoxModel",
            "_view_module": "@jupyter-widgets/controls",
            "_model_module_version": "1.5.0",
            "_view_count": null,
            "_view_module_version": "1.5.0",
            "box_style": "",
            "layout": "IPY_MODEL_68219dfbe4004985a6b7e5617c37f3e7",
            "_model_module": "@jupyter-widgets/controls",
            "children": [
              "IPY_MODEL_2ca5702ed0ac43c2825ba251246d1349",
              "IPY_MODEL_c32912602bc4407fab9fbf2af33e7331"
            ]
          }
        },
        "68219dfbe4004985a6b7e5617c37f3e7": {
          "model_module": "@jupyter-widgets/base",
          "model_name": "LayoutModel",
          "model_module_version": "1.2.0",
          "state": {
            "_view_name": "LayoutView",
            "grid_template_rows": null,
            "right": null,
            "justify_content": null,
            "_view_module": "@jupyter-widgets/base",
            "overflow": null,
            "_model_module_version": "1.2.0",
            "_view_count": null,
            "flex_flow": null,
            "width": null,
            "min_width": null,
            "border": null,
            "align_items": null,
            "bottom": null,
            "_model_module": "@jupyter-widgets/base",
            "top": null,
            "grid_column": null,
            "overflow_y": null,
            "overflow_x": null,
            "grid_auto_flow": null,
            "grid_area": null,
            "grid_template_columns": null,
            "flex": null,
            "_model_name": "LayoutModel",
            "justify_items": null,
            "grid_row": null,
            "max_height": null,
            "align_content": null,
            "visibility": null,
            "align_self": null,
            "height": null,
            "min_height": null,
            "padding": null,
            "grid_auto_rows": null,
            "grid_gap": null,
            "max_width": null,
            "order": null,
            "_view_module_version": "1.2.0",
            "grid_template_areas": null,
            "object_position": null,
            "object_fit": null,
            "grid_auto_columns": null,
            "margin": null,
            "display": null,
            "left": null
          }
        },
        "2ca5702ed0ac43c2825ba251246d1349": {
          "model_module": "@jupyter-widgets/controls",
          "model_name": "LabelModel",
          "model_module_version": "1.5.0",
          "state": {
            "_view_name": "LabelView",
            "style": "IPY_MODEL_1c222817022e407294df8c44d8bc27f3",
            "_dom_classes": [],
            "description": "",
            "_model_name": "LabelModel",
            "placeholder": "​",
            "_view_module": "@jupyter-widgets/controls",
            "_model_module_version": "1.5.0",
            "value": "2.359 MB of 2.359 MB uploaded (0.000 MB deduped)\r",
            "_view_count": null,
            "_view_module_version": "1.5.0",
            "description_tooltip": null,
            "_model_module": "@jupyter-widgets/controls",
            "layout": "IPY_MODEL_1ab0fe1e991f4a6182f4b21f2c1d3c56"
          }
        },
        "c32912602bc4407fab9fbf2af33e7331": {
          "model_module": "@jupyter-widgets/controls",
          "model_name": "FloatProgressModel",
          "model_module_version": "1.5.0",
          "state": {
            "_view_name": "ProgressView",
            "style": "IPY_MODEL_5b529ebe12bd4c78b67733e0371cdc81",
            "_dom_classes": [],
            "description": "",
            "_model_name": "FloatProgressModel",
            "bar_style": "",
            "max": 1,
            "_view_module": "@jupyter-widgets/controls",
            "_model_module_version": "1.5.0",
            "value": 1,
            "_view_count": null,
            "_view_module_version": "1.5.0",
            "orientation": "horizontal",
            "min": 0,
            "description_tooltip": null,
            "_model_module": "@jupyter-widgets/controls",
            "layout": "IPY_MODEL_88cc1452491849e39fd8ebedb9dee59b"
          }
        },
        "1c222817022e407294df8c44d8bc27f3": {
          "model_module": "@jupyter-widgets/controls",
          "model_name": "DescriptionStyleModel",
          "model_module_version": "1.5.0",
          "state": {
            "_view_name": "StyleView",
            "_model_name": "DescriptionStyleModel",
            "description_width": "",
            "_view_module": "@jupyter-widgets/base",
            "_model_module_version": "1.5.0",
            "_view_count": null,
            "_view_module_version": "1.2.0",
            "_model_module": "@jupyter-widgets/controls"
          }
        },
        "1ab0fe1e991f4a6182f4b21f2c1d3c56": {
          "model_module": "@jupyter-widgets/base",
          "model_name": "LayoutModel",
          "model_module_version": "1.2.0",
          "state": {
            "_view_name": "LayoutView",
            "grid_template_rows": null,
            "right": null,
            "justify_content": null,
            "_view_module": "@jupyter-widgets/base",
            "overflow": null,
            "_model_module_version": "1.2.0",
            "_view_count": null,
            "flex_flow": null,
            "width": null,
            "min_width": null,
            "border": null,
            "align_items": null,
            "bottom": null,
            "_model_module": "@jupyter-widgets/base",
            "top": null,
            "grid_column": null,
            "overflow_y": null,
            "overflow_x": null,
            "grid_auto_flow": null,
            "grid_area": null,
            "grid_template_columns": null,
            "flex": null,
            "_model_name": "LayoutModel",
            "justify_items": null,
            "grid_row": null,
            "max_height": null,
            "align_content": null,
            "visibility": null,
            "align_self": null,
            "height": null,
            "min_height": null,
            "padding": null,
            "grid_auto_rows": null,
            "grid_gap": null,
            "max_width": null,
            "order": null,
            "_view_module_version": "1.2.0",
            "grid_template_areas": null,
            "object_position": null,
            "object_fit": null,
            "grid_auto_columns": null,
            "margin": null,
            "display": null,
            "left": null
          }
        },
        "5b529ebe12bd4c78b67733e0371cdc81": {
          "model_module": "@jupyter-widgets/controls",
          "model_name": "ProgressStyleModel",
          "model_module_version": "1.5.0",
          "state": {
            "_view_name": "StyleView",
            "_model_name": "ProgressStyleModel",
            "description_width": "",
            "_view_module": "@jupyter-widgets/base",
            "_model_module_version": "1.5.0",
            "_view_count": null,
            "_view_module_version": "1.2.0",
            "bar_color": null,
            "_model_module": "@jupyter-widgets/controls"
          }
        },
        "88cc1452491849e39fd8ebedb9dee59b": {
          "model_module": "@jupyter-widgets/base",
          "model_name": "LayoutModel",
          "model_module_version": "1.2.0",
          "state": {
            "_view_name": "LayoutView",
            "grid_template_rows": null,
            "right": null,
            "justify_content": null,
            "_view_module": "@jupyter-widgets/base",
            "overflow": null,
            "_model_module_version": "1.2.0",
            "_view_count": null,
            "flex_flow": null,
            "width": null,
            "min_width": null,
            "border": null,
            "align_items": null,
            "bottom": null,
            "_model_module": "@jupyter-widgets/base",
            "top": null,
            "grid_column": null,
            "overflow_y": null,
            "overflow_x": null,
            "grid_auto_flow": null,
            "grid_area": null,
            "grid_template_columns": null,
            "flex": null,
            "_model_name": "LayoutModel",
            "justify_items": null,
            "grid_row": null,
            "max_height": null,
            "align_content": null,
            "visibility": null,
            "align_self": null,
            "height": null,
            "min_height": null,
            "padding": null,
            "grid_auto_rows": null,
            "grid_gap": null,
            "max_width": null,
            "order": null,
            "_view_module_version": "1.2.0",
            "grid_template_areas": null,
            "object_position": null,
            "object_fit": null,
            "grid_auto_columns": null,
            "margin": null,
            "display": null,
            "left": null
          }
        }
      }
    }
  },
  "cells": [
    {
      "cell_type": "markdown",
      "metadata": {
        "id": "view-in-github",
        "colab_type": "text"
      },
      "source": [
        "<a href=\"https://colab.research.google.com/github/BenyaminZojaji/Deep_Learning/blob/main/Assignment%202/cfar100/CNN_MLP_cfar100.ipynb\" target=\"_parent\"><img src=\"https://colab.research.google.com/assets/colab-badge.svg\" alt=\"Open In Colab\"/></a>"
      ]
    },
    {
      "cell_type": "code",
      "execution_count": null,
      "metadata": {
        "id": "Ax9R2TJAeGmu"
      },
      "outputs": [],
      "source": [
        "!pip install wandb"
      ]
    },
    {
      "cell_type": "markdown",
      "source": [
        "### Import libraries"
      ],
      "metadata": {
        "id": "kqRGv9v7kpH2"
      }
    },
    {
      "cell_type": "code",
      "source": [
        "import tensorflow as tf\n",
        "from tensorflow.keras import layers\n",
        "import numpy as np\n",
        "import matplotlib.pyplot as plt\n",
        "from sklearn.model_selection import train_test_split\n",
        "import wandb\n",
        "from wandb.keras import WandbCallback"
      ],
      "metadata": {
        "id": "P-9S-iKPks27"
      },
      "execution_count": 2,
      "outputs": []
    },
    {
      "cell_type": "markdown",
      "source": [
        "### wandb configuration"
      ],
      "metadata": {
        "id": "I0RoVt5Ak0_7"
      }
    },
    {
      "cell_type": "code",
      "source": [
        "wandb.init(project=\"CNN-MLP-cfar100\", entity=\"benyaminzojaji\")"
      ],
      "metadata": {
        "colab": {
          "base_uri": "https://localhost:8080/",
          "height": 427,
          "referenced_widgets": [
            "92c6c60df0c848a595bf6f57a2a05983",
            "68219dfbe4004985a6b7e5617c37f3e7",
            "2ca5702ed0ac43c2825ba251246d1349",
            "c32912602bc4407fab9fbf2af33e7331",
            "1c222817022e407294df8c44d8bc27f3",
            "1ab0fe1e991f4a6182f4b21f2c1d3c56",
            "5b529ebe12bd4c78b67733e0371cdc81",
            "88cc1452491849e39fd8ebedb9dee59b"
          ]
        },
        "id": "w_EzrW3sk0o1",
        "outputId": "98a150b0-a943-4461-c149-264d245b3f26"
      },
      "execution_count": 47,
      "outputs": [
        {
          "output_type": "display_data",
          "data": {
            "text/html": [
              "Finishing last run (ID:dw62anrh) before initializing another..."
            ],
            "text/plain": [
              "<IPython.core.display.HTML object>"
            ]
          },
          "metadata": {}
        },
        {
          "output_type": "stream",
          "name": "stdout",
          "text": [
            "\n"
          ]
        },
        {
          "output_type": "display_data",
          "data": {
            "text/html": [
              "Waiting for W&B process to finish... <strong style=\"color:green\">(success).</strong>"
            ],
            "text/plain": [
              "<IPython.core.display.HTML object>"
            ]
          },
          "metadata": {}
        },
        {
          "output_type": "display_data",
          "data": {
            "application/vnd.jupyter.widget-view+json": {
              "model_id": "92c6c60df0c848a595bf6f57a2a05983",
              "version_minor": 0,
              "version_major": 2
            },
            "text/plain": [
              "VBox(children=(Label(value='2.348 MB of 2.348 MB uploaded (0.000 MB deduped)\\r'), FloatProgress(value=1.0, max…"
            ]
          },
          "metadata": {}
        },
        {
          "output_type": "display_data",
          "data": {
            "text/html": [
              "<style>\n",
              "    table.wandb td:nth-child(1) { padding: 0 10px; text-align: right }\n",
              "    .wandb-row { display: flex; flex-direction: row; flex-wrap: wrap; width: 100% }\n",
              "    .wandb-col { display: flex; flex-direction: column; flex-basis: 100%; flex: 1; padding: 10px; }\n",
              "    </style>\n",
              "<div class=\"wandb-row\"><div class=\"wandb-col\"><h3>Run history:</h3><br/><table class=\"wandb\"><tr><td>accuracy</td><td>▁▃▄▅▅▆▆▆▇▇▇▇███</td></tr><tr><td>epoch</td><td>▁▁▂▃▃▃▄▅▅▅▆▇▇▇█</td></tr><tr><td>loss</td><td>█▆▅▄▄▃▃▃▂▂▂▂▁▁▁</td></tr><tr><td>val_accuracy</td><td>▁▃▄▆▇▇▇████████</td></tr><tr><td>val_loss</td><td>█▅▄▃▂▂▂▁▂▁▁▂▂▂▂</td></tr></table><br/></div><div class=\"wandb-col\"><h3>Run summary:</h3><br/><table class=\"wandb\"><tr><td>accuracy</td><td>0.50258</td></tr><tr><td>best_epoch</td><td>7</td></tr><tr><td>best_val_loss</td><td>2.58975</td></tr><tr><td>epoch</td><td>14</td></tr><tr><td>loss</td><td>1.82576</td></tr><tr><td>val_accuracy</td><td>0.3374</td></tr><tr><td>val_loss</td><td>2.74431</td></tr></table><br/></div></div>"
            ],
            "text/plain": [
              "<IPython.core.display.HTML object>"
            ]
          },
          "metadata": {}
        },
        {
          "output_type": "display_data",
          "data": {
            "text/html": [
              "Synced <strong style=\"color:#cdcd00\">olive-frog-8</strong>: <a href=\"https://wandb.ai/benyaminzojaji/CNN-MLP-cfar100/runs/dw62anrh\" target=\"_blank\">https://wandb.ai/benyaminzojaji/CNN-MLP-cfar100/runs/dw62anrh</a><br/>Synced 5 W&B file(s), 1 media file(s), 0 artifact file(s) and 1 other file(s)"
            ],
            "text/plain": [
              "<IPython.core.display.HTML object>"
            ]
          },
          "metadata": {}
        },
        {
          "output_type": "display_data",
          "data": {
            "text/html": [
              "Find logs at: <code>./wandb/run-20220305_104608-dw62anrh/logs</code>"
            ],
            "text/plain": [
              "<IPython.core.display.HTML object>"
            ]
          },
          "metadata": {}
        },
        {
          "output_type": "display_data",
          "data": {
            "text/html": [
              "Successfully finished last run (ID:dw62anrh). Initializing new run:<br/>"
            ],
            "text/plain": [
              "<IPython.core.display.HTML object>"
            ]
          },
          "metadata": {}
        },
        {
          "output_type": "display_data",
          "data": {
            "text/html": [
              "Tracking run with wandb version 0.12.11"
            ],
            "text/plain": [
              "<IPython.core.display.HTML object>"
            ]
          },
          "metadata": {}
        },
        {
          "output_type": "display_data",
          "data": {
            "text/html": [
              "Run data is saved locally in <code>/content/wandb/run-20220305_105127-2kvpzyy4</code>"
            ],
            "text/plain": [
              "<IPython.core.display.HTML object>"
            ]
          },
          "metadata": {}
        },
        {
          "output_type": "display_data",
          "data": {
            "text/html": [
              "Syncing run <strong><a href=\"https://wandb.ai/benyaminzojaji/CNN-MLP-cfar100/runs/2kvpzyy4\" target=\"_blank\">trim-cosmos-9</a></strong> to <a href=\"https://wandb.ai/benyaminzojaji/CNN-MLP-cfar100\" target=\"_blank\">Weights & Biases</a> (<a href=\"https://wandb.me/run\" target=\"_blank\">docs</a>)<br/>"
            ],
            "text/plain": [
              "<IPython.core.display.HTML object>"
            ]
          },
          "metadata": {}
        },
        {
          "output_type": "execute_result",
          "data": {
            "text/plain": [
              "<wandb.sdk.wandb_run.Run at 0x7f965311f510>"
            ],
            "text/html": [
              "<button onClick=\"this.nextSibling.style.display='block';this.style.display='none';\">Display W&B run</button><iframe src=\"https://wandb.ai/benyaminzojaji/CNN-MLP-cfar100/runs/2kvpzyy4?jupyter=true\" style=\"border:none;width:100%;height:420px;display:none;\"></iframe>"
            ]
          },
          "metadata": {},
          "execution_count": 47
        }
      ]
    },
    {
      "cell_type": "code",
      "source": [
        "config = wandb.config\n",
        "config.learning_rate = 0.1"
      ],
      "metadata": {
        "id": "NW_lnEonlSCP"
      },
      "execution_count": 11,
      "outputs": []
    },
    {
      "cell_type": "markdown",
      "source": [
        "### Dataset"
      ],
      "metadata": {
        "id": "K5hChlYHlWdK"
      }
    },
    {
      "cell_type": "code",
      "source": [
        "cfar100 = tf.keras.datasets.cifar100\n",
        "(X_train, Y_train), (X_test, Y_test) = cfar100.load_data()\n",
        "\n",
        "# normalization\n",
        "X_train = X_train / 255.0\n",
        "X_test = X_test / 255.0"
      ],
      "metadata": {
        "id": "Y3W-gX7AlYJK"
      },
      "execution_count": 12,
      "outputs": []
    },
    {
      "cell_type": "code",
      "source": [
        "X_train, X_val, Y_train, Y_val = train_test_split(X_train, Y_train, test_size=0.1, random_state=24)"
      ],
      "metadata": {
        "id": "1tC8A-j3lh-v"
      },
      "execution_count": 13,
      "outputs": []
    },
    {
      "cell_type": "markdown",
      "source": [
        "### MLP"
      ],
      "metadata": {
        "id": "j4u6mknllw2Z"
      }
    },
    {
      "cell_type": "code",
      "source": [
        "model = tf.keras.models.Sequential()\n",
        "model.add(layers.Flatten(input_shape=(32, 32, 3)))\n",
        "model.add(layers.Dense(512, activation='relu'))\n",
        "model.add(layers.Dense(256, activation='relu'))\n",
        "model.add(layers.Dense(128, activation='relu'))\n",
        "model.add(layers.Dense(100, activation='softmax'))"
      ],
      "metadata": {
        "id": "5RgfUH86lyXD"
      },
      "execution_count": 32,
      "outputs": []
    },
    {
      "cell_type": "code",
      "source": [
        "model.compile(optimizer='adam',\n",
        "              loss=tf.keras.losses.SparseCategoricalCrossentropy(from_logits=True),\n",
        "              metrics=['accuracy'])"
      ],
      "metadata": {
        "id": "7RdIBKtimGd4"
      },
      "execution_count": 33,
      "outputs": []
    },
    {
      "cell_type": "code",
      "source": [
        "model.fit(X_train, Y_train, epochs=15, validation_data=(X_val, Y_val), callbacks=[WandbCallback()])"
      ],
      "metadata": {
        "colab": {
          "base_uri": "https://localhost:8080/"
        },
        "id": "ASj5bTB9mJoa",
        "outputId": "fbfb4fa7-925d-4281-b444-402f26394524"
      },
      "execution_count": 34,
      "outputs": [
        {
          "output_type": "stream",
          "name": "stdout",
          "text": [
            "Epoch 1/15\n"
          ]
        },
        {
          "output_type": "stream",
          "name": "stderr",
          "text": [
            "/usr/local/lib/python3.7/dist-packages/tensorflow/python/util/dispatch.py:1082: UserWarning: \"`sparse_categorical_crossentropy` received `from_logits=True`, but the `output` argument was produced by a sigmoid or softmax activation and thus does not represent logits. Was this intended?\"\n",
            "  return dispatch_target(*args, **kwargs)\n"
          ]
        },
        {
          "output_type": "stream",
          "name": "stdout",
          "text": [
            "1407/1407 [==============================] - 5s 3ms/step - loss: 4.2347 - accuracy: 0.0498 - val_loss: 3.9494 - val_accuracy: 0.0918 - _timestamp: 1646476810.0000 - _runtime: 21.0000\n",
            "Epoch 2/15\n",
            "1407/1407 [==============================] - 4s 3ms/step - loss: 3.8155 - accuracy: 0.1105 - val_loss: 3.6853 - val_accuracy: 0.1280 - _timestamp: 1646476814.0000 - _runtime: 25.0000\n",
            "Epoch 3/15\n",
            "1407/1407 [==============================] - 4s 3ms/step - loss: 3.6414 - accuracy: 0.1406 - val_loss: 3.6390 - val_accuracy: 0.1428 - _timestamp: 1646476818.0000 - _runtime: 29.0000\n",
            "Epoch 4/15\n",
            "1407/1407 [==============================] - 4s 3ms/step - loss: 3.5341 - accuracy: 0.1579 - val_loss: 3.5180 - val_accuracy: 0.1564 - _timestamp: 1646476823.0000 - _runtime: 34.0000\n",
            "Epoch 5/15\n",
            "1407/1407 [==============================] - 4s 3ms/step - loss: 3.4441 - accuracy: 0.1756 - val_loss: 3.4478 - val_accuracy: 0.1744 - _timestamp: 1646476827.0000 - _runtime: 38.0000\n",
            "Epoch 6/15\n",
            "1407/1407 [==============================] - 4s 3ms/step - loss: 3.3833 - accuracy: 0.1854 - val_loss: 3.4481 - val_accuracy: 0.1750 - _timestamp: 1646476831.0000 - _runtime: 42.0000\n",
            "Epoch 7/15\n",
            "1407/1407 [==============================] - 4s 3ms/step - loss: 3.3280 - accuracy: 0.1961 - val_loss: 3.4375 - val_accuracy: 0.1774 - _timestamp: 1646476836.0000 - _runtime: 47.0000\n",
            "Epoch 8/15\n",
            "1407/1407 [==============================] - 4s 3ms/step - loss: 3.2833 - accuracy: 0.2027 - val_loss: 3.3821 - val_accuracy: 0.1856 - _timestamp: 1646476840.0000 - _runtime: 51.0000\n",
            "Epoch 9/15\n",
            "1407/1407 [==============================] - 4s 3ms/step - loss: 3.2414 - accuracy: 0.2102 - val_loss: 3.4497 - val_accuracy: 0.1786 - _timestamp: 1646476844.0000 - _runtime: 55.0000\n",
            "Epoch 10/15\n",
            "1407/1407 [==============================] - 4s 3ms/step - loss: 3.2014 - accuracy: 0.2148 - val_loss: 3.3886 - val_accuracy: 0.1908 - _timestamp: 1646476849.0000 - _runtime: 60.0000\n",
            "Epoch 11/15\n",
            "1407/1407 [==============================] - 4s 3ms/step - loss: 3.1731 - accuracy: 0.2208 - val_loss: 3.3542 - val_accuracy: 0.1988 - _timestamp: 1646476853.0000 - _runtime: 64.0000\n",
            "Epoch 12/15\n",
            "1407/1407 [==============================] - 4s 3ms/step - loss: 3.1338 - accuracy: 0.2289 - val_loss: 3.3641 - val_accuracy: 0.1966 - _timestamp: 1646476857.0000 - _runtime: 68.0000\n",
            "Epoch 13/15\n",
            "1407/1407 [==============================] - 4s 3ms/step - loss: 3.1105 - accuracy: 0.2328 - val_loss: 3.3357 - val_accuracy: 0.2070 - _timestamp: 1646476861.0000 - _runtime: 72.0000\n",
            "Epoch 14/15\n",
            "1407/1407 [==============================] - 4s 3ms/step - loss: 3.0775 - accuracy: 0.2401 - val_loss: 3.4192 - val_accuracy: 0.2006 - _timestamp: 1646476866.0000 - _runtime: 77.0000\n",
            "Epoch 15/15\n",
            "1407/1407 [==============================] - 4s 3ms/step - loss: 3.0562 - accuracy: 0.2442 - val_loss: 3.3248 - val_accuracy: 0.2120 - _timestamp: 1646476870.0000 - _runtime: 81.0000\n"
          ]
        },
        {
          "output_type": "execute_result",
          "data": {
            "text/plain": [
              "<keras.callbacks.History at 0x7f9655a0dad0>"
            ]
          },
          "metadata": {},
          "execution_count": 34
        }
      ]
    },
    {
      "cell_type": "code",
      "source": [
        "model.evaluate(X_test, Y_test)"
      ],
      "metadata": {
        "colab": {
          "base_uri": "https://localhost:8080/"
        },
        "id": "5CfAr2YbqOFN",
        "outputId": "4f234b2f-7e67-42b9-d776-c82d38727251"
      },
      "execution_count": 35,
      "outputs": [
        {
          "output_type": "stream",
          "name": "stdout",
          "text": [
            "313/313 [==============================] - 1s 2ms/step - loss: 3.3671 - accuracy: 0.2066\n"
          ]
        },
        {
          "output_type": "execute_result",
          "data": {
            "text/plain": [
              "[3.3671319484710693, 0.20659999549388885]"
            ]
          },
          "metadata": {},
          "execution_count": 35
        }
      ]
    },
    {
      "cell_type": "code",
      "source": [
        "model.save('mlp-cfar100.h5')"
      ],
      "metadata": {
        "id": "4lrCBK4lq6_N"
      },
      "execution_count": 36,
      "outputs": []
    },
    {
      "cell_type": "markdown",
      "source": [
        "### CNN+MLP"
      ],
      "metadata": {
        "id": "eBoLIC_SrGgf"
      }
    },
    {
      "cell_type": "code",
      "source": [
        "model = tf.keras.models.Sequential()\n",
        "model.add(layers.Conv2D(32, (3, 3), activation='relu', input_shape=(32, 32, 3)))\n",
        "model.add(layers.MaxPooling2D((2, 2)))\n",
        "model.add(layers.Conv2D(64, (3, 3), activation='relu'))\n",
        "model.add(layers.MaxPooling2D((2, 2)))\n",
        "model.add(layers.Conv2D(64, (3, 3), activation='relu'))\n",
        "\n",
        "model.add(layers.Flatten())\n",
        "model.add(layers.Dense(128, activation='relu'))\n",
        "model.add(layers.Dense(100, activation='softmax'))"
      ],
      "metadata": {
        "id": "M3nvL_2ArKmb"
      },
      "execution_count": 42,
      "outputs": []
    },
    {
      "cell_type": "code",
      "source": [
        "model.compile(optimizer='adam',\n",
        "              loss=tf.keras.losses.SparseCategoricalCrossentropy(from_logits=True),\n",
        "              metrics=['accuracy'])"
      ],
      "metadata": {
        "id": "C0Rakh75rPS9"
      },
      "execution_count": 43,
      "outputs": []
    },
    {
      "cell_type": "code",
      "source": [
        "model.fit(X_train, Y_train, epochs=15, validation_data=(X_val, Y_val), callbacks=[WandbCallback()])"
      ],
      "metadata": {
        "colab": {
          "base_uri": "https://localhost:8080/"
        },
        "id": "knEPotgZrXYP",
        "outputId": "25a06e34-5260-4eb3-d3a7-44f1c964eef9"
      },
      "execution_count": 44,
      "outputs": [
        {
          "output_type": "stream",
          "name": "stdout",
          "text": [
            "Epoch 1/15\n"
          ]
        },
        {
          "output_type": "stream",
          "name": "stderr",
          "text": [
            "/usr/local/lib/python3.7/dist-packages/tensorflow/python/util/dispatch.py:1082: UserWarning: \"`sparse_categorical_crossentropy` received `from_logits=True`, but the `output` argument was produced by a sigmoid or softmax activation and thus does not represent logits. Was this intended?\"\n",
            "  return dispatch_target(*args, **kwargs)\n"
          ]
        },
        {
          "output_type": "stream",
          "name": "stdout",
          "text": [
            "1407/1407 [==============================] - 7s 4ms/step - loss: 3.9133 - accuracy: 0.1026 - val_loss: 3.5104 - val_accuracy: 0.1664 - _timestamp: 1646477199.0000 - _runtime: 27.0000\n",
            "Epoch 2/15\n",
            "1407/1407 [==============================] - 6s 4ms/step - loss: 3.2644 - accuracy: 0.2092 - val_loss: 3.1440 - val_accuracy: 0.2304 - _timestamp: 1646477205.0000 - _runtime: 33.0000\n",
            "Epoch 3/15\n",
            "1407/1407 [==============================] - 6s 4ms/step - loss: 2.9558 - accuracy: 0.2672 - val_loss: 3.0255 - val_accuracy: 0.2530 - _timestamp: 1646477211.0000 - _runtime: 39.0000\n",
            "Epoch 4/15\n",
            "1407/1407 [==============================] - 6s 4ms/step - loss: 2.7571 - accuracy: 0.3078 - val_loss: 2.8690 - val_accuracy: 0.2856 - _timestamp: 1646477217.0000 - _runtime: 45.0000\n",
            "Epoch 5/15\n",
            "1407/1407 [==============================] - 6s 4ms/step - loss: 2.6055 - accuracy: 0.3395 - val_loss: 2.7300 - val_accuracy: 0.3124 - _timestamp: 1646477222.0000 - _runtime: 50.0000\n",
            "Epoch 6/15\n",
            "1407/1407 [==============================] - 6s 4ms/step - loss: 2.4852 - accuracy: 0.3621 - val_loss: 2.6848 - val_accuracy: 0.3268 - _timestamp: 1646477228.0000 - _runtime: 56.0000\n",
            "Epoch 7/15\n",
            "1407/1407 [==============================] - 6s 4ms/step - loss: 2.3855 - accuracy: 0.3841 - val_loss: 2.7003 - val_accuracy: 0.3222 - _timestamp: 1646477234.0000 - _runtime: 62.0000\n",
            "Epoch 8/15\n",
            "1407/1407 [==============================] - 6s 4ms/step - loss: 2.2881 - accuracy: 0.4043 - val_loss: 2.5897 - val_accuracy: 0.3396 - _timestamp: 1646477240.0000 - _runtime: 68.0000\n",
            "Epoch 9/15\n",
            "1407/1407 [==============================] - 6s 4ms/step - loss: 2.2093 - accuracy: 0.4193 - val_loss: 2.6645 - val_accuracy: 0.3428 - _timestamp: 1646477246.0000 - _runtime: 74.0000\n",
            "Epoch 10/15\n",
            "1407/1407 [==============================] - 6s 4ms/step - loss: 2.1340 - accuracy: 0.4349 - val_loss: 2.6257 - val_accuracy: 0.3474 - _timestamp: 1646477252.0000 - _runtime: 80.0000\n",
            "Epoch 11/15\n",
            "1407/1407 [==============================] - 6s 4ms/step - loss: 2.0657 - accuracy: 0.4505 - val_loss: 2.6232 - val_accuracy: 0.3422 - _timestamp: 1646477257.0000 - _runtime: 85.0000\n",
            "Epoch 12/15\n",
            "1407/1407 [==============================] - 6s 4ms/step - loss: 2.0001 - accuracy: 0.4624 - val_loss: 2.6674 - val_accuracy: 0.3426 - _timestamp: 1646477263.0000 - _runtime: 91.0000\n",
            "Epoch 13/15\n",
            "1407/1407 [==============================] - 6s 4ms/step - loss: 1.9385 - accuracy: 0.4784 - val_loss: 2.6953 - val_accuracy: 0.3436 - _timestamp: 1646477269.0000 - _runtime: 97.0000\n",
            "Epoch 14/15\n",
            "1407/1407 [==============================] - 6s 4ms/step - loss: 1.8874 - accuracy: 0.4883 - val_loss: 2.7189 - val_accuracy: 0.3428 - _timestamp: 1646477275.0000 - _runtime: 103.0000\n",
            "Epoch 15/15\n",
            "1407/1407 [==============================] - 6s 4ms/step - loss: 1.8258 - accuracy: 0.5026 - val_loss: 2.7443 - val_accuracy: 0.3374 - _timestamp: 1646477280.0000 - _runtime: 108.0000\n"
          ]
        },
        {
          "output_type": "execute_result",
          "data": {
            "text/plain": [
              "<keras.callbacks.History at 0x7f96555e5e10>"
            ]
          },
          "metadata": {},
          "execution_count": 44
        }
      ]
    },
    {
      "cell_type": "code",
      "source": [
        "model.evaluate(X_test, Y_test)"
      ],
      "metadata": {
        "colab": {
          "base_uri": "https://localhost:8080/"
        },
        "id": "dY6py3KvstYs",
        "outputId": "ee862488-5ad3-4dd2-dd5a-a3dd35c08dae"
      },
      "execution_count": 45,
      "outputs": [
        {
          "output_type": "stream",
          "name": "stdout",
          "text": [
            "313/313 [==============================] - 1s 3ms/step - loss: 2.7205 - accuracy: 0.3538\n"
          ]
        },
        {
          "output_type": "execute_result",
          "data": {
            "text/plain": [
              "[2.720489263534546, 0.3537999987602234]"
            ]
          },
          "metadata": {},
          "execution_count": 45
        }
      ]
    },
    {
      "cell_type": "code",
      "source": [
        "model.save('cnn-mlp-cfar100.h5')"
      ],
      "metadata": {
        "id": "isfT4vmFsxLS"
      },
      "execution_count": 46,
      "outputs": []
    }
  ]
}