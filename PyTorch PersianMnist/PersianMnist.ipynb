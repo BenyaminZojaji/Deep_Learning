{
  "nbformat": 4,
  "nbformat_minor": 0,
  "metadata": {
    "colab": {
      "name": "PersianMnist.ipynb",
      "provenance": [],
      "mount_file_id": "1R4Bu9eWLIRn0WPC26j64wA5ZLn_lnuAq",
      "authorship_tag": "ABX9TyODDwzgbEoAoV31RzOF3E7n",
      "include_colab_link": true
    },
    "kernelspec": {
      "name": "python3",
      "display_name": "Python 3"
    },
    "language_info": {
      "name": "python"
    },
    "accelerator": "GPU"
  },
  "cells": [
    {
      "cell_type": "markdown",
      "metadata": {
        "id": "view-in-github",
        "colab_type": "text"
      },
      "source": [
        "<a href=\"https://colab.research.google.com/github/BenyaminZojaji/Deep_Learning/blob/main/PyTorch%20PersianMnist/PersianMnist.ipynb\" target=\"_parent\"><img src=\"https://colab.research.google.com/assets/colab-badge.svg\" alt=\"Open In Colab\"/></a>"
      ]
    },
    {
      "cell_type": "code",
      "execution_count": null,
      "metadata": {
        "id": "wJMVMmNc2Rda"
      },
      "outputs": [],
      "source": [
        "import torch\n",
        "import torch.nn as nn\n",
        "import torch.nn.functional as F\n",
        "import torchvision\n",
        "from torchvision import transforms\n",
        "from tqdm import tqdm"
      ]
    },
    {
      "cell_type": "code",
      "source": [
        "def calc_acc(preds, labels):\n",
        "  _, preds_max = torch.max(preds, 1)\n",
        "  acc = torch.sum(preds_max == labels.data, dtype=torch.float64) / len(preds)\n",
        "  return acc"
      ],
      "metadata": {
        "id": "2M-Ug9WsPNPa"
      },
      "execution_count": null,
      "outputs": []
    },
    {
      "cell_type": "code",
      "source": [
        "class Model(nn.Module):\n",
        "  def __init__(self):\n",
        "    super().__init__()\n",
        "    # cuz they are RGB we put 3\n",
        "    self.conv1 = nn.Conv2d(3, 32, (3, 3), (1, 1), (1, 1))\n",
        "    self.conv2 = nn.Conv2d(32, 32, (3, 3), (1, 1), (1, 1))\n",
        "    self.conv3 = nn.Conv2d(32, 64, (3, 3), (1, 1), (1, 1))\n",
        "    self.conv4 = nn.Conv2d(64, 64, (3, 3), (1, 1), (1, 1))\n",
        "\n",
        "    self.fc1 = nn.Linear(64*8*8, 512) # batch_size * size * size (size after convs and maxpoolings)\n",
        "    self.fc2 = nn.Linear(512, 10)\n",
        "\n",
        "  def forward(self, x):\n",
        "    x = F.relu(self.conv1(x))\n",
        "    x = F.max_pool2d(x, kernel_size=(2, 2))\n",
        "    x = F.relu(self.conv2(x))\n",
        "    x = F.max_pool2d(x, kernel_size=(2, 2))\n",
        "    x = F.relu(self.conv3(x))\n",
        "    x = F.max_pool2d(x, kernel_size=(2, 2))\n",
        "    x = F.relu(self.conv4(x))\n",
        "    # print(x.shape)\n",
        "    x = torch.flatten(x, start_dim=1) # cuz we dont want to flatten all of it! (0 is batch size)\n",
        "    x = F.relu(self.fc1(x))\n",
        "    x = self.fc2(x)\n",
        "    x = torch.softmax(x, dim=1)\n",
        "    return x"
      ],
      "metadata": {
        "id": "c0bPDkZZ3bml"
      },
      "execution_count": null,
      "outputs": []
    },
    {
      "cell_type": "code",
      "source": [
        "device = torch.device('cuda' if torch.cuda.is_available() else 'cpu')\n",
        "model = Model().to(device)"
      ],
      "metadata": {
        "id": "r0AN3UQM9V10"
      },
      "execution_count": null,
      "outputs": []
    },
    {
      "cell_type": "code",
      "source": [
        "# Hyper Parameters\n",
        "batch_size = 64\n",
        "epochs = 10\n",
        "lr = 0.001"
      ],
      "metadata": {
        "id": "9eDeWWSK-kGO"
      },
      "execution_count": null,
      "outputs": []
    },
    {
      "cell_type": "code",
      "source": [
        "transform = torchvision.transforms.Compose([\n",
        "                                            transforms.ToPILImage(), # added because of the Error: img should be PIL Image. Got <class 'numpy.ndarray'>\n",
        "                                            transforms.RandomRotation(10),\n",
        "                                            transforms.Resize((70, 70)),\n",
        "                                            transforms.ToTensor(),\n",
        "                                            transforms.Normalize((0.485, 0.456, 0.406), (0.229, 0.224, 0.225))\n",
        "])\n",
        "\n",
        "dataset = torchvision.datasets.ImageFolder(root='/content/drive/MyDrive/Dataset/MNIST_persian', transform=transform)\n",
        "train_data_loader = torch.utils.data.DataLoader(dataset, batch_size=batch_size, shuffle=True)"
      ],
      "metadata": {
        "id": "BpWPa67V-vCn"
      },
      "execution_count": null,
      "outputs": []
    },
    {
      "cell_type": "code",
      "source": [
        "# compile\n",
        "optimizer = torch.optim.Adam(model.parameters(), lr=lr)\n",
        "loss_function = nn.CrossEntropyLoss()"
      ],
      "metadata": {
        "id": "22r-8bz-CsFq"
      },
      "execution_count": null,
      "outputs": []
    },
    {
      "cell_type": "code",
      "source": [
        "model.train()\n",
        "\n",
        "for epoch in range(epochs):\n",
        "  train_loss = 0\n",
        "  train_acc = 0\n",
        "  for images, labels in tqdm(train_data_loader):\n",
        "    images, labels = images.to(device), labels.to(device)\n",
        "    optimizer.zero_grad()\n",
        "\n",
        "    preds = model(images)\n",
        "\n",
        "    loss = loss_function(preds, labels)\n",
        "    loss.backward()\n",
        "    optimizer.step()\n",
        "\n",
        "    train_loss += loss\n",
        "    train_acc += calc_acc(preds, labels)\n",
        "  \n",
        "  total_loss = train_loss / len(train_data_loader)\n",
        "  total_acc = train_acc / len(train_data_loader)\n",
        "\n",
        "  print(f'Epoch: {epoch}, Loss: {total_loss}, Acc:{total_acc}')"
      ],
      "metadata": {
        "id": "GaeAuF7YLv2e",
        "colab": {
          "base_uri": "https://localhost:8080/"
        },
        "outputId": "bf1e0d40-600d-495d-f3ca-4f45f912a395"
      },
      "execution_count": null,
      "outputs": [
        {
          "output_type": "stream",
          "name": "stderr",
          "text": [
            "100%|██████████| 19/19 [02:48<00:00,  8.88s/it]\n"
          ]
        },
        {
          "output_type": "stream",
          "name": "stdout",
          "text": [
            "Epoch: 0, Loss: 2.288764238357544, Acc:0.14336622807017543\n"
          ]
        },
        {
          "output_type": "stream",
          "name": "stderr",
          "text": [
            "100%|██████████| 19/19 [00:03<00:00,  5.06it/s]\n"
          ]
        },
        {
          "output_type": "stream",
          "name": "stdout",
          "text": [
            "Epoch: 1, Loss: 2.0252838134765625, Acc:0.4454495614035087\n"
          ]
        },
        {
          "output_type": "stream",
          "name": "stderr",
          "text": [
            "100%|██████████| 19/19 [00:03<00:00,  4.96it/s]\n"
          ]
        },
        {
          "output_type": "stream",
          "name": "stdout",
          "text": [
            "Epoch: 2, Loss: 1.8913501501083374, Acc:0.5715460526315789\n"
          ]
        },
        {
          "output_type": "stream",
          "name": "stderr",
          "text": [
            "100%|██████████| 19/19 [00:03<00:00,  5.06it/s]\n"
          ]
        },
        {
          "output_type": "stream",
          "name": "stdout",
          "text": [
            "Epoch: 3, Loss: 1.8610423803329468, Acc:0.5986842105263157\n"
          ]
        },
        {
          "output_type": "stream",
          "name": "stderr",
          "text": [
            "100%|██████████| 19/19 [00:03<00:00,  5.00it/s]\n"
          ]
        },
        {
          "output_type": "stream",
          "name": "stdout",
          "text": [
            "Epoch: 4, Loss: 1.8003977537155151, Acc:0.6652960526315789\n"
          ]
        },
        {
          "output_type": "stream",
          "name": "stderr",
          "text": [
            "100%|██████████| 19/19 [00:03<00:00,  4.90it/s]\n"
          ]
        },
        {
          "output_type": "stream",
          "name": "stdout",
          "text": [
            "Epoch: 5, Loss: 1.784981369972229, Acc:0.6795504385964912\n"
          ]
        },
        {
          "output_type": "stream",
          "name": "stderr",
          "text": [
            "100%|██████████| 19/19 [00:03<00:00,  4.80it/s]\n"
          ]
        },
        {
          "output_type": "stream",
          "name": "stdout",
          "text": [
            "Epoch: 6, Loss: 1.734749436378479, Acc:0.7277960526315789\n"
          ]
        },
        {
          "output_type": "stream",
          "name": "stderr",
          "text": [
            "100%|██████████| 19/19 [00:03<00:00,  4.78it/s]\n"
          ]
        },
        {
          "output_type": "stream",
          "name": "stdout",
          "text": [
            "Epoch: 7, Loss: 1.7002999782562256, Acc:0.7606907894736842\n"
          ]
        },
        {
          "output_type": "stream",
          "name": "stderr",
          "text": [
            "100%|██████████| 19/19 [00:03<00:00,  4.78it/s]\n"
          ]
        },
        {
          "output_type": "stream",
          "name": "stdout",
          "text": [
            "Epoch: 8, Loss: 1.6874136924743652, Acc:0.7798793859649122\n"
          ]
        },
        {
          "output_type": "stream",
          "name": "stderr",
          "text": [
            "100%|██████████| 19/19 [00:03<00:00,  5.00it/s]"
          ]
        },
        {
          "output_type": "stream",
          "name": "stdout",
          "text": [
            "Epoch: 9, Loss: 1.6771321296691895, Acc:0.7834429824561403\n"
          ]
        },
        {
          "output_type": "stream",
          "name": "stderr",
          "text": [
            "\n"
          ]
        }
      ]
    },
    {
      "cell_type": "code",
      "source": [
        "# save\n",
        "torch.save(model.state_dict(), 'PersianMNIST.pth')"
      ],
      "metadata": {
        "id": "b7ACks1rNlvT"
      },
      "execution_count": null,
      "outputs": []
    },
    {
      "cell_type": "code",
      "source": [
        "# inference\n",
        "\n",
        "import cv2\n",
        "import numpy as np\n",
        "import time\n",
        "\n",
        "#model.train(False)\n",
        "model.eval()\n",
        "\n",
        "# preprocess\n",
        "img = cv2.imread('/content/photo_2022-05-04_14-43-10.jpg')\n",
        "img = cv2.cvtColor(img, cv2.COLOR_BGR2RGB)\n",
        "img = cv2.resize(img, (70, 70))\n",
        "tensor = transform(img).unsqueeze(0).to(device)\n",
        "#tensor = transform(img)\n",
        "\n",
        "# process\n",
        "start = time.time()\n",
        "preds = model(tensor)\n",
        "end = time.time()\n",
        "\n",
        "# postprocess\n",
        "# _, output=torch.max(preds, 1)\n",
        "preds = preds.cpu().detach().numpy()\n",
        "output = np.argmax(preds)\n",
        "print(f'{output+1}, Process-Time: {end-start}')"
      ],
      "metadata": {
        "colab": {
          "base_uri": "https://localhost:8080/"
        },
        "id": "MUWQu5uviqJ_",
        "outputId": "eb604d01-9a89-423d-ab6f-b3d6e34d12f7"
      },
      "execution_count": null,
      "outputs": [
        {
          "output_type": "stream",
          "name": "stdout",
          "text": [
            "1, Process-Time: 0.002031087875366211\n"
          ]
        }
      ]
    }
  ]
}