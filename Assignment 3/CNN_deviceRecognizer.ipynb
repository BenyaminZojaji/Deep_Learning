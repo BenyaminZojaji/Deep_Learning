{
  "cells": [
    {
      "cell_type": "code",
      "execution_count": null,
      "metadata": {
        "id": "XSO3d4NqI-AK"
      },
      "outputs": [],
      "source": [
        "!pip install wandb"
      ]
    },
    {
      "cell_type": "markdown",
      "metadata": {
        "id": "faJgg_iiJ0sE"
      },
      "source": [
        "### Import libraries"
      ]
    },
    {
      "cell_type": "code",
      "execution_count": 31,
      "metadata": {
        "id": "qrON2akJJOBy"
      },
      "outputs": [],
      "source": [
        "import tensorflow as tf\n",
        "from tensorflow.keras.preprocessing.image import ImageDataGenerator\n",
        "from tensorflow.keras.layers import Conv2D, MaxPool2D, Flatten, Dense\n",
        "import numpy as np\n",
        "from sklearn.metrics import confusion_matrix\n",
        "from sklearn.model_selection import train_test_split\n",
        "import matplotlib.pyplot as plt\n",
        "import seaborn as sn\n",
        "import cv2\n",
        "import wandb\n",
        "from wandb.keras import WandbCallback"
      ]
    },
    {
      "cell_type": "markdown",
      "metadata": {
        "id": "axugkItfJ8cv"
      },
      "source": [
        "### Wandb configuration"
      ]
    },
    {
      "cell_type": "code",
      "execution_count": 3,
      "metadata": {
        "colab": {
          "base_uri": "https://localhost:8080/",
          "height": 163
        },
        "id": "9gPrDmgoKTHl",
        "outputId": "1f5a9963-000d-4832-b11d-f160559e1548"
      },
      "outputs": [
        {
          "data": {
            "application/javascript": "\n        window._wandbApiKey = new Promise((resolve, reject) => {\n            function loadScript(url) {\n            return new Promise(function(resolve, reject) {\n                let newScript = document.createElement(\"script\");\n                newScript.onerror = reject;\n                newScript.onload = resolve;\n                document.body.appendChild(newScript);\n                newScript.src = url;\n            });\n            }\n            loadScript(\"https://cdn.jsdelivr.net/npm/postmate/build/postmate.min.js\").then(() => {\n            const iframe = document.createElement('iframe')\n            iframe.style.cssText = \"width:0;height:0;border:none\"\n            document.body.appendChild(iframe)\n            const handshake = new Postmate({\n                container: iframe,\n                url: 'https://wandb.ai/authorize'\n            });\n            const timeout = setTimeout(() => reject(\"Couldn't auto authenticate\"), 5000)\n            handshake.then(function(child) {\n                child.on('authorize', data => {\n                    clearTimeout(timeout)\n                    resolve(data)\n                });\n            });\n            })\n        });\n    ",
            "text/plain": [
              "<IPython.core.display.Javascript object>"
            ]
          },
          "metadata": {},
          "output_type": "display_data"
        },
        {
          "name": "stderr",
          "output_type": "stream",
          "text": [
            "\u001b[34m\u001b[1mwandb\u001b[0m: You can find your API key in your browser here: https://wandb.ai/authorize\n"
          ]
        },
        {
          "name": "stdout",
          "output_type": "stream",
          "text": [
            "wandb: Paste an API key from your profile and hit enter, or press ctrl+c to quit: ··········\n"
          ]
        },
        {
          "name": "stderr",
          "output_type": "stream",
          "text": [
            "\u001b[34m\u001b[1mwandb\u001b[0m: Appending key for api.wandb.ai to your netrc file: /root/.netrc\n"
          ]
        },
        {
          "data": {
            "text/html": [
              "Tracking run with wandb version 0.12.11"
            ],
            "text/plain": [
              "<IPython.core.display.HTML object>"
            ]
          },
          "metadata": {},
          "output_type": "display_data"
        },
        {
          "data": {
            "text/html": [
              "Run data is saved locally in <code>/content/wandb/run-20220312_082552-7wx36w5m</code>"
            ],
            "text/plain": [
              "<IPython.core.display.HTML object>"
            ]
          },
          "metadata": {},
          "output_type": "display_data"
        },
        {
          "data": {
            "text/html": [
              "Syncing run <strong><a href=\"https://wandb.ai/benyaminzojaji/computer-accessories-recognition/runs/7wx36w5m\" target=\"_blank\">treasured-pond-1</a></strong> to <a href=\"https://wandb.ai/benyaminzojaji/computer-accessories-recognition\" target=\"_blank\">Weights & Biases</a> (<a href=\"https://wandb.me/run\" target=\"_blank\">docs</a>)<br/>"
            ],
            "text/plain": [
              "<IPython.core.display.HTML object>"
            ]
          },
          "metadata": {},
          "output_type": "display_data"
        },
        {
          "data": {
            "text/html": [
              "<button onClick=\"this.nextSibling.style.display='block';this.style.display='none';\">Display W&B run</button><iframe src=\"https://wandb.ai/benyaminzojaji/computer-accessories-recognition/runs/7wx36w5m?jupyter=true\" style=\"border:none;width:100%;height:420px;display:none;\"></iframe>"
            ],
            "text/plain": [
              "<wandb.sdk.wandb_run.Run at 0x7fbc9482eb10>"
            ]
          },
          "execution_count": 3,
          "metadata": {},
          "output_type": "execute_result"
        }
      ],
      "source": [
        "wandb.init(project=\"computer-accessories-recognition\", entity=\"benyaminzojaji\")"
      ]
    },
    {
      "cell_type": "code",
      "execution_count": 4,
      "metadata": {
        "id": "L3WzzufWKa-4"
      },
      "outputs": [],
      "source": [
        "config = wandb.config\n",
        "config.learning_rate = 0.001"
      ]
    },
    {
      "cell_type": "markdown",
      "metadata": {
        "id": "U1TncUk-J_rJ"
      },
      "source": [
        "### Dataset"
      ]
    },
    {
      "cell_type": "code",
      "execution_count": 6,
      "metadata": {
        "colab": {
          "base_uri": "https://localhost:8080/"
        },
        "id": "ECHLunNMKdLj",
        "outputId": "4b5d05f6-5e5b-42eb-efe2-c38fcadf3e7f"
      },
      "outputs": [
        {
          "name": "stdout",
          "output_type": "stream",
          "text": [
            "Found 741 images belonging to 4 classes.\n",
            "Found 80 images belonging to 4 classes.\n"
          ]
        }
      ],
      "source": [
        "dataset_path = '/content/drive/MyDrive/computer accessories'\n",
        "width = height = 224\n",
        "\n",
        "idg = ImageDataGenerator(\n",
        "    rescale = 1./255,\n",
        "\n",
        "    # Augmentation\n",
        "    horizontal_flip = True,\n",
        "    zoom_range = 0.1,\n",
        "    rotation_range = 45,\n",
        "    brightness_range = (0.9, -0.1),\n",
        "    validation_split = 0.1\n",
        ")\n",
        "\n",
        "train_data = idg.flow_from_directory(\n",
        "    dataset_path,\n",
        "    target_size=(width, height),\n",
        "    class_mode='categorical',\n",
        "    subset='training'\n",
        ")\n",
        "\n",
        "val_data = idg.flow_from_directory(\n",
        "    dataset_path,\n",
        "    target_size=(width, height),\n",
        "    class_mode='categorical',\n",
        "    subset='validation'\n",
        ")"
      ]
    },
    {
      "cell_type": "markdown",
      "metadata": {
        "id": "uzYu_nf7KDu8"
      },
      "source": [
        "### Model"
      ]
    },
    {
      "cell_type": "code",
      "execution_count": 12,
      "metadata": {
        "id": "wTIvUpiIQ5id"
      },
      "outputs": [],
      "source": [
        "model = tf.keras.models.Sequential([\n",
        "                                    Conv2D(32, (3, 3), activation='relu', input_shape=(width, height, 3)),\n",
        "                                    Conv2D(32, (3, 3), activation='relu'),\n",
        "                                    MaxPool2D(),\n",
        "                                    Conv2D(32, (3, 3), activation='relu'),\n",
        "                                    Conv2D(32, (3, 3), activation='relu'),\n",
        "                                    MaxPool2D(),\n",
        "                                    Conv2D(32, (3, 3), activation='relu'),\n",
        "                                    Conv2D(32, (3, 3), activation='relu'),\n",
        "                                    MaxPool2D(),\n",
        "\n",
        "                                    Flatten(),\n",
        "                                    Dense(256, activation='relu'),\n",
        "                                    Dense(4, activation='softmax'),\n",
        "])"
      ]
    },
    {
      "cell_type": "code",
      "execution_count": 13,
      "metadata": {
        "id": "3VljU5shR_dX"
      },
      "outputs": [],
      "source": [
        "model.compile(optimizer=tf.keras.optimizers.Adam(config.learning_rate),\n",
        "              loss=tf.keras.losses.categorical_crossentropy,\n",
        "              metrics=['accuracy'])"
      ]
    },
    {
      "cell_type": "code",
      "execution_count": 16,
      "metadata": {
        "colab": {
          "base_uri": "https://localhost:8080/"
        },
        "id": "PsfrL3LCSwob",
        "outputId": "42c6db8e-c297-4962-ac93-ed639098daad"
      },
      "outputs": [
        {
          "name": "stdout",
          "output_type": "stream",
          "text": [
            "Epoch 1/20\n",
            "24/24 [==============================] - 26s 1s/step - loss: 0.9373 - accuracy: 0.6140 - val_loss: 0.9725 - val_accuracy: 0.5375 - _timestamp: 1647075717.0000 - _runtime: 2165.0000\n",
            "Epoch 2/20\n",
            "24/24 [==============================] - 25s 1s/step - loss: 0.9042 - accuracy: 0.6073 - val_loss: 1.0118 - val_accuracy: 0.6250 - _timestamp: 1647075742.0000 - _runtime: 2190.0000\n",
            "Epoch 3/20\n",
            "24/24 [==============================] - 25s 1s/step - loss: 0.8096 - accuracy: 0.6626 - val_loss: 1.1028 - val_accuracy: 0.6000 - _timestamp: 1647075766.0000 - _runtime: 2214.0000\n",
            "Epoch 4/20\n",
            "24/24 [==============================] - 25s 1s/step - loss: 0.8640 - accuracy: 0.6572 - val_loss: 1.1347 - val_accuracy: 0.5750 - _timestamp: 1647075792.0000 - _runtime: 2240.0000\n",
            "Epoch 5/20\n",
            "24/24 [==============================] - 25s 1s/step - loss: 0.8480 - accuracy: 0.6343 - val_loss: 1.0344 - val_accuracy: 0.5875 - _timestamp: 1647075817.0000 - _runtime: 2265.0000\n",
            "Epoch 6/20\n",
            "24/24 [==============================] - 26s 1s/step - loss: 0.8135 - accuracy: 0.6599 - val_loss: 0.9858 - val_accuracy: 0.6250 - _timestamp: 1647075843.0000 - _runtime: 2291.0000\n",
            "Epoch 7/20\n",
            "24/24 [==============================] - 25s 1s/step - loss: 0.8016 - accuracy: 0.6748 - val_loss: 0.8798 - val_accuracy: 0.6250 - _timestamp: 1647075867.0000 - _runtime: 2315.0000\n",
            "Epoch 8/20\n",
            "24/24 [==============================] - 24s 1s/step - loss: 0.7700 - accuracy: 0.6775 - val_loss: 1.3313 - val_accuracy: 0.5875 - _timestamp: 1647075892.0000 - _runtime: 2340.0000\n",
            "Epoch 9/20\n",
            "24/24 [==============================] - 25s 1s/step - loss: 0.7732 - accuracy: 0.6883 - val_loss: 0.7840 - val_accuracy: 0.6875 - _timestamp: 1647075917.0000 - _runtime: 2365.0000\n",
            "Epoch 10/20\n",
            "24/24 [==============================] - 25s 1s/step - loss: 0.7837 - accuracy: 0.6545 - val_loss: 1.0338 - val_accuracy: 0.6250 - _timestamp: 1647075941.0000 - _runtime: 2389.0000\n",
            "Epoch 11/20\n",
            "24/24 [==============================] - 25s 1s/step - loss: 0.8009 - accuracy: 0.6707 - val_loss: 1.1096 - val_accuracy: 0.6375 - _timestamp: 1647075966.0000 - _runtime: 2414.0000\n",
            "Epoch 12/20\n",
            "24/24 [==============================] - 24s 1s/step - loss: 0.7578 - accuracy: 0.6869 - val_loss: 1.0462 - val_accuracy: 0.6625 - _timestamp: 1647075991.0000 - _runtime: 2439.0000\n",
            "Epoch 13/20\n",
            "24/24 [==============================] - 24s 1s/step - loss: 0.7904 - accuracy: 0.6775 - val_loss: 0.8740 - val_accuracy: 0.7000 - _timestamp: 1647076015.0000 - _runtime: 2463.0000\n",
            "Epoch 14/20\n",
            "24/24 [==============================] - 25s 1s/step - loss: 0.6913 - accuracy: 0.7045 - val_loss: 1.4247 - val_accuracy: 0.5750 - _timestamp: 1647076040.0000 - _runtime: 2488.0000\n",
            "Epoch 15/20\n",
            "24/24 [==============================] - 25s 1s/step - loss: 0.7244 - accuracy: 0.7018 - val_loss: 1.2797 - val_accuracy: 0.6375 - _timestamp: 1647076064.0000 - _runtime: 2512.0000\n",
            "Epoch 16/20\n",
            "24/24 [==============================] - 25s 1s/step - loss: 0.7048 - accuracy: 0.7072 - val_loss: 1.0574 - val_accuracy: 0.6750 - _timestamp: 1647076089.0000 - _runtime: 2537.0000\n",
            "Epoch 17/20\n",
            "24/24 [==============================] - 24s 1s/step - loss: 0.6885 - accuracy: 0.7314 - val_loss: 1.1816 - val_accuracy: 0.6000 - _timestamp: 1647076113.0000 - _runtime: 2561.0000\n",
            "Epoch 18/20\n",
            "24/24 [==============================] - 25s 1s/step - loss: 0.7338 - accuracy: 0.7018 - val_loss: 1.3326 - val_accuracy: 0.5500 - _timestamp: 1647076138.0000 - _runtime: 2586.0000\n",
            "Epoch 19/20\n",
            "24/24 [==============================] - 25s 1s/step - loss: 0.7462 - accuracy: 0.6950 - val_loss: 1.0781 - val_accuracy: 0.5500 - _timestamp: 1647076163.0000 - _runtime: 2611.0000\n",
            "Epoch 20/20\n",
            "24/24 [==============================] - 25s 1s/step - loss: 0.6876 - accuracy: 0.7126 - val_loss: 1.2728 - val_accuracy: 0.6625 - _timestamp: 1647076188.0000 - _runtime: 2636.0000\n"
          ]
        },
        {
          "data": {
            "text/plain": [
              "<keras.callbacks.History at 0x7fbc8e1b75d0>"
            ]
          },
          "execution_count": 16,
          "metadata": {},
          "output_type": "execute_result"
        }
      ],
      "source": [
        "model.fit(train_data, validation_data=val_data, epochs=20, callbacks=[WandbCallback()])"
      ]
    },
    {
      "cell_type": "code",
      "execution_count": 17,
      "metadata": {
        "id": "jgdwa0a8Wdp9"
      },
      "outputs": [],
      "source": [
        "model.save('cnn-deviceRecognizer.h5')"
      ]
    },
    {
      "cell_type": "code",
      "execution_count": 19,
      "metadata": {},
      "outputs": [],
      "source": [
        "# ImageDataGenerator has no test split so i'll do this instead ...\n",
        "idg = ImageDataGenerator(\n",
        "    rescale = 1./255,\n",
        "    validation_split=0\n",
        ")"
      ]
    },
    {
      "cell_type": "code",
      "execution_count": 20,
      "metadata": {},
      "outputs": [
        {
          "name": "stdout",
          "output_type": "stream",
          "text": [
            "Found 101 images belonging to 4 classes.\n"
          ]
        }
      ],
      "source": [
        "test_path = '/content/drive/MyDrive/data-accessories/test'\n",
        "width = height = 224\n",
        "test_data = idg.flow_from_directory(\n",
        "    test_path,\n",
        "    target_size=(width, height),\n",
        "    class_mode='categorical',\n",
        "    subset='training'\n",
        ")"
      ]
    },
    {
      "cell_type": "code",
      "execution_count": 21,
      "metadata": {},
      "outputs": [
        {
          "name": "stdout",
          "output_type": "stream",
          "text": [
            "4/4 [==============================] - 2s 307ms/step - loss: 1.1442 - accuracy: 0.7723\n"
          ]
        },
        {
          "data": {
            "text/plain": [
              "[1.1441563367843628, 0.7722772359848022]"
            ]
          },
          "execution_count": 21,
          "metadata": {},
          "output_type": "execute_result"
        }
      ],
      "source": [
        "model.evaluate(test_data)"
      ]
    },
    {
      "cell_type": "code",
      "execution_count": 27,
      "metadata": {},
      "outputs": [],
      "source": [
        "Y_pred = []\n",
        "\n",
        "for path in test_data.filepaths:\n",
        "    img = cv2.imread(path)\n",
        "    img = cv2.cvtColor(img, cv2.COLOR_BGR2RGB)\n",
        "    img = cv2.resize(img, (width, height))\n",
        "    img = img / 255\n",
        "    img = img.reshape(1, width, height, 3)\n",
        "    Y_pred.append(np.argmax(model.predict(img)))"
      ]
    },
    {
      "cell_type": "code",
      "execution_count": 33,
      "metadata": {},
      "outputs": [
        {
          "data": {
            "image/png": "[encoded data removed]",
            "text/plain": [
              "<Figure size 432x288 with 2 Axes>"
            ]
          },
          "metadata": {},
          "output_type": "display_data"
        }
      ],
      "source": [
        "conf_mat = confusion_matrix(test_data.classes, Y_pred)\n",
        "sn.set(font_scale=1.4) # for label size\n",
        "sn.heatmap(conf_mat, annot=True, annot_kws={\"size\": 16})\n",
        "plt.show()"
      ]
    }
  ],
  "metadata": {
    "accelerator": "GPU",
    "colab": {
      "name": "CNN-deviceRecognizer.ipynb",
      "provenance": []
    },
    "kernelspec": {
      "display_name": "Python 3",
      "name": "python3"
    },
    "language_info": {
      "codemirror_mode": {
        "name": "ipython",
        "version": 3
      },
      "file_extension": ".py",
      "mimetype": "text/x-python",
      "name": "python",
      "nbconvert_exporter": "python",
      "pygments_lexer": "ipython3",
      "version": "3.9.10"
    }
  },
  "nbformat": 4,
  "nbformat_minor": 0
}
