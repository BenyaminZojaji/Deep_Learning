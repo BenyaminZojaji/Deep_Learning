{
  "nbformat": 4,
  "nbformat_minor": 0,
  "metadata": {
    "colab": {
      "name": "Mnist.ipynb",
      "provenance": [],
      "authorship_tag": "ABX9TyPqNztY1xTtncmwBeInAwa6",
      "include_colab_link": true
    },
    "kernelspec": {
      "name": "python3",
      "display_name": "Python 3"
    },
    "language_info": {
      "name": "python"
    },
    "accelerator": "GPU"
  },
  "cells": [
    {
      "cell_type": "markdown",
      "metadata": {
        "id": "view-in-github",
        "colab_type": "text"
      },
      "source": [
        "<a href=\"https://colab.research.google.com/github/BenyaminZojaji/Deep_Learning/blob/main/PyTorch%20Mnist/Mnist.ipynb\" target=\"_parent\"><img src=\"https://colab.research.google.com/assets/colab-badge.svg\" alt=\"Open In Colab\"/></a>"
      ]
    },
    {
      "cell_type": "code",
      "execution_count": 13,
      "metadata": {
        "id": "LjlQ41zW9YuQ"
      },
      "outputs": [],
      "source": [
        "import torch\n",
        "import torchvision\n",
        "from tqdm import tqdm"
      ]
    },
    {
      "cell_type": "code",
      "source": [
        "def calc_acc(preds, labels):\n",
        "  _, preds_max = torch.max(preds, 1)\n",
        "  acc = torch.sum(preds_max == labels.data, dtype=torch.float64) / len(preds)\n",
        "  return acc"
      ],
      "metadata": {
        "id": "SICim3pBJYWB"
      },
      "execution_count": 11,
      "outputs": []
    },
    {
      "cell_type": "code",
      "source": [
        "class MyModel(torch.nn.Module):\n",
        "  def __init__(self):\n",
        "    super().__init__()\n",
        "\n",
        "    self.fc1 = torch.nn.Linear(28*28, 128)\n",
        "    self.fc2 = torch.nn.Linear(128, 10)\n",
        "\n",
        "  def forward(self, x):\n",
        "    # input shape: 32 * 28 * 28 * 1 <-> batch-size * height * width * channel\n",
        "    x = x.reshape((x.shape[0], 784))\n",
        "    # output shape: 32 * 784\n",
        "\n",
        "    x = self.fc1(x)\n",
        "    x = torch.relu(x)\n",
        "    x = torch.dropout(x, 0.2, train=True)\n",
        "    x = self.fc2(x)\n",
        "    x = torch.softmax(x, dim=1)\n",
        "    return x"
      ],
      "metadata": {
        "id": "rj_xayUu-7Ia"
      },
      "execution_count": 2,
      "outputs": []
    },
    {
      "cell_type": "code",
      "source": [
        "device = torch.device('cuda')\n",
        "# device = torch.device('cpu')\n",
        "\n",
        "model = MyModel()\n",
        "model = model.to(device)\n",
        "model.train(True)"
      ],
      "metadata": {
        "id": "HlaGZKSABJDx"
      },
      "execution_count": null,
      "outputs": []
    },
    {
      "cell_type": "code",
      "source": [
        "# Hyper Parameters\n",
        "batch_size = 64\n",
        "epochs = 10\n",
        "lr = 0.001"
      ],
      "metadata": {
        "id": "8hma8BpHBucN"
      },
      "execution_count": 4,
      "outputs": []
    },
    {
      "cell_type": "code",
      "source": [
        "# Data Preparing\n",
        "\n",
        "transform = torchvision.transforms.Compose([\n",
        "        torchvision.transforms.ToTensor(),\n",
        "        torchvision.transforms.Normalize((0), (1))\n",
        "])"
      ],
      "metadata": {
        "id": "kTA20kukCR-E"
      },
      "execution_count": 5,
      "outputs": []
    },
    {
      "cell_type": "code",
      "source": [
        "!mkdir dataset"
      ],
      "metadata": {
        "id": "ObWZja3UDNMg"
      },
      "execution_count": 6,
      "outputs": []
    },
    {
      "cell_type": "code",
      "source": [
        "dataset = torchvision.datasets.MNIST('./dataset', train=True, download=True, transform=transform)\n",
        "train_data_loader = torch.utils.data.DataLoader(dataset, batch_size=batch_size, shuffle=True)"
      ],
      "metadata": {
        "id": "3A43YxyqDMiE"
      },
      "execution_count": null,
      "outputs": []
    },
    {
      "cell_type": "code",
      "source": [
        "#\n",
        "optimizer = torch.optim.Adam(model.parameters(), lr=lr)\n",
        "loss_function = torch.nn.CrossEntropyLoss()"
      ],
      "metadata": {
        "id": "Wo3eOdMJE6iZ"
      },
      "execution_count": 10,
      "outputs": []
    },
    {
      "cell_type": "code",
      "source": [
        "# train\n",
        "\n",
        "for epoch in range(epochs):\n",
        "  train_loss = 0.0\n",
        "  train_acc = 0.0\n",
        "  for images, labels in tqdm(train_data_loader):\n",
        "    images = images.to(device)\n",
        "    labels = labels.to(device)\n",
        "    optimizer.zero_grad()\n",
        "\n",
        "    # 1- forwarding\n",
        "    preds = model(images)\n",
        "\n",
        "    # 2- backwarding\n",
        "    loss = loss_function(preds, labels)\n",
        "    loss.backward()\n",
        "\n",
        "    # 3- Update\n",
        "    optimizer.step()\n",
        "\n",
        "    train_loss += loss\n",
        "    train_acc += calc_acc(preds, labels)\n",
        "\n",
        "  total_loss = train_loss / len(train_data_loader)\n",
        "  total_acc = train_acc / len(train_data_loader)\n",
        "\n",
        "  print(f'Epoch: {epoch+1}, Loss: {total_loss}, Acc: {total_acc}')\n"
      ],
      "metadata": {
        "colab": {
          "base_uri": "https://localhost:8080/"
        },
        "id": "VnH4wjfxHF2U",
        "outputId": "ed0b1d42-523a-41f9-95e6-aefadfffb9e3"
      },
      "execution_count": 14,
      "outputs": [
        {
          "output_type": "stream",
          "name": "stderr",
          "text": [
            "100%|██████████| 938/938 [00:14<00:00, 66.91it/s]\n"
          ]
        },
        {
          "output_type": "stream",
          "name": "stdout",
          "text": [
            "Epoch: 1, Loss: 1.6186983585357666, Acc: 0.8718516791044776\n"
          ]
        },
        {
          "output_type": "stream",
          "name": "stderr",
          "text": [
            "100%|██████████| 938/938 [00:13<00:00, 67.79it/s]\n"
          ]
        },
        {
          "output_type": "stream",
          "name": "stdout",
          "text": [
            "Epoch: 2, Loss: 1.5392043590545654, Acc: 0.9298540778251599\n"
          ]
        },
        {
          "output_type": "stream",
          "name": "stderr",
          "text": [
            "100%|██████████| 938/938 [00:13<00:00, 67.25it/s]\n"
          ]
        },
        {
          "output_type": "stream",
          "name": "stdout",
          "text": [
            "Epoch: 3, Loss: 1.522964358329773, Acc: 0.9442297441364605\n"
          ]
        },
        {
          "output_type": "stream",
          "name": "stderr",
          "text": [
            "100%|██████████| 938/938 [00:13<00:00, 67.54it/s]\n"
          ]
        },
        {
          "output_type": "stream",
          "name": "stdout",
          "text": [
            "Epoch: 4, Loss: 1.5128486156463623, Acc: 0.9536247334754797\n"
          ]
        },
        {
          "output_type": "stream",
          "name": "stderr",
          "text": [
            "100%|██████████| 938/938 [00:17<00:00, 54.70it/s]\n"
          ]
        },
        {
          "output_type": "stream",
          "name": "stdout",
          "text": [
            "Epoch: 5, Loss: 1.5066568851470947, Acc: 0.958805303837953\n"
          ]
        },
        {
          "output_type": "stream",
          "name": "stderr",
          "text": [
            "100%|██████████| 938/938 [00:14<00:00, 66.76it/s]\n"
          ]
        },
        {
          "output_type": "stream",
          "name": "stdout",
          "text": [
            "Epoch: 6, Loss: 1.5016999244689941, Acc: 0.9632695895522387\n"
          ]
        },
        {
          "output_type": "stream",
          "name": "stderr",
          "text": [
            "100%|██████████| 938/938 [00:15<00:00, 59.14it/s]\n"
          ]
        },
        {
          "output_type": "stream",
          "name": "stdout",
          "text": [
            "Epoch: 7, Loss: 1.498868465423584, Acc: 0.9657682569296375\n"
          ]
        },
        {
          "output_type": "stream",
          "name": "stderr",
          "text": [
            "100%|██████████| 938/938 [00:15<00:00, 58.84it/s]\n"
          ]
        },
        {
          "output_type": "stream",
          "name": "stdout",
          "text": [
            "Epoch: 8, Loss: 1.4958008527755737, Acc: 0.968566764392324\n"
          ]
        },
        {
          "output_type": "stream",
          "name": "stderr",
          "text": [
            "100%|██████████| 938/938 [00:13<00:00, 67.28it/s]\n"
          ]
        },
        {
          "output_type": "stream",
          "name": "stdout",
          "text": [
            "Epoch: 9, Loss: 1.4923021793365479, Acc: 0.9717484008528784\n"
          ]
        },
        {
          "output_type": "stream",
          "name": "stderr",
          "text": [
            "100%|██████████| 938/938 [00:13<00:00, 67.09it/s]"
          ]
        },
        {
          "output_type": "stream",
          "name": "stdout",
          "text": [
            "Epoch: 10, Loss: 1.4915443658828735, Acc: 0.9722314765458422\n"
          ]
        },
        {
          "output_type": "stream",
          "name": "stderr",
          "text": [
            "\n"
          ]
        }
      ]
    },
    {
      "cell_type": "code",
      "source": [
        "# save\n",
        "torch.save(model.state_dict(), 'mnist.pth')"
      ],
      "metadata": {
        "id": "72eDRMeqLCi1"
      },
      "execution_count": null,
      "outputs": []
    },
    {
      "cell_type": "code",
      "source": [
        "# inference\n",
        "\n",
        "import cv2\n",
        "import numpy as np\n",
        "\n",
        "#model.train(False)\n",
        "model.eval()\n",
        "\n",
        "# oreoricess\n",
        "img = cv2.imread('3.png')\n",
        "img = cv2.cvtColor(img, cv2.COLOR_BGR2GRAY)\n",
        "img = cv2.resize(img, (28, 28))\n",
        "tensor = transform(img).unsqueeze(0).to(device)\n",
        "\n",
        "# process\n",
        "preds = model(tensor)\n",
        "\n",
        "# postprocess\n",
        "# _, output=torch.max(preds, 1)\n",
        "preds = preds.cpu().detach().numpy()\n",
        "output = np.argmax(preds)\n",
        "print(output)"
      ],
      "metadata": {
        "colab": {
          "base_uri": "https://localhost:8080/"
        },
        "id": "S8cSaC42D2cw",
        "outputId": "526a843f-ac7b-458c-d71c-444eb46d3195"
      },
      "execution_count": 19,
      "outputs": [
        {
          "output_type": "stream",
          "name": "stdout",
          "text": [
            "3\n"
          ]
        }
      ]
    }
  ]
}