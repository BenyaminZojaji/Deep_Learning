{
  "nbformat": 4,
  "nbformat_minor": 0,
  "metadata": {
    "colab": {
      "name": "mnist.ipynb",
      "provenance": [],
      "authorship_tag": "ABX9TyMZsWMql4G585HDpM48OVA4",
      "include_colab_link": true
    },
    "kernelspec": {
      "name": "python3",
      "display_name": "Python 3"
    },
    "language_info": {
      "name": "python"
    },
    "accelerator": "GPU"
  },
  "cells": [
    {
      "cell_type": "markdown",
      "metadata": {
        "id": "view-in-github",
        "colab_type": "text"
      },
      "source": [
        "<a href=\"https://colab.research.google.com/github/BenyaminZojaji/Deep_Learning/blob/main/mnist/mnist.ipynb\" target=\"_parent\"><img src=\"https://colab.research.google.com/assets/colab-badge.svg\" alt=\"Open In Colab\"/></a>"
      ]
    },
    {
      "cell_type": "code",
      "execution_count": 1,
      "metadata": {
        "id": "fvsEcbh3Ziew"
      },
      "outputs": [],
      "source": [
        "import tensorflow as tf\n",
        "from tensorflow.keras.layers import Conv2D, Flatten,Dense\n",
        "from tensorflow.keras import Model\n",
        "from tqdm import tqdm"
      ]
    },
    {
      "cell_type": "code",
      "source": [
        "# hyper parameter\n",
        "\n",
        "batch_size = 12\n",
        "epochs=5"
      ],
      "metadata": {
        "id": "hJ0udhcLe12N"
      },
      "execution_count": 27,
      "outputs": []
    },
    {
      "cell_type": "code",
      "source": [
        "mnist = tf.keras.datasets.mnist\n",
        "\n",
        "(X_train, Y_train), (X_test, Y_test) = mnist.load_data()\n",
        "X_train = X_train / 255.0\n",
        "X_test = X_test / 255.0\n",
        "\n",
        "X_train = X_train[..., tf.newaxis]\n",
        "X_test = X_test[..., tf.newaxis]\n",
        "\n",
        "train_data = tf.data.Dataset.from_tensor_slices((X_train, Y_train)).shuffle(10000).batch(batch_size)\n",
        "test_data = tf.data.Dataset.from_tensor_slices((X_test, Y_test)).batch(batch_size)"
      ],
      "metadata": {
        "id": "nVMEUN_McIrq"
      },
      "execution_count": 19,
      "outputs": []
    },
    {
      "cell_type": "code",
      "source": [
        "X_train[0].shape"
      ],
      "metadata": {
        "colab": {
          "base_uri": "https://localhost:8080/"
        },
        "id": "WUz6mu_ndqNG",
        "outputId": "3ea5a366-f5ea-4dcf-e989-de8eb76387a3"
      },
      "execution_count": 13,
      "outputs": [
        {
          "output_type": "execute_result",
          "data": {
            "text/plain": [
              "(28, 28, 1)"
            ]
          },
          "metadata": {},
          "execution_count": 13
        }
      ]
    },
    {
      "cell_type": "code",
      "source": [
        "class BeniNet(Model):\n",
        "  def __init__(self):\n",
        "    super().__init__()\n",
        "    \n",
        "    self.dense_1 = Dense(128, activation='relu')\n",
        "    self.dense_2 = Dense(10)\n",
        "    self.conv2d_1 = Conv2D(32, (3, 3), activation='relu')\n",
        "    self.conv2d_2 = Conv2D(64, (5, 5), activation='relu')\n",
        "    self.flatten = Flatten()\n",
        "\n",
        "  def call(self, x):\n",
        "    y = self.conv2d_1(x)\n",
        "    u = self.flatten(y)\n",
        "    v = self.dense_1(u)\n",
        "    out = self.dense_2(v)\n",
        "\n",
        "    return out"
      ],
      "metadata": {
        "id": "ccVxLcIXdBQM"
      },
      "execution_count": 20,
      "outputs": []
    },
    {
      "cell_type": "code",
      "source": [
        "model = BeniNet()"
      ],
      "metadata": {
        "id": "FWgP8GlgevXb"
      },
      "execution_count": 21,
      "outputs": []
    },
    {
      "cell_type": "code",
      "source": [
        "optimizer = tf.keras.optimizers.Adam()\n",
        "loss_function = tf.keras.losses.SparseCategoricalCrossentropy(from_logits=True)"
      ],
      "metadata": {
        "id": "zNsBqhzvu-i0"
      },
      "execution_count": 22,
      "outputs": []
    },
    {
      "cell_type": "code",
      "source": [
        "train_loss = tf.keras.metrics.Mean()\n",
        "test_loss = tf.keras.metrics.Mean()\n",
        "train_accuracy = tf.keras.metrics.SparseCategoricalAccuracy()\n",
        "test_accuracy = tf.keras.metrics.SparseCategoricalAccuracy()"
      ],
      "metadata": {
        "id": "VnvUsFiNw-Zy"
      },
      "execution_count": 25,
      "outputs": []
    },
    {
      "cell_type": "code",
      "source": [
        "# train loop\n",
        "# .fit()\n",
        "\n",
        "for epoch in range(epochs):\n",
        "  train_accuracy.reset_states()\n",
        "  test_accuracy.reset_states()\n",
        "  train_loss.reset_states()\n",
        "  test_loss.reset_states()\n",
        "  print(f'Epoch: {epoch+1}')\n",
        "  # Training -------------------------------------------\n",
        "  for images, labels in tqdm(train_data):\n",
        "    with tf.GradientTape() as gTape:\n",
        "      predictions = model(images)\n",
        "      loss= loss_function(labels, predictions)\n",
        "      train_loss(loss)\n",
        "      train_accuracy(labels, predictions)\n",
        "    \n",
        "    # محاسبات مشتق ها\n",
        "    gradients = gTape.gradient(loss, model.trainable_variables)\n",
        "\n",
        "    #به روز رسانی وزن ها\n",
        "    optimizer.apply_gradients(zip(gradients, model.trainable_variables))\n",
        "\n",
        "  # Validation -----------------------------------------\n",
        "  for images, labels in tqdm(test_data):\n",
        "    predictions = model(images)\n",
        "    loss= loss_function(labels, predictions)\n",
        "    test_accuracy(labels, predictions)\n",
        "    test_loss(loss)\n",
        "\n",
        "  print('Train Accuracy:', train_accuracy.result())\n",
        "  print('Test Accuracy:', test_accuracy.result())\n",
        "  print('Train Loss:', train_loss.result())\n",
        "  print('Test Loss:', test_loss.result())\n"
      ],
      "metadata": {
        "colab": {
          "base_uri": "https://localhost:8080/"
        },
        "id": "2xm4ZZNIvZB7",
        "outputId": "ea048d6e-6b1f-41d7-d228-8acca86156a9"
      },
      "execution_count": 28,
      "outputs": [
        {
          "output_type": "stream",
          "name": "stdout",
          "text": [
            "Epoch: 1\n"
          ]
        },
        {
          "output_type": "stream",
          "name": "stderr",
          "text": [
            "100%|██████████| 5000/5000 [01:29<00:00, 55.88it/s]\n",
            "100%|██████████| 834/834 [00:07<00:00, 107.06it/s]\n"
          ]
        },
        {
          "output_type": "stream",
          "name": "stdout",
          "text": [
            "Train Accuracy: tf.Tensor(0.9946833, shape=(), dtype=float32)\n",
            "Test Accuracy: tf.Tensor(0.9826, shape=(), dtype=float32)\n",
            "Train Loss: tf.Tensor(0.016322259, shape=(), dtype=float32)\n",
            "Test Loss: tf.Tensor(0.06016765, shape=(), dtype=float32)\n",
            "Epoch: 2\n"
          ]
        },
        {
          "output_type": "stream",
          "name": "stderr",
          "text": [
            "100%|██████████| 5000/5000 [01:29<00:00, 56.01it/s]\n",
            "100%|██████████| 834/834 [00:07<00:00, 105.83it/s]\n"
          ]
        },
        {
          "output_type": "stream",
          "name": "stdout",
          "text": [
            "Train Accuracy: tf.Tensor(0.99663335, shape=(), dtype=float32)\n",
            "Test Accuracy: tf.Tensor(0.9832, shape=(), dtype=float32)\n",
            "Train Loss: tf.Tensor(0.009660417, shape=(), dtype=float32)\n",
            "Test Loss: tf.Tensor(0.0692687, shape=(), dtype=float32)\n",
            "Epoch: 3\n"
          ]
        },
        {
          "output_type": "stream",
          "name": "stderr",
          "text": [
            "100%|██████████| 5000/5000 [01:29<00:00, 55.69it/s]\n",
            "100%|██████████| 834/834 [00:07<00:00, 108.59it/s]\n"
          ]
        },
        {
          "output_type": "stream",
          "name": "stdout",
          "text": [
            "Train Accuracy: tf.Tensor(0.9977667, shape=(), dtype=float32)\n",
            "Test Accuracy: tf.Tensor(0.9793, shape=(), dtype=float32)\n",
            "Train Loss: tf.Tensor(0.0071526556, shape=(), dtype=float32)\n",
            "Test Loss: tf.Tensor(0.10683039, shape=(), dtype=float32)\n",
            "Epoch: 4\n"
          ]
        },
        {
          "output_type": "stream",
          "name": "stderr",
          "text": [
            "100%|██████████| 5000/5000 [01:29<00:00, 55.90it/s]\n",
            "100%|██████████| 834/834 [00:07<00:00, 110.55it/s]\n"
          ]
        },
        {
          "output_type": "stream",
          "name": "stdout",
          "text": [
            "Train Accuracy: tf.Tensor(0.99815, shape=(), dtype=float32)\n",
            "Test Accuracy: tf.Tensor(0.9826, shape=(), dtype=float32)\n",
            "Train Loss: tf.Tensor(0.0054467283, shape=(), dtype=float32)\n",
            "Test Loss: tf.Tensor(0.08501676, shape=(), dtype=float32)\n",
            "Epoch: 5\n"
          ]
        },
        {
          "output_type": "stream",
          "name": "stderr",
          "text": [
            "100%|██████████| 5000/5000 [01:28<00:00, 56.68it/s]\n",
            "100%|██████████| 834/834 [00:07<00:00, 110.25it/s]"
          ]
        },
        {
          "output_type": "stream",
          "name": "stdout",
          "text": [
            "Train Accuracy: tf.Tensor(0.99878335, shape=(), dtype=float32)\n",
            "Test Accuracy: tf.Tensor(0.9827, shape=(), dtype=float32)\n",
            "Train Loss: tf.Tensor(0.0040797186, shape=(), dtype=float32)\n",
            "Test Loss: tf.Tensor(0.089339405, shape=(), dtype=float32)\n"
          ]
        },
        {
          "output_type": "stream",
          "name": "stderr",
          "text": [
            "\n"
          ]
        }
      ]
    }
  ]
}