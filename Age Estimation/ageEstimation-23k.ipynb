{
  "nbformat": 4,
  "nbformat_minor": 0,
  "metadata": {
    "colab": {
      "name": "ageEstimation.ipynb",
      "provenance": [],
      "authorship_tag": "ABX9TyO7I7QpWUgelLQYKsr7wNiN",
      "include_colab_link": true
    },
    "kernelspec": {
      "name": "python3",
      "display_name": "Python 3"
    },
    "language_info": {
      "name": "python"
    },
    "accelerator": "GPU"
  },
  "cells": [
    {
      "cell_type": "markdown",
      "metadata": {
        "id": "view-in-github",
        "colab_type": "text"
      },
      "source": [
        "<a href=\"https://colab.research.google.com/github/BenyaminZojaji/Deep_Learning/blob/main/Age%20Estimation/ageEstimation-23k.ipynb\" target=\"_parent\"><img src=\"https://colab.research.google.com/assets/colab-badge.svg\" alt=\"Open In Colab\"/></a>"
      ]
    },
    {
      "cell_type": "code",
      "source": [
        "!mkdir ~/.kaggle\n",
        "!mv kaggle.json ~/.kaggle\n",
        "!ls -a ~/.kaggle"
      ],
      "metadata": {
        "id": "fsGctw5_a3Fy"
      },
      "execution_count": null,
      "outputs": []
    },
    {
      "cell_type": "code",
      "source": [
        "!kaggle datasets download -d jangedoo/utkface-new\n",
        "!unzip utkface-new.zip"
      ],
      "metadata": {
        "id": "Dn4feLA8t5tP"
      },
      "execution_count": null,
      "outputs": []
    },
    {
      "cell_type": "code",
      "source": [
        "import os\n",
        "import random\n",
        "import pandas as pd\n",
        "import numpy as np\n",
        "import matplotlib.pyplot as plt\n",
        "import cv2\n",
        "import tensorflow as tf\n",
        "from tensorflow.keras.layers import Conv2D, MaxPooling2D, Dropout, Flatten, Dense\n",
        "from tensorflow.keras.optimizers import Adam\n",
        "from tensorflow.keras.preprocessing.image import ImageDataGenerator\n",
        "from sklearn.model_selection import train_test_split"
      ],
      "metadata": {
        "id": "S39muau3uhuQ"
      },
      "execution_count": 3,
      "outputs": []
    },
    {
      "cell_type": "code",
      "source": [
        "width = height = 224\n",
        "batch_size = 32"
      ],
      "metadata": {
        "id": "7VG1bYusyPfo"
      },
      "execution_count": 4,
      "outputs": []
    },
    {
      "cell_type": "code",
      "source": [
        "images = [] # X\n",
        "ages = [] # Y\n",
        "\n",
        "for image_name in os.listdir('/content/utkface_aligned_cropped/crop_part1'):\n",
        "  ages.append(int(image_name.split('_')[0]))\n",
        "\n",
        "  image = cv2.imread(f'/content/utkface_aligned_cropped/crop_part1/{image_name}')\n",
        "  image = cv2.cvtColor(image, cv2.COLOR_BGR2RGB)\n",
        "  image = cv2.resize(image, (width, height))\n",
        "  images.append(image)"
      ],
      "metadata": {
        "id": "gurEGF1iv-pI"
      },
      "execution_count": null,
      "outputs": []
    },
    {
      "cell_type": "code",
      "source": [
        "images = pd.Series(images, name='Images')\n",
        "ages = pd.Series(ages, name='Ages')\n",
        "\n",
        "dataframe = pd.concat([images, ages], axis=1)\n",
        "dataframe.head()"
      ],
      "metadata": {
        "colab": {
          "base_uri": "https://localhost:8080/",
          "height": 206
        },
        "id": "4oQ81w-SyTa8",
        "outputId": "7b259522-1a1a-44ef-a0af-ca258db7db1d"
      },
      "execution_count": null,
      "outputs": [
        {
          "output_type": "execute_result",
          "data": {
            "text/plain": [
              "                                              Images  Ages\n",
              "0  [[[150, 127, 113], [155, 132, 118], [163, 140,...    62\n",
              "1  [[[32, 33, 35], [32, 33, 35], [33, 34, 36], [3...    48\n",
              "2  [[[252, 254, 253], [251, 253, 252], [251, 252,...     1\n",
              "3  [[[37, 34, 29], [38, 35, 30], [40, 36, 30], [4...    18\n",
              "4  [[[219, 217, 228], [219, 217, 228], [218, 215,...    39"
            ],
            "text/html": [
              "\n",
              "  <div id=\"df-dc6fe77a-0329-4c42-9de6-edc3f4a7d792\">\n",
              "    <div class=\"colab-df-container\">\n",
              "      <div>\n",
              "<style scoped>\n",
              "    .dataframe tbody tr th:only-of-type {\n",
              "        vertical-align: middle;\n",
              "    }\n",
              "\n",
              "    .dataframe tbody tr th {\n",
              "        vertical-align: top;\n",
              "    }\n",
              "\n",
              "    .dataframe thead th {\n",
              "        text-align: right;\n",
              "    }\n",
              "</style>\n",
              "<table border=\"1\" class=\"dataframe\">\n",
              "  <thead>\n",
              "    <tr style=\"text-align: right;\">\n",
              "      <th></th>\n",
              "      <th>Images</th>\n",
              "      <th>Ages</th>\n",
              "    </tr>\n",
              "  </thead>\n",
              "  <tbody>\n",
              "    <tr>\n",
              "      <th>0</th>\n",
              "      <td>[[[150, 127, 113], [155, 132, 118], [163, 140,...</td>\n",
              "      <td>62</td>\n",
              "    </tr>\n",
              "    <tr>\n",
              "      <th>1</th>\n",
              "      <td>[[[32, 33, 35], [32, 33, 35], [33, 34, 36], [3...</td>\n",
              "      <td>48</td>\n",
              "    </tr>\n",
              "    <tr>\n",
              "      <th>2</th>\n",
              "      <td>[[[252, 254, 253], [251, 253, 252], [251, 252,...</td>\n",
              "      <td>1</td>\n",
              "    </tr>\n",
              "    <tr>\n",
              "      <th>3</th>\n",
              "      <td>[[[37, 34, 29], [38, 35, 30], [40, 36, 30], [4...</td>\n",
              "      <td>18</td>\n",
              "    </tr>\n",
              "    <tr>\n",
              "      <th>4</th>\n",
              "      <td>[[[219, 217, 228], [219, 217, 228], [218, 215,...</td>\n",
              "      <td>39</td>\n",
              "    </tr>\n",
              "  </tbody>\n",
              "</table>\n",
              "</div>\n",
              "      <button class=\"colab-df-convert\" onclick=\"convertToInteractive('df-dc6fe77a-0329-4c42-9de6-edc3f4a7d792')\"\n",
              "              title=\"Convert this dataframe to an interactive table.\"\n",
              "              style=\"display:none;\">\n",
              "        \n",
              "  <svg xmlns=\"http://www.w3.org/2000/svg\" height=\"24px\"viewBox=\"0 0 24 24\"\n",
              "       width=\"24px\">\n",
              "    <path d=\"M0 0h24v24H0V0z\" fill=\"none\"/>\n",
              "    <path d=\"M18.56 5.44l.94 2.06.94-2.06 2.06-.94-2.06-.94-.94-2.06-.94 2.06-2.06.94zm-11 1L8.5 8.5l.94-2.06 2.06-.94-2.06-.94L8.5 2.5l-.94 2.06-2.06.94zm10 10l.94 2.06.94-2.06 2.06-.94-2.06-.94-.94-2.06-.94 2.06-2.06.94z\"/><path d=\"M17.41 7.96l-1.37-1.37c-.4-.4-.92-.59-1.43-.59-.52 0-1.04.2-1.43.59L10.3 9.45l-7.72 7.72c-.78.78-.78 2.05 0 2.83L4 21.41c.39.39.9.59 1.41.59.51 0 1.02-.2 1.41-.59l7.78-7.78 2.81-2.81c.8-.78.8-2.07 0-2.86zM5.41 20L4 18.59l7.72-7.72 1.47 1.35L5.41 20z\"/>\n",
              "  </svg>\n",
              "      </button>\n",
              "      \n",
              "  <style>\n",
              "    .colab-df-container {\n",
              "      display:flex;\n",
              "      flex-wrap:wrap;\n",
              "      gap: 12px;\n",
              "    }\n",
              "\n",
              "    .colab-df-convert {\n",
              "      background-color: #E8F0FE;\n",
              "      border: none;\n",
              "      border-radius: 50%;\n",
              "      cursor: pointer;\n",
              "      display: none;\n",
              "      fill: #1967D2;\n",
              "      height: 32px;\n",
              "      padding: 0 0 0 0;\n",
              "      width: 32px;\n",
              "    }\n",
              "\n",
              "    .colab-df-convert:hover {\n",
              "      background-color: #E2EBFA;\n",
              "      box-shadow: 0px 1px 2px rgba(60, 64, 67, 0.3), 0px 1px 3px 1px rgba(60, 64, 67, 0.15);\n",
              "      fill: #174EA6;\n",
              "    }\n",
              "\n",
              "    [theme=dark] .colab-df-convert {\n",
              "      background-color: #3B4455;\n",
              "      fill: #D2E3FC;\n",
              "    }\n",
              "\n",
              "    [theme=dark] .colab-df-convert:hover {\n",
              "      background-color: #434B5C;\n",
              "      box-shadow: 0px 1px 3px 1px rgba(0, 0, 0, 0.15);\n",
              "      filter: drop-shadow(0px 1px 2px rgba(0, 0, 0, 0.3));\n",
              "      fill: #FFFFFF;\n",
              "    }\n",
              "  </style>\n",
              "\n",
              "      <script>\n",
              "        const buttonEl =\n",
              "          document.querySelector('#df-dc6fe77a-0329-4c42-9de6-edc3f4a7d792 button.colab-df-convert');\n",
              "        buttonEl.style.display =\n",
              "          google.colab.kernel.accessAllowed ? 'block' : 'none';\n",
              "\n",
              "        async function convertToInteractive(key) {\n",
              "          const element = document.querySelector('#df-dc6fe77a-0329-4c42-9de6-edc3f4a7d792');\n",
              "          const dataTable =\n",
              "            await google.colab.kernel.invokeFunction('convertToInteractive',\n",
              "                                                     [key], {});\n",
              "          if (!dataTable) return;\n",
              "\n",
              "          const docLinkHtml = 'Like what you see? Visit the ' +\n",
              "            '<a target=\"_blank\" href=https://colab.research.google.com/notebooks/data_table.ipynb>data table notebook</a>'\n",
              "            + ' to learn more about interactive tables.';\n",
              "          element.innerHTML = '';\n",
              "          dataTable['output_type'] = 'display_data';\n",
              "          await google.colab.output.renderOutput(dataTable, element);\n",
              "          const docLink = document.createElement('div');\n",
              "          docLink.innerHTML = docLinkHtml;\n",
              "          element.appendChild(docLink);\n",
              "        }\n",
              "      </script>\n",
              "    </div>\n",
              "  </div>\n",
              "  "
            ]
          },
          "metadata": {},
          "execution_count": 7
        }
      ]
    },
    {
      "cell_type": "code",
      "source": [
        "dataframe.shape"
      ],
      "metadata": {
        "colab": {
          "base_uri": "https://localhost:8080/"
        },
        "id": "gItmGLrAzQf2",
        "outputId": "04b981ab-3e11-4ea5-90bc-425ff6c5c37f"
      },
      "execution_count": null,
      "outputs": [
        {
          "output_type": "execute_result",
          "data": {
            "text/plain": [
              "(9780, 2)"
            ]
          },
          "metadata": {},
          "execution_count": 9
        }
      ]
    },
    {
      "cell_type": "code",
      "source": [
        "print(dataframe['Ages'][0])\n",
        "plt.imshow(dataframe['Images'][0])\n",
        "plt.show()"
      ],
      "metadata": {
        "colab": {
          "base_uri": "https://localhost:8080/",
          "height": 305
        },
        "id": "x346i5hny14p",
        "outputId": "5521dfea-f3f2-4f2d-ca57-7fdd64b21c05"
      },
      "execution_count": null,
      "outputs": [
        {
          "output_type": "stream",
          "name": "stdout",
          "text": [
            "62\n"
          ]
        },
        {
          "output_type": "execute_result",
          "data": {
            "text/plain": [
              "<matplotlib.image.AxesImage at 0x7f53d9b85a90>"
            ]
          },
          "metadata": {},
          "execution_count": 8
        },
        {
          "output_type": "display_data",
          "data": {
            "text/plain": [
              "<Figure size 432x288 with 1 Axes>"
            ],
            "image/png": "[encoded data removed]"
          },
          "metadata": {
            "needs_background": "light"
          }
        }
      ]
    },
    {
      "cell_type": "code",
      "source": [
        "plt.figure(figsize=(18, 6))\n",
        "plt.hist(dataframe['Ages'], bins=dataframe['Ages'].max())\n",
        "plt.show()"
      ],
      "metadata": {
        "colab": {
          "base_uri": "https://localhost:8080/",
          "height": 374
        },
        "id": "T9pyHaADzlx6",
        "outputId": "11d07aab-509c-4c84-9144-1b7b6d45af75"
      },
      "execution_count": null,
      "outputs": [
        {
          "output_type": "display_data",
          "data": {
            "text/plain": [
              "<Figure size 1296x432 with 1 Axes>"
            ],
            "image/png": "[encoded data removed]"
          },
          "metadata": {
            "needs_background": "light"
          }
        }
      ]
    },
    {
      "cell_type": "code",
      "source": [
        "under_4 = dataframe[dataframe['Ages'] <= 4]\n",
        "under_4_new = under_4.sample(frac=0.3)\n",
        "\n",
        "up_4 = dataframe[dataframe['Ages'] > 4]\n",
        "\n",
        "dataframe = pd.concat([under_4_new, up_4], axis=0)"
      ],
      "metadata": {
        "id": "vvDVtaIL0UBX"
      },
      "execution_count": null,
      "outputs": []
    },
    {
      "cell_type": "code",
      "source": [
        "plt.figure(figsize=(18, 6))\n",
        "plt.hist(dataframe['Ages'], bins=dataframe['Ages'].max())\n",
        "plt.show()"
      ],
      "metadata": {
        "colab": {
          "base_uri": "https://localhost:8080/",
          "height": 374
        },
        "id": "hsio8dGH1BCx",
        "outputId": "12a3a072-6c57-4826-e9ff-9927dcdd38d1"
      },
      "execution_count": null,
      "outputs": [
        {
          "output_type": "display_data",
          "data": {
            "text/plain": [
              "<Figure size 1296x432 with 1 Axes>"
            ],
            "image/png": "[encoded data removed]"
          },
          "metadata": {
            "needs_background": "light"
          }
        }
      ]
    },
    {
      "cell_type": "code",
      "source": [
        "X = np.array(dataframe['Images'].values.tolist())\n",
        "Y = np.array(dataframe['Ages'].values.tolist())"
      ],
      "metadata": {
        "id": "Jiw0E20u1M4f"
      },
      "execution_count": null,
      "outputs": []
    },
    {
      "cell_type": "code",
      "source": [
        "print(X.shape)\n",
        "print(Y.shape)"
      ],
      "metadata": {
        "colab": {
          "base_uri": "https://localhost:8080/"
        },
        "id": "v8sF0yUD1YW4",
        "outputId": "ceed5480-2065-4178-8862-a0baf52fe91f"
      },
      "execution_count": null,
      "outputs": [
        {
          "output_type": "stream",
          "name": "stdout",
          "text": [
            "(8288, 224, 224, 3)\n",
            "(8288,)\n"
          ]
        }
      ]
    },
    {
      "cell_type": "code",
      "source": [
        "X_train, X_val, Y_train, Y_val = train_test_split(X, Y, test_size=0.2)\n",
        "\n",
        "print(X_train.shape)\n",
        "print(X_val.shape)\n",
        "print(Y_train.shape)\n",
        "print(Y_val.shape)"
      ],
      "metadata": {
        "colab": {
          "base_uri": "https://localhost:8080/"
        },
        "id": "GQmZHmzC1fIp",
        "outputId": "f99697b0-3e47-4f11-c8fd-9176504b07e9"
      },
      "execution_count": null,
      "outputs": [
        {
          "output_type": "stream",
          "name": "stdout",
          "text": [
            "(6630, 224, 224, 3)\n",
            "(1658, 224, 224, 3)\n",
            "(6630,)\n",
            "(1658,)\n"
          ]
        }
      ]
    },
    {
      "cell_type": "code",
      "source": [
        "idg = ImageDataGenerator(rescale=1./255,\n",
        "                         horizontal_flip=True,\n",
        "                         )\n",
        "train_data = idg.flow(X_train, Y_train, batch_size=batch_size)\n",
        "val_data = idg.flow(X_val, Y_val, batch_size=batch_size)"
      ],
      "metadata": {
        "id": "2wwvEd1R2TWZ"
      },
      "execution_count": null,
      "outputs": []
    },
    {
      "cell_type": "markdown",
      "source": [
        "### Train"
      ],
      "metadata": {
        "id": "OuMbICsk3BgJ"
      }
    },
    {
      "cell_type": "code",
      "source": [
        "base_model = tf.keras.applications.Xception(\n",
        "    input_shape = (width, height, 3),\n",
        "    weights='imagenet',\n",
        "    include_top=False,\n",
        "    pooling='avg'\n",
        ")"
      ],
      "metadata": {
        "id": "TrP4OVVP3C8k"
      },
      "execution_count": null,
      "outputs": []
    },
    {
      "cell_type": "code",
      "source": [
        "for layer in base_model.layers[:-4]:\n",
        "  layer.trainable = False"
      ],
      "metadata": {
        "id": "IqJIbvVE4TK5"
      },
      "execution_count": null,
      "outputs": []
    },
    {
      "cell_type": "code",
      "source": [
        "model = tf.keras.Sequential([\n",
        "                             base_model,\n",
        "                             Dropout(0.5),\n",
        "                             Dense(1)\n",
        "])"
      ],
      "metadata": {
        "id": "oqtzvX1j4gDq"
      },
      "execution_count": null,
      "outputs": []
    },
    {
      "cell_type": "code",
      "source": [
        "model.compile(optimizer=Adam(),\n",
        "              loss=tf.keras.losses.mse)"
      ],
      "metadata": {
        "id": "boGqO5AY4te7"
      },
      "execution_count": null,
      "outputs": []
    },
    {
      "cell_type": "code",
      "source": [
        "model.fit(train_data, validation_data=val_data, epochs=20, shuffle=True)"
      ],
      "metadata": {
        "colab": {
          "base_uri": "https://localhost:8080/"
        },
        "id": "faoyDHk24_U0",
        "outputId": "ad9920c0-7d28-444e-bbba-6b8e50193940"
      },
      "execution_count": null,
      "outputs": [
        {
          "output_type": "stream",
          "name": "stdout",
          "text": [
            "Epoch 1/20\n",
            "208/208 [==============================] - 87s 402ms/step - loss: 445.1893 - val_loss: 157.0190\n",
            "Epoch 2/20\n",
            "208/208 [==============================] - 83s 398ms/step - loss: 160.2462 - val_loss: 142.1984\n",
            "Epoch 3/20\n",
            "208/208 [==============================] - 83s 399ms/step - loss: 140.8151 - val_loss: 149.6323\n",
            "Epoch 4/20\n",
            "208/208 [==============================] - 83s 399ms/step - loss: 129.1274 - val_loss: 146.7122\n",
            "Epoch 5/20\n",
            "208/208 [==============================] - 83s 400ms/step - loss: 119.5699 - val_loss: 127.4383\n",
            "Epoch 6/20\n",
            "208/208 [==============================] - 84s 405ms/step - loss: 116.5004 - val_loss: 121.4342\n",
            "Epoch 7/20\n",
            "208/208 [==============================] - 83s 398ms/step - loss: 103.0864 - val_loss: 180.8490\n",
            "Epoch 8/20\n",
            "208/208 [==============================] - 83s 398ms/step - loss: 101.1716 - val_loss: 143.2186\n",
            "Epoch 9/20\n",
            "208/208 [==============================] - 83s 399ms/step - loss: 96.0519 - val_loss: 120.2317\n",
            "Epoch 10/20\n",
            "208/208 [==============================] - 83s 398ms/step - loss: 89.1173 - val_loss: 121.0693\n",
            "Epoch 11/20\n",
            "208/208 [==============================] - 83s 398ms/step - loss: 87.3762 - val_loss: 119.0296\n",
            "Epoch 12/20\n",
            "208/208 [==============================] - 83s 398ms/step - loss: 84.2570 - val_loss: 120.8649\n",
            "Epoch 13/20\n",
            "208/208 [==============================] - 83s 400ms/step - loss: 81.1627 - val_loss: 117.3810\n",
            "Epoch 14/20\n",
            "208/208 [==============================] - 83s 398ms/step - loss: 77.3923 - val_loss: 114.5123\n",
            "Epoch 15/20\n",
            "208/208 [==============================] - 83s 398ms/step - loss: 70.7688 - val_loss: 118.3367\n",
            "Epoch 16/20\n",
            "208/208 [==============================] - 83s 398ms/step - loss: 70.8171 - val_loss: 111.2727\n",
            "Epoch 17/20\n",
            "208/208 [==============================] - 83s 398ms/step - loss: 68.7105 - val_loss: 121.7651\n",
            "Epoch 18/20\n",
            "208/208 [==============================] - 83s 401ms/step - loss: 65.4600 - val_loss: 117.6935\n",
            "Epoch 19/20\n",
            "208/208 [==============================] - 83s 401ms/step - loss: 65.3090 - val_loss: 133.6954\n",
            "Epoch 20/20\n",
            "208/208 [==============================] - 83s 399ms/step - loss: 63.8816 - val_loss: 124.6832\n"
          ]
        },
        {
          "output_type": "execute_result",
          "data": {
            "text/plain": [
              "<keras.callbacks.History at 0x7f535d1f76d0>"
            ]
          },
          "metadata": {},
          "execution_count": 30
        }
      ]
    },
    {
      "cell_type": "code",
      "source": [
        "model.save('xception-ageEstimation.h5')"
      ],
      "metadata": {
        "id": "hAoad8ibGEJC"
      },
      "execution_count": null,
      "outputs": []
    },
    {
      "cell_type": "markdown",
      "source": [
        "### Inference"
      ],
      "metadata": {
        "id": "SfXrJUz6EN2n"
      }
    },
    {
      "cell_type": "code",
      "source": [
        "image = cv2.imread('/content/16.jpg')\n",
        "image = cv2.cvtColor(image, cv2.COLOR_BGR2RGB)\n",
        "image = cv2.resize(image, (width, height))\n",
        "image = image/255\n",
        "image = image[np.newaxis, ...]\n",
        "\n",
        "result = model.predict(image)\n",
        "print(result)"
      ],
      "metadata": {
        "colab": {
          "base_uri": "https://localhost:8080/"
        },
        "id": "nLqePjCk6EE6",
        "outputId": "54bd2912-2d76-4f98-bb61-10468a498603"
      },
      "execution_count": null,
      "outputs": [
        {
          "output_type": "stream",
          "name": "stdout",
          "text": [
            "[[34.84138]]\n"
          ]
        }
      ]
    },
    {
      "cell_type": "markdown",
      "source": [
        "### 23K Image"
      ],
      "metadata": {
        "id": "MRCxL-vr9f2M"
      }
    },
    {
      "cell_type": "code",
      "source": [
        "images = [] # X\n",
        "ages = [] # Y\n",
        "DIR = '/content/UTKFace/'\n",
        "\n",
        "for image_name in os.listdir(DIR):\n",
        "    age = int(image_name.split('_')[0])\n",
        "    if age<=4 and (random.choices([True, False], cum_weights=(70, 30))[0]):\n",
        "        continue\n",
        "    if random.choices([True, False], cum_weights=(35, 65))[0]:\n",
        "        continue\n",
        "    ages.append(age)\n",
        "    image = cv2.imread(f'{DIR}{image_name}')\n",
        "    image = cv2.cvtColor(image, cv2.COLOR_BGR2RGB)\n",
        "    image = cv2.resize(image, (width, height))\n",
        "    images.append(image)"
      ],
      "metadata": {
        "id": "OsgA52Fy9fV-"
      },
      "execution_count": 5,
      "outputs": []
    },
    {
      "cell_type": "code",
      "source": [
        "X_train, X_val, Y_train, Y_val = train_test_split(np.array(pd.Series(images, name='Images').values.tolist()), np.array(pd.Series(ages, name='Ages').values.tolist()), test_size=0.2)\n",
        "\n",
        "print(X_train.shape)\n",
        "print(X_val.shape)\n",
        "print(Y_train.shape)\n",
        "print(Y_val.shape)"
      ],
      "metadata": {
        "colab": {
          "base_uri": "https://localhost:8080/"
        },
        "id": "kQV_BWpp_ASO",
        "outputId": "b8af65bc-38ab-411b-c5ea-1e4bce100686"
      },
      "execution_count": 6,
      "outputs": [
        {
          "output_type": "stream",
          "name": "stdout",
          "text": [
            "(7908, 224, 224, 3)\n",
            "(1977, 224, 224, 3)\n",
            "(7908,)\n",
            "(1977,)\n"
          ]
        }
      ]
    },
    {
      "cell_type": "code",
      "source": [
        "idg = ImageDataGenerator(rescale=1./255,\n",
        "                         horizontal_flip=True,\n",
        "                         )\n",
        "train_data = idg.flow(X_train, Y_train, batch_size=batch_size)\n",
        "val_data = idg.flow(X_val, Y_val, batch_size=batch_size)"
      ],
      "metadata": {
        "id": "oaG_asWw_JLI"
      },
      "execution_count": 7,
      "outputs": []
    },
    {
      "cell_type": "code",
      "source": [
        "base_model = tf.keras.applications.ResNet50V2(\n",
        "    input_shape = (width, height, 3),\n",
        "    weights='imagenet',\n",
        "    include_top=False,\n",
        "    pooling='avg'\n",
        ")"
      ],
      "metadata": {
        "id": "_1Me1DX8_MEX"
      },
      "execution_count": null,
      "outputs": []
    },
    {
      "cell_type": "code",
      "source": [
        "for layer in base_model.layers[:-4]:\n",
        "  layer.trainable = False"
      ],
      "metadata": {
        "id": "P8NbejyN_SRU"
      },
      "execution_count": 9,
      "outputs": []
    },
    {
      "cell_type": "code",
      "source": [
        "model = tf.keras.Sequential([\n",
        "                             base_model,\n",
        "                             Dropout(0.5),\n",
        "                             Dense(1)\n",
        "])"
      ],
      "metadata": {
        "id": "K58e447a_VHA"
      },
      "execution_count": 10,
      "outputs": []
    },
    {
      "cell_type": "code",
      "source": [
        "model.compile(optimizer=Adam(),\n",
        "              loss=tf.keras.losses.mse)"
      ],
      "metadata": {
        "id": "D8IBoRi8_Ya_"
      },
      "execution_count": 11,
      "outputs": []
    },
    {
      "cell_type": "code",
      "source": [
        "model.fit(train_data, validation_data=val_data, epochs=10, shuffle=True)"
      ],
      "metadata": {
        "colab": {
          "base_uri": "https://localhost:8080/"
        },
        "id": "c9KcPGPE_cnd",
        "outputId": "f6fc5578-fe04-4adb-9dd9-18474df8bcfa"
      },
      "execution_count": 12,
      "outputs": [
        {
          "output_type": "stream",
          "name": "stdout",
          "text": [
            "Epoch 1/10\n",
            "248/248 [==============================] - 78s 254ms/step - loss: 578.6626 - val_loss: 362.6829\n",
            "Epoch 2/10\n",
            "248/248 [==============================] - 60s 243ms/step - loss: 301.2593 - val_loss: 248.6703\n",
            "Epoch 3/10\n",
            "248/248 [==============================] - 60s 243ms/step - loss: 231.9728 - val_loss: 197.4274\n",
            "Epoch 4/10\n",
            "248/248 [==============================] - 60s 243ms/step - loss: 200.5521 - val_loss: 179.1208\n",
            "Epoch 5/10\n",
            "248/248 [==============================] - 60s 243ms/step - loss: 186.4771 - val_loss: 165.9349\n",
            "Epoch 6/10\n",
            "248/248 [==============================] - 60s 243ms/step - loss: 178.0321 - val_loss: 160.8235\n",
            "Epoch 7/10\n",
            "248/248 [==============================] - 60s 243ms/step - loss: 172.8459 - val_loss: 153.6696\n",
            "Epoch 8/10\n",
            "248/248 [==============================] - 60s 243ms/step - loss: 169.0927 - val_loss: 156.3598\n",
            "Epoch 9/10\n",
            "248/248 [==============================] - 60s 243ms/step - loss: 168.0521 - val_loss: 145.8954\n",
            "Epoch 10/10\n",
            "248/248 [==============================] - 60s 243ms/step - loss: 161.7823 - val_loss: 145.4187\n"
          ]
        },
        {
          "output_type": "execute_result",
          "data": {
            "text/plain": [
              "<keras.callbacks.History at 0x7fe00068f2d0>"
            ]
          },
          "metadata": {},
          "execution_count": 12
        }
      ]
    },
    {
      "cell_type": "code",
      "source": [
        "model.save('Resnet50V2-ageEstimation.h5')"
      ],
      "metadata": {
        "id": "vZWBO_zr_lj6"
      },
      "execution_count": null,
      "outputs": []
    }
  ]
}