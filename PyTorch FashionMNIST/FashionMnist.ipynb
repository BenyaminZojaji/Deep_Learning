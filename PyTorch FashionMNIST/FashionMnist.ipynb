{
  "nbformat": 4,
  "nbformat_minor": 0,
  "metadata": {
    "colab": {
      "name": "FashionMnist.ipynb",
      "provenance": [],
      "collapsed_sections": [],
      "authorship_tag": "ABX9TyPXVmORPpYyhynxUszAtJdl",
      "include_colab_link": true
    },
    "kernelspec": {
      "name": "python3",
      "display_name": "Python 3"
    },
    "language_info": {
      "name": "python"
    },
    "widgets": {
      "application/vnd.jupyter.widget-state+json": {
        "ea02803bbd494e8cbacb2a429185abe6": {
          "model_module": "@jupyter-widgets/controls",
          "model_name": "VBoxModel",
          "model_module_version": "1.5.0",
          "state": {
            "_dom_classes": [],
            "_model_module": "@jupyter-widgets/controls",
            "_model_module_version": "1.5.0",
            "_model_name": "VBoxModel",
            "_view_count": null,
            "_view_module": "@jupyter-widgets/controls",
            "_view_module_version": "1.5.0",
            "_view_name": "VBoxView",
            "box_style": "",
            "children": [
              "IPY_MODEL_aed702f4fdf740919f1d2f4d21da9278",
              "IPY_MODEL_b75a3fd617144d9080f50ad54027948e"
            ],
            "layout": "IPY_MODEL_573f54cf3b9d48fcbfbf1fe021c12fae"
          }
        },
        "aed702f4fdf740919f1d2f4d21da9278": {
          "model_module": "@jupyter-widgets/controls",
          "model_name": "LabelModel",
          "model_module_version": "1.5.0",
          "state": {
            "_dom_classes": [],
            "_model_module": "@jupyter-widgets/controls",
            "_model_module_version": "1.5.0",
            "_model_name": "LabelModel",
            "_view_count": null,
            "_view_module": "@jupyter-widgets/controls",
            "_view_module_version": "1.5.0",
            "_view_name": "LabelView",
            "description": "",
            "description_tooltip": null,
            "layout": "IPY_MODEL_0b073dbed45b4dfaac3301d798510efa",
            "placeholder": "​",
            "style": "IPY_MODEL_b655be487dc34911b4ca63ae53fe6807",
            "value": "0.012 MB of 0.012 MB uploaded (0.000 MB deduped)\r"
          }
        },
        "b75a3fd617144d9080f50ad54027948e": {
          "model_module": "@jupyter-widgets/controls",
          "model_name": "FloatProgressModel",
          "model_module_version": "1.5.0",
          "state": {
            "_dom_classes": [],
            "_model_module": "@jupyter-widgets/controls",
            "_model_module_version": "1.5.0",
            "_model_name": "FloatProgressModel",
            "_view_count": null,
            "_view_module": "@jupyter-widgets/controls",
            "_view_module_version": "1.5.0",
            "_view_name": "ProgressView",
            "bar_style": "",
            "description": "",
            "description_tooltip": null,
            "layout": "IPY_MODEL_32b78352146e46939169970bfdb6d530",
            "max": 1,
            "min": 0,
            "orientation": "horizontal",
            "style": "IPY_MODEL_953bca995aa64b93a3ef372648f9f896",
            "value": 1
          }
        },
        "573f54cf3b9d48fcbfbf1fe021c12fae": {
          "model_module": "@jupyter-widgets/base",
          "model_name": "LayoutModel",
          "model_module_version": "1.2.0",
          "state": {
            "_model_module": "@jupyter-widgets/base",
            "_model_module_version": "1.2.0",
            "_model_name": "LayoutModel",
            "_view_count": null,
            "_view_module": "@jupyter-widgets/base",
            "_view_module_version": "1.2.0",
            "_view_name": "LayoutView",
            "align_content": null,
            "align_items": null,
            "align_self": null,
            "border": null,
            "bottom": null,
            "display": null,
            "flex": null,
            "flex_flow": null,
            "grid_area": null,
            "grid_auto_columns": null,
            "grid_auto_flow": null,
            "grid_auto_rows": null,
            "grid_column": null,
            "grid_gap": null,
            "grid_row": null,
            "grid_template_areas": null,
            "grid_template_columns": null,
            "grid_template_rows": null,
            "height": null,
            "justify_content": null,
            "justify_items": null,
            "left": null,
            "margin": null,
            "max_height": null,
            "max_width": null,
            "min_height": null,
            "min_width": null,
            "object_fit": null,
            "object_position": null,
            "order": null,
            "overflow": null,
            "overflow_x": null,
            "overflow_y": null,
            "padding": null,
            "right": null,
            "top": null,
            "visibility": null,
            "width": null
          }
        },
        "0b073dbed45b4dfaac3301d798510efa": {
          "model_module": "@jupyter-widgets/base",
          "model_name": "LayoutModel",
          "model_module_version": "1.2.0",
          "state": {
            "_model_module": "@jupyter-widgets/base",
            "_model_module_version": "1.2.0",
            "_model_name": "LayoutModel",
            "_view_count": null,
            "_view_module": "@jupyter-widgets/base",
            "_view_module_version": "1.2.0",
            "_view_name": "LayoutView",
            "align_content": null,
            "align_items": null,
            "align_self": null,
            "border": null,
            "bottom": null,
            "display": null,
            "flex": null,
            "flex_flow": null,
            "grid_area": null,
            "grid_auto_columns": null,
            "grid_auto_flow": null,
            "grid_auto_rows": null,
            "grid_column": null,
            "grid_gap": null,
            "grid_row": null,
            "grid_template_areas": null,
            "grid_template_columns": null,
            "grid_template_rows": null,
            "height": null,
            "justify_content": null,
            "justify_items": null,
            "left": null,
            "margin": null,
            "max_height": null,
            "max_width": null,
            "min_height": null,
            "min_width": null,
            "object_fit": null,
            "object_position": null,
            "order": null,
            "overflow": null,
            "overflow_x": null,
            "overflow_y": null,
            "padding": null,
            "right": null,
            "top": null,
            "visibility": null,
            "width": null
          }
        },
        "b655be487dc34911b4ca63ae53fe6807": {
          "model_module": "@jupyter-widgets/controls",
          "model_name": "DescriptionStyleModel",
          "model_module_version": "1.5.0",
          "state": {
            "_model_module": "@jupyter-widgets/controls",
            "_model_module_version": "1.5.0",
            "_model_name": "DescriptionStyleModel",
            "_view_count": null,
            "_view_module": "@jupyter-widgets/base",
            "_view_module_version": "1.2.0",
            "_view_name": "StyleView",
            "description_width": ""
          }
        },
        "32b78352146e46939169970bfdb6d530": {
          "model_module": "@jupyter-widgets/base",
          "model_name": "LayoutModel",
          "model_module_version": "1.2.0",
          "state": {
            "_model_module": "@jupyter-widgets/base",
            "_model_module_version": "1.2.0",
            "_model_name": "LayoutModel",
            "_view_count": null,
            "_view_module": "@jupyter-widgets/base",
            "_view_module_version": "1.2.0",
            "_view_name": "LayoutView",
            "align_content": null,
            "align_items": null,
            "align_self": null,
            "border": null,
            "bottom": null,
            "display": null,
            "flex": null,
            "flex_flow": null,
            "grid_area": null,
            "grid_auto_columns": null,
            "grid_auto_flow": null,
            "grid_auto_rows": null,
            "grid_column": null,
            "grid_gap": null,
            "grid_row": null,
            "grid_template_areas": null,
            "grid_template_columns": null,
            "grid_template_rows": null,
            "height": null,
            "justify_content": null,
            "justify_items": null,
            "left": null,
            "margin": null,
            "max_height": null,
            "max_width": null,
            "min_height": null,
            "min_width": null,
            "object_fit": null,
            "object_position": null,
            "order": null,
            "overflow": null,
            "overflow_x": null,
            "overflow_y": null,
            "padding": null,
            "right": null,
            "top": null,
            "visibility": null,
            "width": null
          }
        },
        "953bca995aa64b93a3ef372648f9f896": {
          "model_module": "@jupyter-widgets/controls",
          "model_name": "ProgressStyleModel",
          "model_module_version": "1.5.0",
          "state": {
            "_model_module": "@jupyter-widgets/controls",
            "_model_module_version": "1.5.0",
            "_model_name": "ProgressStyleModel",
            "_view_count": null,
            "_view_module": "@jupyter-widgets/base",
            "_view_module_version": "1.2.0",
            "_view_name": "StyleView",
            "bar_color": null,
            "description_width": ""
          }
        }
      }
    },
    "accelerator": "GPU"
  },
  "cells": [
    {
      "cell_type": "markdown",
      "metadata": {
        "id": "view-in-github",
        "colab_type": "text"
      },
      "source": [
        "<a href=\"https://colab.research.google.com/github/BenyaminZojaji/Deep_Learning/blob/main/PyTorch%20FashionMNIST/FashionMnist.ipynb\" target=\"_parent\"><img src=\"https://colab.research.google.com/assets/colab-badge.svg\" alt=\"Open In Colab\"/></a>"
      ]
    },
    {
      "cell_type": "code",
      "source": [
        "!pip install wandb"
      ],
      "metadata": {
        "id": "XjtLJYKZwiCa"
      },
      "execution_count": null,
      "outputs": []
    },
    {
      "cell_type": "code",
      "execution_count": 2,
      "metadata": {
        "id": "LwjeIfECOpQ5"
      },
      "outputs": [],
      "source": [
        "import torch\n",
        "import torchvision\n",
        "from tqdm import tqdm\n",
        "import wandb"
      ]
    },
    {
      "cell_type": "code",
      "source": [
        "run = wandb.init(project=\"pytorch-fashionMnist\", entity=\"benyaminzojaji\")"
      ],
      "metadata": {
        "id": "WUT4xX2fwqe5",
        "colab": {
          "base_uri": "https://localhost:8080/",
          "height": 104
        },
        "outputId": "b832a689-333d-4364-8792-bfa91da354e7"
      },
      "execution_count": 3,
      "outputs": [
        {
          "output_type": "display_data",
          "data": {
            "text/plain": [
              "<IPython.core.display.Javascript object>"
            ],
            "application/javascript": [
              "\n",
              "        window._wandbApiKey = new Promise((resolve, reject) => {\n",
              "            function loadScript(url) {\n",
              "            return new Promise(function(resolve, reject) {\n",
              "                let newScript = document.createElement(\"script\");\n",
              "                newScript.onerror = reject;\n",
              "                newScript.onload = resolve;\n",
              "                document.body.appendChild(newScript);\n",
              "                newScript.src = url;\n",
              "            });\n",
              "            }\n",
              "            loadScript(\"https://cdn.jsdelivr.net/npm/postmate/build/postmate.min.js\").then(() => {\n",
              "            const iframe = document.createElement('iframe')\n",
              "            iframe.style.cssText = \"width:0;height:0;border:none\"\n",
              "            document.body.appendChild(iframe)\n",
              "            const handshake = new Postmate({\n",
              "                container: iframe,\n",
              "                url: 'https://wandb.ai/authorize'\n",
              "            });\n",
              "            const timeout = setTimeout(() => reject(\"Couldn't auto authenticate\"), 5000)\n",
              "            handshake.then(function(child) {\n",
              "                child.on('authorize', data => {\n",
              "                    clearTimeout(timeout)\n",
              "                    resolve(data)\n",
              "                });\n",
              "            });\n",
              "            })\n",
              "        });\n",
              "    "
            ]
          },
          "metadata": {}
        },
        {
          "output_type": "stream",
          "name": "stderr",
          "text": [
            "\u001b[34m\u001b[1mwandb\u001b[0m: Appending key for api.wandb.ai to your netrc file: /root/.netrc\n"
          ]
        },
        {
          "output_type": "display_data",
          "data": {
            "text/plain": [
              "<IPython.core.display.HTML object>"
            ],
            "text/html": [
              "Tracking run with wandb version 0.12.13"
            ]
          },
          "metadata": {}
        },
        {
          "output_type": "display_data",
          "data": {
            "text/plain": [
              "<IPython.core.display.HTML object>"
            ],
            "text/html": [
              "Run data is saved locally in <code>/content/wandb/run-20220408_160606-280uwlyv</code>"
            ]
          },
          "metadata": {}
        },
        {
          "output_type": "display_data",
          "data": {
            "text/plain": [
              "<IPython.core.display.HTML object>"
            ],
            "text/html": [
              "Syncing run <strong><a href=\"https://wandb.ai/benyaminzojaji/pytorch-fashionMnist/runs/280uwlyv\" target=\"_blank\">unique-bird-8</a></strong> to <a href=\"https://wandb.ai/benyaminzojaji/pytorch-fashionMnist\" target=\"_blank\">Weights & Biases</a> (<a href=\"https://wandb.me/run\" target=\"_blank\">docs</a>)<br/>"
            ]
          },
          "metadata": {}
        }
      ]
    },
    {
      "cell_type": "code",
      "source": [
        "def calc_acc(preds, labels):\n",
        "  _, preds_max = torch.max(preds, 1)\n",
        "  acc = torch.sum(preds_max == labels.data, dtype=torch.float64) / len(preds)\n",
        "  return acc"
      ],
      "metadata": {
        "id": "T367ppILv3eU"
      },
      "execution_count": 4,
      "outputs": []
    },
    {
      "cell_type": "code",
      "source": [
        "class MyModel(torch.nn.Module):\n",
        "  def __init__(self):\n",
        "    super().__init__()\n",
        "\n",
        "    self.fc1 = torch.nn.Linear(28*28, 128)\n",
        "    self.fc2 = torch.nn.Linear(128, 256)\n",
        "    self.fc3 = torch.nn.Linear(256, 512)\n",
        "    self.fc4 = torch.nn.Linear(512, 10)\n",
        "\n",
        "  def forward(self, x):\n",
        "    # input shape: 32 * 28 * 28 * 1 <-> batch-size * height * width * channel\n",
        "    x = x.reshape((x.shape[0], 784))\n",
        "    # output shape: 32 * 784\n",
        "\n",
        "    x = self.fc1(x)\n",
        "    x = torch.relu(x)\n",
        "    x = torch.dropout(x, 0.3, train=True)\n",
        "    x = self.fc2(x)\n",
        "    x = torch.relu(x)\n",
        "    x = torch.dropout(x, 0.3, train=True)\n",
        "    x = self.fc3(x)\n",
        "    x = torch.relu(x)\n",
        "    x = torch.dropout(x, 0.3, train=True)\n",
        "    x = self.fc4(x)\n",
        "    x = torch.softmax(x, dim=1)\n",
        "    return x"
      ],
      "metadata": {
        "id": "he0VwLriv6Te"
      },
      "execution_count": 5,
      "outputs": []
    },
    {
      "cell_type": "code",
      "source": [
        "device = torch.device('cuda')\n",
        "# device = torch.device('cpu')\n",
        "\n",
        "model = MyModel()\n",
        "model = model.to(device)\n",
        "model.train(True)"
      ],
      "metadata": {
        "id": "p0RW_L8Ex6yK"
      },
      "execution_count": null,
      "outputs": []
    },
    {
      "cell_type": "code",
      "source": [
        "# Data Preparing\n",
        "\n",
        "transform = torchvision.transforms.Compose([\n",
        "        torchvision.transforms.ToTensor(),\n",
        "        torchvision.transforms.Normalize((0), (1))\n",
        "])"
      ],
      "metadata": {
        "id": "wheg-Xl8zL7q"
      },
      "execution_count": 7,
      "outputs": []
    },
    {
      "cell_type": "code",
      "source": [
        "batch_size = 64\n",
        "lr = 0.0001\n",
        "epochs = 10"
      ],
      "metadata": {
        "id": "yr05Hy650UcP"
      },
      "execution_count": 9,
      "outputs": []
    },
    {
      "cell_type": "code",
      "source": [
        "!mkdir dataset"
      ],
      "metadata": {
        "id": "Vg3I75nwzf-y"
      },
      "execution_count": 10,
      "outputs": []
    },
    {
      "cell_type": "code",
      "source": [
        "dataset = torchvision.datasets.FashionMNIST('./dataset', train=True, download=True, transform=transform)\n",
        "train_data_loader = torch.utils.data.DataLoader(dataset, batch_size=batch_size, shuffle=True)"
      ],
      "metadata": {
        "id": "S_wmCQZozj0F"
      },
      "execution_count": null,
      "outputs": []
    },
    {
      "cell_type": "code",
      "source": [
        "dataset = torchvision.datasets.FashionMNIST('./dataset', train=False, download=True, transform=transform)\n",
        "test_data_loader = torch.utils.data.DataLoader(dataset, batch_size=batch_size, shuffle=False)"
      ],
      "metadata": {
        "id": "YrpF5Q9i5ZD5"
      },
      "execution_count": 12,
      "outputs": []
    },
    {
      "cell_type": "code",
      "source": [
        "#\n",
        "optimizer = torch.optim.Adam(model.parameters(), lr=lr)\n",
        "loss_function = torch.nn.CrossEntropyLoss()"
      ],
      "metadata": {
        "id": "935ORQQE0YOS"
      },
      "execution_count": 13,
      "outputs": []
    },
    {
      "cell_type": "code",
      "source": [
        "# train\n",
        "\n",
        "def train_step(images, labels):\n",
        "  loss = 0.0\n",
        "  acc = 0.0\n",
        "\n",
        "  images = images.to(device)\n",
        "  labels = labels.to(device)\n",
        "  optimizer.zero_grad()\n",
        "\n",
        "  # 1- forwarding\n",
        "  preds = model(images)\n",
        "\n",
        "  # 2- backwarding\n",
        "  loss = loss_function(preds, labels)\n",
        "  loss.backward()\n",
        "\n",
        "  # 3- Update\n",
        "  optimizer.step()\n",
        "\n",
        "  acc = calc_acc(preds, labels)\n",
        "\n",
        "  return loss, acc"
      ],
      "metadata": {
        "id": "eUBMC6p-0xcB"
      },
      "execution_count": 14,
      "outputs": []
    },
    {
      "cell_type": "code",
      "source": [
        "def test_step(images, labels):\n",
        "  loss = 0.0\n",
        "  acc = 0.0\n",
        "\n",
        "  images = images.to(device)\n",
        "  labels = labels.to(device)\n",
        "\n",
        "  preds = model(images)\n",
        "\n",
        "  loss = loss_function(preds, labels)\n",
        "\n",
        "  acc = calc_acc(preds, labels)\n",
        "\n",
        "  return loss, acc"
      ],
      "metadata": {
        "id": "5ZV8tNVH3-aM"
      },
      "execution_count": 15,
      "outputs": []
    },
    {
      "cell_type": "code",
      "source": [
        "def train():\n",
        "  for epoch in range(epochs):\n",
        "    train_loss= 0.0\n",
        "    train_acc = 0.0\n",
        "    test_loss = 0.0\n",
        "    test_acc = 0.0\n",
        "\n",
        "    model.train(True)\n",
        "    for images, labels in tqdm(train_data_loader):\n",
        "      t_loss, t_acc = train_step(images, labels)\n",
        "      train_loss += t_loss\n",
        "      train_acc += t_acc\n",
        "    total_train_loss = train_loss / len(train_data_loader)\n",
        "    total_train_acc = train_acc / len(train_data_loader)\n",
        "\n",
        "    model.eval()\n",
        "    for images, labels in tqdm(test_data_loader):\n",
        "      t_loss, t_acc = test_step(images, labels)\n",
        "      test_loss += t_loss\n",
        "      test_acc += t_acc\n",
        "    total_test_loss = test_loss / len(test_data_loader)\n",
        "    total_test_acc = test_acc / len(test_data_loader)\n",
        "  \n",
        "    print(f'Epoch {epoch+1}\\nTrain-Acc: {total_train_acc}, Train-Loss: {total_train_loss}\\nTest-acc: {total_test_acc}, Test-Loss: {total_test_loss}')\n",
        "\n",
        "\n",
        "    wandb.log({'epochs': epoch+1,\n",
        "              'train_loss': total_train_loss,\n",
        "              'train_accuracy': float(total_train_acc),\n",
        "              'test_loss': total_test_loss,\n",
        "              'test_accuracy': float(total_test_acc)\n",
        "              })"
      ],
      "metadata": {
        "id": "l2_l5YyW2w8C"
      },
      "execution_count": 16,
      "outputs": []
    },
    {
      "cell_type": "code",
      "source": [
        "train()\n",
        "run.finish()"
      ],
      "metadata": {
        "colab": {
          "base_uri": "https://localhost:8080/",
          "height": 1000,
          "referenced_widgets": [
            "ea02803bbd494e8cbacb2a429185abe6",
            "aed702f4fdf740919f1d2f4d21da9278",
            "b75a3fd617144d9080f50ad54027948e",
            "573f54cf3b9d48fcbfbf1fe021c12fae",
            "0b073dbed45b4dfaac3301d798510efa",
            "b655be487dc34911b4ca63ae53fe6807",
            "32b78352146e46939169970bfdb6d530",
            "953bca995aa64b93a3ef372648f9f896"
          ]
        },
        "id": "RKH68Oo6xxdE",
        "outputId": "175b04a5-885b-41db-c4eb-a2b351b58ed0"
      },
      "execution_count": 17,
      "outputs": [
        {
          "output_type": "stream",
          "name": "stderr",
          "text": [
            "100%|██████████| 938/938 [00:17<00:00, 52.76it/s]\n",
            "100%|██████████| 157/157 [00:02<00:00, 62.52it/s]\n"
          ]
        },
        {
          "output_type": "stream",
          "name": "stdout",
          "text": [
            "Epoch 1\n",
            "Train-Acc: 0.5983975213219616, Train-Loss: 1.884797215461731\n",
            "Test-acc: 0.7089968152866243, Test-Loss: 1.7622137069702148\n"
          ]
        },
        {
          "output_type": "stream",
          "name": "stderr",
          "text": [
            "100%|██████████| 938/938 [00:17<00:00, 53.34it/s]\n",
            "100%|██████████| 157/157 [00:02<00:00, 61.14it/s]\n"
          ]
        },
        {
          "output_type": "stream",
          "name": "stdout",
          "text": [
            "Epoch 2\n",
            "Train-Acc: 0.7384561567164178, Train-Loss: 1.7306253910064697\n",
            "Test-acc: 0.7459195859872612, Test-Loss: 1.720844030380249\n"
          ]
        },
        {
          "output_type": "stream",
          "name": "stderr",
          "text": [
            "100%|██████████| 938/938 [00:17<00:00, 53.21it/s]\n",
            "100%|██████████| 157/157 [00:02<00:00, 63.01it/s]\n"
          ]
        },
        {
          "output_type": "stream",
          "name": "stdout",
          "text": [
            "Epoch 3\n",
            "Train-Acc: 0.7605443763326226, Train-Loss: 1.7051411867141724\n",
            "Test-acc: 0.7550756369426752, Test-Loss: 1.7078768014907837\n"
          ]
        },
        {
          "output_type": "stream",
          "name": "stderr",
          "text": [
            "100%|██████████| 938/938 [00:17<00:00, 53.82it/s]\n",
            "100%|██████████| 157/157 [00:02<00:00, 62.33it/s]\n"
          ]
        },
        {
          "output_type": "stream",
          "name": "stdout",
          "text": [
            "Epoch 4\n",
            "Train-Acc: 0.7701892324093816, Train-Loss: 1.6938425302505493\n",
            "Test-acc: 0.764828821656051, Test-Loss: 1.6980698108673096\n"
          ]
        },
        {
          "output_type": "stream",
          "name": "stderr",
          "text": [
            "100%|██████████| 938/938 [00:17<00:00, 54.13it/s]\n",
            "100%|██████████| 157/157 [00:02<00:00, 62.62it/s]\n"
          ]
        },
        {
          "output_type": "stream",
          "name": "stdout",
          "text": [
            "Epoch 5\n",
            "Train-Acc: 0.7771188699360341, Train-Loss: 1.6863552331924438\n",
            "Test-acc: 0.772890127388535, Test-Loss: 1.6904644966125488\n"
          ]
        },
        {
          "output_type": "stream",
          "name": "stderr",
          "text": [
            "100%|██████████| 938/938 [00:17<00:00, 53.21it/s]\n",
            "100%|██████████| 157/157 [00:02<00:00, 59.35it/s]\n"
          ]
        },
        {
          "output_type": "stream",
          "name": "stdout",
          "text": [
            "Epoch 6\n",
            "Train-Acc: 0.7835654317697228, Train-Loss: 1.6795933246612549\n",
            "Test-acc: 0.7763734076433121, Test-Loss: 1.6845178604125977\n"
          ]
        },
        {
          "output_type": "stream",
          "name": "stderr",
          "text": [
            "100%|██████████| 938/938 [00:17<00:00, 52.54it/s]\n",
            "100%|██████████| 157/157 [00:02<00:00, 62.94it/s]\n"
          ]
        },
        {
          "output_type": "stream",
          "name": "stdout",
          "text": [
            "Epoch 7\n",
            "Train-Acc: 0.789129131130064, Train-Loss: 1.6739137172698975\n",
            "Test-acc: 0.7781648089171975, Test-Loss: 1.6831979751586914\n"
          ]
        },
        {
          "output_type": "stream",
          "name": "stderr",
          "text": [
            "100%|██████████| 938/938 [00:17<00:00, 53.31it/s]\n",
            "100%|██████████| 157/157 [00:02<00:00, 61.50it/s]\n"
          ]
        },
        {
          "output_type": "stream",
          "name": "stdout",
          "text": [
            "Epoch 8\n",
            "Train-Acc: 0.7920942164179104, Train-Loss: 1.6705663204193115\n",
            "Test-acc: 0.7839371019108281, Test-Loss: 1.6775511503219604\n"
          ]
        },
        {
          "output_type": "stream",
          "name": "stderr",
          "text": [
            "100%|██████████| 938/938 [00:17<00:00, 52.73it/s]\n",
            "100%|██████████| 157/157 [00:02<00:00, 62.87it/s]\n"
          ]
        },
        {
          "output_type": "stream",
          "name": "stdout",
          "text": [
            "Epoch 9\n",
            "Train-Acc: 0.7962753198294243, Train-Loss: 1.6667457818984985\n",
            "Test-acc: 0.7889132165605096, Test-Loss: 1.673443078994751\n"
          ]
        },
        {
          "output_type": "stream",
          "name": "stderr",
          "text": [
            "100%|██████████| 938/938 [00:17<00:00, 52.94it/s]\n",
            "100%|██████████| 157/157 [00:02<00:00, 61.20it/s]\n"
          ]
        },
        {
          "output_type": "stream",
          "name": "stdout",
          "text": [
            "Epoch 10\n",
            "Train-Acc: 0.7986074093816631, Train-Loss: 1.6638545989990234\n",
            "Test-acc: 0.7910031847133758, Test-Loss: 1.669933557510376\n",
            "\n"
          ]
        },
        {
          "output_type": "display_data",
          "data": {
            "text/plain": [
              "<IPython.core.display.HTML object>"
            ],
            "text/html": [
              "Waiting for W&B process to finish... <strong style=\"color:green\">(success).</strong>"
            ]
          },
          "metadata": {}
        },
        {
          "output_type": "display_data",
          "data": {
            "text/plain": [
              "VBox(children=(Label(value='0.001 MB of 0.001 MB uploaded (0.000 MB deduped)\\r'), FloatProgress(value=1.0, max…"
            ],
            "application/vnd.jupyter.widget-view+json": {
              "version_major": 2,
              "version_minor": 0,
              "model_id": "ea02803bbd494e8cbacb2a429185abe6"
            }
          },
          "metadata": {}
        },
        {
          "output_type": "display_data",
          "data": {
            "text/plain": [
              "<IPython.core.display.HTML object>"
            ],
            "text/html": [
              "<style>\n",
              "    table.wandb td:nth-child(1) { padding: 0 10px; text-align: right }\n",
              "    .wandb-row { display: flex; flex-direction: row; flex-wrap: wrap; width: 100% }\n",
              "    .wandb-col { display: flex; flex-direction: column; flex-basis: 100%; flex: 1; padding: 10px; }\n",
              "    </style>\n",
              "<div class=\"wandb-row\"><div class=\"wandb-col\"><h3>Run history:</h3><br/><table class=\"wandb\"><tr><td>epochs</td><td>▁▂▃▃▄▅▆▆▇█</td></tr><tr><td>test_accuracy</td><td>▁▄▅▆▆▇▇▇██</td></tr><tr><td>test_loss</td><td>█▅▄▃▃▂▂▂▁▁</td></tr><tr><td>train_accuracy</td><td>▁▆▇▇▇▇████</td></tr><tr><td>train_loss</td><td>█▃▂▂▂▁▁▁▁▁</td></tr></table><br/></div><div class=\"wandb-col\"><h3>Run summary:</h3><br/><table class=\"wandb\"><tr><td>epochs</td><td>10</td></tr><tr><td>test_accuracy</td><td>0.791</td></tr><tr><td>test_loss</td><td>1.66993</td></tr><tr><td>train_accuracy</td><td>0.79861</td></tr><tr><td>train_loss</td><td>1.66385</td></tr></table><br/></div></div>"
            ]
          },
          "metadata": {}
        },
        {
          "output_type": "display_data",
          "data": {
            "text/plain": [
              "<IPython.core.display.HTML object>"
            ],
            "text/html": [
              "Synced <strong style=\"color:#cdcd00\">unique-bird-8</strong>: <a href=\"https://wandb.ai/benyaminzojaji/pytorch-fashionMnist/runs/280uwlyv\" target=\"_blank\">https://wandb.ai/benyaminzojaji/pytorch-fashionMnist/runs/280uwlyv</a><br/>Synced 5 W&B file(s), 0 media file(s), 0 artifact file(s) and 0 other file(s)"
            ]
          },
          "metadata": {}
        },
        {
          "output_type": "display_data",
          "data": {
            "text/plain": [
              "<IPython.core.display.HTML object>"
            ],
            "text/html": [
              "Find logs at: <code>./wandb/run-20220408_160606-280uwlyv/logs</code>"
            ]
          },
          "metadata": {}
        }
      ]
    },
    {
      "cell_type": "code",
      "source": [
        "# save\n",
        "torch.save(model.state_dict(), 'FashionMNIST.pth')"
      ],
      "metadata": {
        "id": "gFFMTrD1-L9u"
      },
      "execution_count": null,
      "outputs": []
    },
    {
      "cell_type": "code",
      "source": [
        "# inference\n",
        "\n",
        "import cv2\n",
        "import numpy as np\n",
        "import time\n",
        "\n",
        "#model.train(False)\n",
        "model.eval()\n",
        "\n",
        "# preprocess\n",
        "img = cv2.imread('/content/pullover.png')\n",
        "img = cv2.cvtColor(img, cv2.COLOR_BGR2GRAY)\n",
        "img = cv2.resize(img, (28, 28))\n",
        "tensor = transform(img).unsqueeze(0).to(device)\n",
        "\n",
        "# process\n",
        "start = time.time()\n",
        "preds = model(tensor)\n",
        "end = time.time()\n",
        "\n",
        "# postprocess\n",
        "# _, output=torch.max(preds, 1)\n",
        "preds = preds.cpu().detach().numpy()\n",
        "output = np.argmax(preds)\n",
        "classes = ['T-shirt/top', 'Trouser', 'Pullover', 'Dress', 'Coat', 'Sandal', 'Shirt', 'Sneaker', 'Bag', 'Ankle boot']\n",
        "print(f'{classes[output]}, Process-Time: {end-start}')"
      ],
      "metadata": {
        "colab": {
          "base_uri": "https://localhost:8080/"
        },
        "id": "xt1EyCKe-Phj",
        "outputId": "e0d9210c-10eb-45fc-f354-a8a873353ef7"
      },
      "execution_count": null,
      "outputs": [
        {
          "output_type": "stream",
          "name": "stdout",
          "text": [
            "Pullover, Process-Time: 0.001168966293334961\n"
          ]
        }
      ]
    }
  ]
}
