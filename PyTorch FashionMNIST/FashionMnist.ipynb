{
  "nbformat": 4,
  "nbformat_minor": 0,
  "metadata": {
    "colab": {
      "name": "FashionMnist.ipynb",
      "provenance": [],
      "authorship_tag": "ABX9TyMprAZ/R1mxn5V2bfdq3LsE",
      "include_colab_link": true
    },
    "kernelspec": {
      "name": "python3",
      "display_name": "Python 3"
    },
    "language_info": {
      "name": "python"
    },
    "widgets": {
      "application/vnd.jupyter.widget-state+json": {
        "8abf22098490410383efa733ba0d5d30": {
          "model_module": "@jupyter-widgets/controls",
          "model_name": "VBoxModel",
          "model_module_version": "1.5.0",
          "state": {
            "_dom_classes": [],
            "_model_module": "@jupyter-widgets/controls",
            "_model_module_version": "1.5.0",
            "_model_name": "VBoxModel",
            "_view_count": null,
            "_view_module": "@jupyter-widgets/controls",
            "_view_module_version": "1.5.0",
            "_view_name": "VBoxView",
            "box_style": "",
            "children": [
              "IPY_MODEL_ee880f32411c469c806fef700b976b0b",
              "IPY_MODEL_101df37817af4bd0b7c759bd43e5effb"
            ],
            "layout": "IPY_MODEL_4b8418dcea504b96833ea820dbbb12ec"
          }
        },
        "ee880f32411c469c806fef700b976b0b": {
          "model_module": "@jupyter-widgets/controls",
          "model_name": "LabelModel",
          "model_module_version": "1.5.0",
          "state": {
            "_dom_classes": [],
            "_model_module": "@jupyter-widgets/controls",
            "_model_module_version": "1.5.0",
            "_model_name": "LabelModel",
            "_view_count": null,
            "_view_module": "@jupyter-widgets/controls",
            "_view_module_version": "1.5.0",
            "_view_name": "LabelView",
            "description": "",
            "description_tooltip": null,
            "layout": "IPY_MODEL_47e973db1f464fd9b78ff9212d2d1bcd",
            "placeholder": "​",
            "style": "IPY_MODEL_2c94899e745048ffa0d848af58f020af",
            "value": "0.011 MB of 0.011 MB uploaded (0.000 MB deduped)\r"
          }
        },
        "101df37817af4bd0b7c759bd43e5effb": {
          "model_module": "@jupyter-widgets/controls",
          "model_name": "FloatProgressModel",
          "model_module_version": "1.5.0",
          "state": {
            "_dom_classes": [],
            "_model_module": "@jupyter-widgets/controls",
            "_model_module_version": "1.5.0",
            "_model_name": "FloatProgressModel",
            "_view_count": null,
            "_view_module": "@jupyter-widgets/controls",
            "_view_module_version": "1.5.0",
            "_view_name": "ProgressView",
            "bar_style": "",
            "description": "",
            "description_tooltip": null,
            "layout": "IPY_MODEL_3a737b572c004fa9a10ca2983da3b320",
            "max": 1,
            "min": 0,
            "orientation": "horizontal",
            "style": "IPY_MODEL_72d8359fa9774b8a9e1f93011932cf30",
            "value": 1
          }
        },
        "4b8418dcea504b96833ea820dbbb12ec": {
          "model_module": "@jupyter-widgets/base",
          "model_name": "LayoutModel",
          "model_module_version": "1.2.0",
          "state": {
            "_model_module": "@jupyter-widgets/base",
            "_model_module_version": "1.2.0",
            "_model_name": "LayoutModel",
            "_view_count": null,
            "_view_module": "@jupyter-widgets/base",
            "_view_module_version": "1.2.0",
            "_view_name": "LayoutView",
            "align_content": null,
            "align_items": null,
            "align_self": null,
            "border": null,
            "bottom": null,
            "display": null,
            "flex": null,
            "flex_flow": null,
            "grid_area": null,
            "grid_auto_columns": null,
            "grid_auto_flow": null,
            "grid_auto_rows": null,
            "grid_column": null,
            "grid_gap": null,
            "grid_row": null,
            "grid_template_areas": null,
            "grid_template_columns": null,
            "grid_template_rows": null,
            "height": null,
            "justify_content": null,
            "justify_items": null,
            "left": null,
            "margin": null,
            "max_height": null,
            "max_width": null,
            "min_height": null,
            "min_width": null,
            "object_fit": null,
            "object_position": null,
            "order": null,
            "overflow": null,
            "overflow_x": null,
            "overflow_y": null,
            "padding": null,
            "right": null,
            "top": null,
            "visibility": null,
            "width": null
          }
        },
        "47e973db1f464fd9b78ff9212d2d1bcd": {
          "model_module": "@jupyter-widgets/base",
          "model_name": "LayoutModel",
          "model_module_version": "1.2.0",
          "state": {
            "_model_module": "@jupyter-widgets/base",
            "_model_module_version": "1.2.0",
            "_model_name": "LayoutModel",
            "_view_count": null,
            "_view_module": "@jupyter-widgets/base",
            "_view_module_version": "1.2.0",
            "_view_name": "LayoutView",
            "align_content": null,
            "align_items": null,
            "align_self": null,
            "border": null,
            "bottom": null,
            "display": null,
            "flex": null,
            "flex_flow": null,
            "grid_area": null,
            "grid_auto_columns": null,
            "grid_auto_flow": null,
            "grid_auto_rows": null,
            "grid_column": null,
            "grid_gap": null,
            "grid_row": null,
            "grid_template_areas": null,
            "grid_template_columns": null,
            "grid_template_rows": null,
            "height": null,
            "justify_content": null,
            "justify_items": null,
            "left": null,
            "margin": null,
            "max_height": null,
            "max_width": null,
            "min_height": null,
            "min_width": null,
            "object_fit": null,
            "object_position": null,
            "order": null,
            "overflow": null,
            "overflow_x": null,
            "overflow_y": null,
            "padding": null,
            "right": null,
            "top": null,
            "visibility": null,
            "width": null
          }
        },
        "2c94899e745048ffa0d848af58f020af": {
          "model_module": "@jupyter-widgets/controls",
          "model_name": "DescriptionStyleModel",
          "model_module_version": "1.5.0",
          "state": {
            "_model_module": "@jupyter-widgets/controls",
            "_model_module_version": "1.5.0",
            "_model_name": "DescriptionStyleModel",
            "_view_count": null,
            "_view_module": "@jupyter-widgets/base",
            "_view_module_version": "1.2.0",
            "_view_name": "StyleView",
            "description_width": ""
          }
        },
        "3a737b572c004fa9a10ca2983da3b320": {
          "model_module": "@jupyter-widgets/base",
          "model_name": "LayoutModel",
          "model_module_version": "1.2.0",
          "state": {
            "_model_module": "@jupyter-widgets/base",
            "_model_module_version": "1.2.0",
            "_model_name": "LayoutModel",
            "_view_count": null,
            "_view_module": "@jupyter-widgets/base",
            "_view_module_version": "1.2.0",
            "_view_name": "LayoutView",
            "align_content": null,
            "align_items": null,
            "align_self": null,
            "border": null,
            "bottom": null,
            "display": null,
            "flex": null,
            "flex_flow": null,
            "grid_area": null,
            "grid_auto_columns": null,
            "grid_auto_flow": null,
            "grid_auto_rows": null,
            "grid_column": null,
            "grid_gap": null,
            "grid_row": null,
            "grid_template_areas": null,
            "grid_template_columns": null,
            "grid_template_rows": null,
            "height": null,
            "justify_content": null,
            "justify_items": null,
            "left": null,
            "margin": null,
            "max_height": null,
            "max_width": null,
            "min_height": null,
            "min_width": null,
            "object_fit": null,
            "object_position": null,
            "order": null,
            "overflow": null,
            "overflow_x": null,
            "overflow_y": null,
            "padding": null,
            "right": null,
            "top": null,
            "visibility": null,
            "width": null
          }
        },
        "72d8359fa9774b8a9e1f93011932cf30": {
          "model_module": "@jupyter-widgets/controls",
          "model_name": "ProgressStyleModel",
          "model_module_version": "1.5.0",
          "state": {
            "_model_module": "@jupyter-widgets/controls",
            "_model_module_version": "1.5.0",
            "_model_name": "ProgressStyleModel",
            "_view_count": null,
            "_view_module": "@jupyter-widgets/base",
            "_view_module_version": "1.2.0",
            "_view_name": "StyleView",
            "bar_color": null,
            "description_width": ""
          }
        }
      }
    }
  },
  "cells": [
    {
      "cell_type": "markdown",
      "metadata": {
        "id": "view-in-github",
        "colab_type": "text"
      },
      "source": [
        "<a href=\"https://colab.research.google.com/github/BenyaminZojaji/Deep_Learning/blob/main/PyTorch%20FashionMNIST/FashionMnist.ipynb\" target=\"_parent\"><img src=\"https://colab.research.google.com/assets/colab-badge.svg\" alt=\"Open In Colab\"/></a>"
      ]
    },
    {
      "cell_type": "code",
      "source": [
        "!pip install wandb"
      ],
      "metadata": {
        "id": "XjtLJYKZwiCa"
      },
      "execution_count": null,
      "outputs": []
    },
    {
      "cell_type": "code",
      "execution_count": 4,
      "metadata": {
        "id": "LwjeIfECOpQ5"
      },
      "outputs": [],
      "source": [
        "import torch\n",
        "import torchvision\n",
        "from tqdm import tqdm\n",
        "import wandb"
      ]
    },
    {
      "cell_type": "code",
      "source": [
        "run = wandb.init(project=\"pytorch-fashionMnist\", entity=\"benyaminzojaji\")"
      ],
      "metadata": {
        "id": "WUT4xX2fwqe5"
      },
      "execution_count": null,
      "outputs": []
    },
    {
      "cell_type": "code",
      "source": [
        "def calc_acc(preds, labels):\n",
        "  _, preds_max = torch.max(preds, 1)\n",
        "  acc = torch.sum(preds_max == labels.data, dtype=torch.float64) / len(preds)\n",
        "  return acc"
      ],
      "metadata": {
        "id": "T367ppILv3eU"
      },
      "execution_count": 48,
      "outputs": []
    },
    {
      "cell_type": "code",
      "source": [
        "class MyModel(torch.nn.Module):\n",
        "  def __init__(self):\n",
        "    super().__init__()\n",
        "\n",
        "    self.fc1 = torch.nn.Linear(28*28, 128)\n",
        "    self.fc2 = torch.nn.Linear(128, 256)\n",
        "    self.fc3 = torch.nn.Linear(256, 512)\n",
        "    self.fc4 = torch.nn.Linear(512, 10)\n",
        "\n",
        "  def forward(self, x):\n",
        "    # input shape: 32 * 28 * 28 * 1 <-> batch-size * height * width * channel\n",
        "    x = x.reshape((x.shape[0], 784))\n",
        "    # output shape: 32 * 784\n",
        "\n",
        "    x = self.fc1(x)\n",
        "    x = torch.relu(x)\n",
        "    x = torch.dropout(x, 0.3, train=True)\n",
        "    x = self.fc2(x)\n",
        "    x = torch.relu(x)\n",
        "    x = torch.dropout(x, 0.3, train=True)\n",
        "    x = self.fc3(x)\n",
        "    x = torch.relu(x)\n",
        "    x = torch.dropout(x, 0.3, train=True)\n",
        "    x = self.fc4(x)\n",
        "    x = torch.softmax(x, dim=1)\n",
        "    return x"
      ],
      "metadata": {
        "id": "he0VwLriv6Te"
      },
      "execution_count": 49,
      "outputs": []
    },
    {
      "cell_type": "code",
      "source": [
        "device = torch.device('cuda')\n",
        "# device = torch.device('cpu')\n",
        "\n",
        "model = MyModel()\n",
        "model = model.to(device)\n",
        "model.train(True)"
      ],
      "metadata": {
        "id": "p0RW_L8Ex6yK"
      },
      "execution_count": null,
      "outputs": []
    },
    {
      "cell_type": "code",
      "source": [
        "# Data Preparing\n",
        "\n",
        "transform = torchvision.transforms.Compose([\n",
        "        torchvision.transforms.ToTensor(),\n",
        "        torchvision.transforms.Normalize((0), (1))\n",
        "])"
      ],
      "metadata": {
        "id": "wheg-Xl8zL7q"
      },
      "execution_count": 11,
      "outputs": []
    },
    {
      "cell_type": "code",
      "source": [
        "batch_size = 64\n",
        "lr = 0.0001\n",
        "epochs = 10"
      ],
      "metadata": {
        "id": "yr05Hy650UcP"
      },
      "execution_count": 51,
      "outputs": []
    },
    {
      "cell_type": "code",
      "source": [
        "!mkdir dataset"
      ],
      "metadata": {
        "id": "Vg3I75nwzf-y"
      },
      "execution_count": 12,
      "outputs": []
    },
    {
      "cell_type": "code",
      "source": [
        "dataset = torchvision.datasets.FashionMNIST('./dataset', train=True, download=True, transform=transform)\n",
        "train_data_loader = torch.utils.data.DataLoader(dataset, batch_size=batch_size, shuffle=True)"
      ],
      "metadata": {
        "id": "S_wmCQZozj0F"
      },
      "execution_count": 14,
      "outputs": []
    },
    {
      "cell_type": "code",
      "source": [
        "dataset = torchvision.datasets.FashionMNIST('./dataset', train=False, download=True, transform=transform)\n",
        "test_data_loader = torch.utils.data.DataLoader(dataset, batch_size=batch_size, shuffle=True)"
      ],
      "metadata": {
        "id": "YrpF5Q9i5ZD5"
      },
      "execution_count": 20,
      "outputs": []
    },
    {
      "cell_type": "code",
      "source": [
        "#\n",
        "optimizer = torch.optim.Adam(model.parameters(), lr=lr)\n",
        "loss_function = torch.nn.CrossEntropyLoss()"
      ],
      "metadata": {
        "id": "935ORQQE0YOS"
      },
      "execution_count": 52,
      "outputs": []
    },
    {
      "cell_type": "code",
      "source": [
        "# train\n",
        "\n",
        "def train_step(images, labels):\n",
        "  loss = 0.0\n",
        "  acc = 0.0\n",
        "\n",
        "  images = images.to(device)\n",
        "  labels = labels.to(device)\n",
        "  optimizer.zero_grad()\n",
        "\n",
        "  # 1- forwarding\n",
        "  preds = model(images)\n",
        "\n",
        "  # 2- backwarding\n",
        "  loss = loss_function(preds, labels)\n",
        "  loss.backward()\n",
        "\n",
        "  # 3- Update\n",
        "  optimizer.step()\n",
        "\n",
        "  acc = calc_acc(preds, labels)\n",
        "\n",
        "  return loss, acc"
      ],
      "metadata": {
        "id": "eUBMC6p-0xcB"
      },
      "execution_count": 53,
      "outputs": []
    },
    {
      "cell_type": "code",
      "source": [
        "def test_step(images, labels):\n",
        "  loss = 0.0\n",
        "  acc = 0.0\n",
        "\n",
        "  images = images.to(device)\n",
        "  labels = labels.to(device)\n",
        "\n",
        "  preds = model(images)\n",
        "\n",
        "  loss = loss_function(preds, labels)\n",
        "\n",
        "  acc = calc_acc(preds, labels)\n",
        "\n",
        "  return loss, acc"
      ],
      "metadata": {
        "id": "5ZV8tNVH3-aM"
      },
      "execution_count": 54,
      "outputs": []
    },
    {
      "cell_type": "code",
      "source": [
        "def train():\n",
        "  for epoch in range(epochs):\n",
        "    train_loss= 0.0\n",
        "    train_acc = 0.0\n",
        "    test_loss = 0.0\n",
        "    test_acc = 0.0\n",
        "\n",
        "    for images, labels in tqdm(train_data_loader):\n",
        "      t_loss, t_acc = train_step(images, labels)\n",
        "      train_loss += t_loss\n",
        "      train_acc += t_acc\n",
        "    total_train_loss = train_loss / len(train_data_loader)\n",
        "    total_train_acc = train_acc / len(train_data_loader)\n",
        "\n",
        "    for images, labels in tqdm(test_data_loader):\n",
        "      t_loss, t_acc = test_step(images, labels)\n",
        "      test_loss += t_loss\n",
        "      test_acc += t_acc\n",
        "    total_test_loss = test_loss / len(test_data_loader)\n",
        "    total_test_acc = test_acc / len(test_data_loader)\n",
        "  \n",
        "    print(f'Epoch {epoch+1}\\nTrain-Acc: {total_train_acc}, Train-Loss: {total_train_loss}\\nTest-acc: {total_test_acc}, Test-Loss: {total_test_loss}')\n",
        "\n",
        "\n",
        "    wandb.log({'epochs': epoch+1,\n",
        "              'train_loss': total_train_loss,\n",
        "              'train_accuracy': float(total_train_acc),\n",
        "              'test_loss': total_test_loss,\n",
        "              'test_accuracy': float(total_test_acc)\n",
        "              })"
      ],
      "metadata": {
        "id": "l2_l5YyW2w8C"
      },
      "execution_count": 55,
      "outputs": []
    },
    {
      "cell_type": "code",
      "source": [
        "train()\n",
        "run.finish()"
      ],
      "metadata": {
        "colab": {
          "base_uri": "https://localhost:8080/",
          "height": 1000,
          "referenced_widgets": [
            "8abf22098490410383efa733ba0d5d30",
            "ee880f32411c469c806fef700b976b0b",
            "101df37817af4bd0b7c759bd43e5effb",
            "4b8418dcea504b96833ea820dbbb12ec",
            "47e973db1f464fd9b78ff9212d2d1bcd",
            "2c94899e745048ffa0d848af58f020af",
            "3a737b572c004fa9a10ca2983da3b320",
            "72d8359fa9774b8a9e1f93011932cf30"
          ]
        },
        "id": "RKH68Oo6xxdE",
        "outputId": "ec8a7d36-21cd-4ee3-f852-24081c3845b9"
      },
      "execution_count": 56,
      "outputs": [
        {
          "output_type": "stream",
          "name": "stderr",
          "text": [
            "100%|██████████| 938/938 [00:17<00:00, 52.59it/s]\n",
            "100%|██████████| 157/157 [00:02<00:00, 61.57it/s]\n"
          ]
        },
        {
          "output_type": "stream",
          "name": "stdout",
          "text": [
            "Epoch 1\n",
            "Train-Acc: 0.6064598880597015, Train-Loss: 1.875532627105713\n",
            "Test-acc: 0.7395501592356688, Test-Loss: 1.737741231918335\n"
          ]
        },
        {
          "output_type": "stream",
          "name": "stderr",
          "text": [
            "100%|██████████| 938/938 [00:19<00:00, 47.78it/s]\n",
            "100%|██████████| 157/157 [00:02<00:00, 60.81it/s]\n"
          ]
        },
        {
          "output_type": "stream",
          "name": "stdout",
          "text": [
            "Epoch 2\n",
            "Train-Acc: 0.76554171108742, Train-Loss: 1.7048277854919434\n",
            "Test-acc: 0.7760748407643312, Test-Loss: 1.694515347480774\n"
          ]
        },
        {
          "output_type": "stream",
          "name": "stderr",
          "text": [
            "100%|██████████| 938/938 [00:19<00:00, 48.74it/s]\n",
            "100%|██████████| 157/157 [00:02<00:00, 54.41it/s]\n"
          ]
        },
        {
          "output_type": "stream",
          "name": "stdout",
          "text": [
            "Epoch 3\n",
            "Train-Acc: 0.7976745735607675, Train-Loss: 1.670904278755188\n",
            "Test-acc: 0.8031449044585988, Test-Loss: 1.663867712020874\n"
          ]
        },
        {
          "output_type": "stream",
          "name": "stderr",
          "text": [
            "100%|██████████| 938/938 [00:19<00:00, 49.05it/s]\n",
            "100%|██████████| 157/157 [00:02<00:00, 54.20it/s]\n"
          ]
        },
        {
          "output_type": "stream",
          "name": "stdout",
          "text": [
            "Epoch 4\n",
            "Train-Acc: 0.8160481076759062, Train-Loss: 1.6503533124923706\n",
            "Test-acc: 0.8101114649681529, Test-Loss: 1.6544032096862793\n"
          ]
        },
        {
          "output_type": "stream",
          "name": "stderr",
          "text": [
            "100%|██████████| 938/938 [00:18<00:00, 49.66it/s]\n",
            "100%|██████████| 157/157 [00:02<00:00, 59.02it/s]\n"
          ]
        },
        {
          "output_type": "stream",
          "name": "stdout",
          "text": [
            "Epoch 5\n",
            "Train-Acc: 0.8269422974413646, Train-Loss: 1.6384525299072266\n",
            "Test-acc: 0.8189689490445861, Test-Loss: 1.6464072465896606\n"
          ]
        },
        {
          "output_type": "stream",
          "name": "stderr",
          "text": [
            "100%|██████████| 938/938 [00:17<00:00, 52.36it/s]\n",
            "100%|██████████| 157/157 [00:02<00:00, 60.25it/s]\n"
          ]
        },
        {
          "output_type": "stream",
          "name": "stdout",
          "text": [
            "Epoch 6\n",
            "Train-Acc: 0.8332889125799573, Train-Loss: 1.630677342414856\n",
            "Test-acc: 0.8295183121019108, Test-Loss: 1.6355340480804443\n"
          ]
        },
        {
          "output_type": "stream",
          "name": "stderr",
          "text": [
            "100%|██████████| 938/938 [00:20<00:00, 46.07it/s]\n",
            "100%|██████████| 157/157 [00:03<00:00, 46.80it/s]\n"
          ]
        },
        {
          "output_type": "stream",
          "name": "stdout",
          "text": [
            "Epoch 7\n",
            "Train-Acc: 0.8411347281449894, Train-Loss: 1.6231130361557007\n",
            "Test-acc: 0.8332006369426752, Test-Loss: 1.6317706108093262\n"
          ]
        },
        {
          "output_type": "stream",
          "name": "stderr",
          "text": [
            "100%|██████████| 938/938 [00:19<00:00, 48.47it/s]\n",
            "100%|██████████| 157/157 [00:02<00:00, 55.05it/s]\n"
          ]
        },
        {
          "output_type": "stream",
          "name": "stdout",
          "text": [
            "Epoch 8\n",
            "Train-Acc: 0.8446828358208955, Train-Loss: 1.6188095808029175\n",
            "Test-acc: 0.8346934713375797, Test-Loss: 1.6278111934661865\n"
          ]
        },
        {
          "output_type": "stream",
          "name": "stderr",
          "text": [
            "100%|██████████| 938/938 [00:19<00:00, 46.98it/s]\n",
            "100%|██████████| 157/157 [00:02<00:00, 59.00it/s]\n"
          ]
        },
        {
          "output_type": "stream",
          "name": "stdout",
          "text": [
            "Epoch 9\n",
            "Train-Acc: 0.8494469616204691, Train-Loss: 1.6138088703155518\n",
            "Test-acc: 0.8387738853503185, Test-Loss: 1.6237313747406006\n"
          ]
        },
        {
          "output_type": "stream",
          "name": "stderr",
          "text": [
            "100%|██████████| 938/938 [00:19<00:00, 49.09it/s]\n",
            "100%|██████████| 157/157 [00:02<00:00, 61.38it/s]\n"
          ]
        },
        {
          "output_type": "stream",
          "name": "stdout",
          "text": [
            "Epoch 10\n",
            "Train-Acc: 0.8525119936034115, Train-Loss: 1.6104018688201904\n",
            "Test-acc: 0.8408638535031847, Test-Loss: 1.62169349193573\n",
            "\n"
          ]
        },
        {
          "output_type": "display_data",
          "data": {
            "text/plain": [
              "<IPython.core.display.HTML object>"
            ],
            "text/html": [
              "Waiting for W&B process to finish... <strong style=\"color:green\">(success).</strong>"
            ]
          },
          "metadata": {}
        },
        {
          "output_type": "display_data",
          "data": {
            "text/plain": [
              "VBox(children=(Label(value='0.001 MB of 0.001 MB uploaded (0.000 MB deduped)\\r'), FloatProgress(value=1.0, max…"
            ],
            "application/vnd.jupyter.widget-view+json": {
              "version_major": 2,
              "version_minor": 0,
              "model_id": "8abf22098490410383efa733ba0d5d30"
            }
          },
          "metadata": {}
        },
        {
          "output_type": "display_data",
          "data": {
            "text/plain": [
              "<IPython.core.display.HTML object>"
            ],
            "text/html": [
              "<style>\n",
              "    table.wandb td:nth-child(1) { padding: 0 10px; text-align: right }\n",
              "    .wandb-row { display: flex; flex-direction: row; flex-wrap: wrap; width: 100% }\n",
              "    .wandb-col { display: flex; flex-direction: column; flex-basis: 100%; flex: 1; padding: 10px; }\n",
              "    </style>\n",
              "<div class=\"wandb-row\"><div class=\"wandb-col\"><h3>Run history:</h3><br/><table class=\"wandb\"><tr><td>epochs</td><td>▁▂▃▃▄▅▆▆▇█</td></tr><tr><td>test_accuracy</td><td>▁▄▅▆▆▇▇███</td></tr><tr><td>test_loss</td><td>█▅▄▃▂▂▂▁▁▁</td></tr><tr><td>train_accuracy</td><td>▁▆▆▇▇▇████</td></tr><tr><td>train_loss</td><td>█▃▃▂▂▂▁▁▁▁</td></tr></table><br/></div><div class=\"wandb-col\"><h3>Run summary:</h3><br/><table class=\"wandb\"><tr><td>epochs</td><td>10</td></tr><tr><td>test_accuracy</td><td>0.84086</td></tr><tr><td>test_loss</td><td>1.62169</td></tr><tr><td>train_accuracy</td><td>0.85251</td></tr><tr><td>train_loss</td><td>1.6104</td></tr></table><br/></div></div>"
            ]
          },
          "metadata": {}
        },
        {
          "output_type": "display_data",
          "data": {
            "text/plain": [
              "<IPython.core.display.HTML object>"
            ],
            "text/html": [
              "Synced <strong style=\"color:#cdcd00\">grateful-disco-7</strong>: <a href=\"https://wandb.ai/benyaminzojaji/pytorch-fashionMnist/runs/2zknbqd6\" target=\"_blank\">https://wandb.ai/benyaminzojaji/pytorch-fashionMnist/runs/2zknbqd6</a><br/>Synced 5 W&B file(s), 0 media file(s), 0 artifact file(s) and 0 other file(s)"
            ]
          },
          "metadata": {}
        },
        {
          "output_type": "display_data",
          "data": {
            "text/plain": [
              "<IPython.core.display.HTML object>"
            ],
            "text/html": [
              "Find logs at: <code>./wandb/run-20220408_114319-2zknbqd6/logs</code>"
            ]
          },
          "metadata": {}
        }
      ]
    },
    {
      "cell_type": "code",
      "source": [
        "# save\n",
        "torch.save(model.state_dict(), 'FashionMNIST.pth')"
      ],
      "metadata": {
        "id": "gFFMTrD1-L9u"
      },
      "execution_count": 57,
      "outputs": []
    },
    {
      "cell_type": "code",
      "source": [
        "# inference\n",
        "\n",
        "import cv2\n",
        "import numpy as np\n",
        "import time\n",
        "\n",
        "#model.train(False)\n",
        "model.eval()\n",
        "\n",
        "# oreoricess\n",
        "img = cv2.imread('/content/pullover.png')\n",
        "img = cv2.cvtColor(img, cv2.COLOR_BGR2GRAY)\n",
        "img = cv2.resize(img, (28, 28))\n",
        "tensor = transform(img).unsqueeze(0).to(device)\n",
        "\n",
        "# process\n",
        "start = time.time()\n",
        "preds = model(tensor)\n",
        "end = time.time()\n",
        "\n",
        "# postprocess\n",
        "# _, output=torch.max(preds, 1)\n",
        "preds = preds.cpu().detach().numpy()\n",
        "output = np.argmax(preds)\n",
        "classes = ['T-shirt/top', 'Trouser', 'Pullover', 'Dress', 'Coat', 'Sandal', 'Shirt', 'Sneaker', 'Bag', 'Ankle boot']\n",
        "print(f'{classes[output]}, Process-Time: {end-start}')"
      ],
      "metadata": {
        "colab": {
          "base_uri": "https://localhost:8080/"
        },
        "id": "xt1EyCKe-Phj",
        "outputId": "e0d9210c-10eb-45fc-f354-a8a873353ef7"
      },
      "execution_count": 60,
      "outputs": [
        {
          "output_type": "stream",
          "name": "stdout",
          "text": [
            "Pullover, Process-Time: 0.001168966293334961\n"
          ]
        }
      ]
    }
  ]
}